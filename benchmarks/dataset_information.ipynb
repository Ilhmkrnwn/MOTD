{
 "cells": [
  {
   "cell_type": "code",
   "execution_count": 1,
   "source": [
    "import pickle\n",
    "from timeit import default_timer as timer\n",
    "\n",
    "import numpy as np\n",
    "import pandas as pd\n",
    "\n",
    "import sys, os\n",
    "sys.path.insert(1, os.path.join(sys.path[0], \"..\"))\n",
    "from modt.modt import MoDT"
   ],
   "outputs": [],
   "metadata": {}
  },
  {
   "cell_type": "code",
   "execution_count": 2,
   "source": [
    "datasets = [\n",
    "    [\"abalone_input.pd\",\"abalone_target.pd\"], \n",
    "    [\"adult_input.pd\",\"adult_target.pd\"], # Large\n",
    "    [\"banknote_input.pd\",\"banknote_target.pd\"], # Easy\n",
    "    [\"bank_input.pd\",\"bank_target.pd\"], # Large\n",
    "    [\"breast_cancer_input.np\",\"breast_cancer_target.np\"],\n",
    "    [\"cars_input.pd\",\"cars_target.pd\"], \n",
    "    [\"contraceptive_input.pd\",\"contraceptive_target.pd\"], \n",
    "    [\"generated6_input.np\",\"generated6_target.np\"],\n",
    "    [\"hrss_input.pd\",\"hrss_target.pd\"], # Large\n",
    "    [\"iris_input.pd\",\"iris_target.pd\"],\n",
    "    [\"steel_input.pd\",\"steel_target.pd\"],\n",
    "    [\"students_input.pd\",\"students_target.pd\"],\n",
    "    [\"sensorless_input.pd\",\"sensorless_target.pd\"], # Very Large dataset\n",
    "]"
   ],
   "outputs": [],
   "metadata": {}
  },
  {
   "cell_type": "code",
   "execution_count": 3,
   "source": [
    "def get_info(dataset,time=False):\n",
    "    X = pickle.load(open(\"../datasets/\" + dataset[0], \"rb\"))\n",
    "    Y = pickle.load(open(\"../datasets/\" + dataset[1], \"rb\"))\n",
    "    if time:\n",
    "        start = timer()\n",
    "        modt = MoDT(X,Y,3,100,2)\n",
    "        modt.fit(early_stopping=False)\n",
    "        seconds = timer() - start\n",
    "        seconds = int(round(seconds,0))\n",
    "    if not isinstance(X, pd.core.frame.DataFrame):\n",
    "        X = pd.DataFrame(X)\n",
    "    if not isinstance(Y, pd.core.frame.DataFrame):\n",
    "        Y = pd.DataFrame(Y)\n",
    "\n",
    "    name = dataset[0].split(\"_\")[0]\n",
    "    n = X.shape[0]\n",
    "    f = X.shape[1]\n",
    "    t = len(Y.iloc[:,0].unique())\n",
    "    num = len(X.select_dtypes(include=[\"number\"]).columns)\n",
    "    cat = len(X.select_dtypes(exclude=[\"number\"]).columns)\n",
    "    modt = MoDT(X,Y,2,1,1)\n",
    "    f_transformed = modt.X.shape[1] - 1 \n",
    "\n",
    "    if time:\n",
    "        return [name,n,f_transformed,seconds]\n",
    "    else:\n",
    "        return [name,n,t,f,num,cat,f_transformed]"
   ],
   "outputs": [],
   "metadata": {}
  },
  {
   "cell_type": "code",
   "execution_count": 4,
   "source": [
    "for dataset in datasets:\n",
    "    print(' & '.join(map(str, get_info(dataset))), \"& \\\\\\\\\")\n",
    "    print(\"\\\\hline\")"
   ],
   "outputs": [
    {
     "output_type": "stream",
     "name": "stdout",
     "text": [
      "abalone & 4177 & 3 & 8 & 7 & 1 & 10 & \\\\\n",
      "\\hline\n",
      "adult & 30162 & 2 & 14 & 6 & 8 & 104 & \\\\\n",
      "\\hline\n",
      "banknote & 1372 & 2 & 4 & 4 & 0 & 4 & \\\\\n",
      "\\hline\n",
      "bank & 41188 & 2 & 20 & 10 & 10 & 63 & \\\\\n",
      "\\hline\n",
      "breast & 569 & 2 & 10 & 10 & 0 & 10 & \\\\\n",
      "\\hline\n",
      "cars & 1728 & 4 & 6 & 0 & 6 & 21 & \\\\\n",
      "\\hline\n",
      "contraceptive & 1473 & 3 & 9 & 2 & 7 & 24 & \\\\\n",
      "\\hline\n",
      "generated6 & 5000 & 5 & 2 & 2 & 0 & 2 & \\\\\n",
      "\\hline\n",
      "hrss & 23645 & 2 & 18 & 18 & 0 & 18 & \\\\\n",
      "\\hline\n",
      "iris & 150 & 3 & 4 & 4 & 0 & 4 & \\\\\n",
      "\\hline\n",
      "steel & 1941 & 7 & 27 & 27 & 0 & 27 & \\\\\n",
      "\\hline\n",
      "students & 666 & 4 & 11 & 0 & 11 & 49 & \\\\\n",
      "\\hline\n",
      "sensorless & 58509 & 11 & 48 & 48 & 0 & 48 & \\\\\n",
      "\\hline\n"
     ]
    }
   ],
   "metadata": {}
  },
  {
   "cell_type": "code",
   "execution_count": 5,
   "source": [
    "for dataset in datasets:\n",
    "    print(' & '.join(map(str, get_info(dataset, time=True))), \"\\\\\\\\\")"
   ],
   "outputs": [
    {
     "output_type": "stream",
     "name": "stdout",
     "text": [
      "abalone & 4177 & 10 & 1 \\\\\n",
      "adult & 30162 & 104 & 21 \\\\\n",
      "banknote & 1372 & 4 & 0 \\\\\n",
      "bank & 41188 & 63 & 21 \\\\\n",
      "breast & 569 & 10 & 0 \\\\\n",
      "cars & 1728 & 21 & 0 \\\\\n"
     ]
    }
   ],
   "metadata": {}
  },
  {
   "cell_type": "code",
   "execution_count": null,
   "source": [],
   "outputs": [],
   "metadata": {}
  }
 ],
 "metadata": {
  "orig_nbformat": 4,
  "language_info": {
   "name": "python",
   "version": "3.8.5",
   "mimetype": "text/x-python",
   "codemirror_mode": {
    "name": "ipython",
    "version": 3
   },
   "pygments_lexer": "ipython3",
   "nbconvert_exporter": "python",
   "file_extension": ".py"
  },
  "kernelspec": {
   "name": "python3",
   "display_name": "Python 3.8.5 64-bit ('MA1': conda)"
  },
  "interpreter": {
   "hash": "5ae178ee97b2b9495f18450d26f0b5808955ba0c9034008c9c01195a20c2e958"
  }
 },
 "nbformat": 4,
 "nbformat_minor": 2
}