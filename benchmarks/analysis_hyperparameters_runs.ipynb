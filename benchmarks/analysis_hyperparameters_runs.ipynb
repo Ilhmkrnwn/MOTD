{
 "metadata": {
  "language_info": {
   "codemirror_mode": {
    "name": "ipython",
    "version": 3
   },
   "file_extension": ".py",
   "mimetype": "text/x-python",
   "name": "python",
   "nbconvert_exporter": "python",
   "pygments_lexer": "ipython3",
   "version": "3.8.5"
  },
  "orig_nbformat": 4,
  "kernelspec": {
   "name": "python3",
   "display_name": "Python 3.8.5 64-bit ('MA1': conda)"
  },
  "interpreter": {
   "hash": "5ae178ee97b2b9495f18450d26f0b5808955ba0c9034008c9c01195a20c2e958"
  }
 },
 "nbformat": 4,
 "nbformat_minor": 2,
 "cells": [
  {
   "cell_type": "code",
   "execution_count": 4,
   "metadata": {},
   "outputs": [],
   "source": [
    "import pickle\n",
    "import pandas as pd\n",
    "import numpy as np\n",
    "\n",
    "#     optuna_hyperparameters_per_dataset.py\n",
    "#  -> analysis_hyperparameters.ipynb\n",
    "#  -> benchmark_best_hyperparameters.py\n",
    "#  -> analysis_hyperparameters_runs.ipynb"
   ]
  },
  {
   "cell_type": "code",
   "execution_count": 5,
   "metadata": {},
   "outputs": [],
   "source": [
    "df = pd.read_pickle(\"dataframes/df_runs_with_hyperparameters_per_dataset.pd\")"
   ]
  },
  {
   "cell_type": "code",
   "execution_count": 6,
   "metadata": {},
   "outputs": [
    {
     "output_type": "execute_result",
     "data": {
      "text/plain": [
       "             dataset  acc_train   acc_val  std_train   std_val\n",
       "0      cars_input.pd   0.907697  0.890828   0.021506  0.024857\n",
       "1  students_input.pd   0.518069  0.449992   0.012877  0.039600"
      ],
      "text/html": "<div>\n<style scoped>\n    .dataframe tbody tr th:only-of-type {\n        vertical-align: middle;\n    }\n\n    .dataframe tbody tr th {\n        vertical-align: top;\n    }\n\n    .dataframe thead th {\n        text-align: right;\n    }\n</style>\n<table border=\"1\" class=\"dataframe\">\n  <thead>\n    <tr style=\"text-align: right;\">\n      <th></th>\n      <th>dataset</th>\n      <th>acc_train</th>\n      <th>acc_val</th>\n      <th>std_train</th>\n      <th>std_val</th>\n    </tr>\n  </thead>\n  <tbody>\n    <tr>\n      <th>0</th>\n      <td>cars_input.pd</td>\n      <td>0.907697</td>\n      <td>0.890828</td>\n      <td>0.021506</td>\n      <td>0.024857</td>\n    </tr>\n    <tr>\n      <th>1</th>\n      <td>students_input.pd</td>\n      <td>0.518069</td>\n      <td>0.449992</td>\n      <td>0.012877</td>\n      <td>0.039600</td>\n    </tr>\n  </tbody>\n</table>\n</div>"
     },
     "metadata": {},
     "execution_count": 6
    }
   ],
   "source": [
    "df"
   ]
  },
  {
   "cell_type": "code",
   "execution_count": null,
   "metadata": {},
   "outputs": [],
   "source": []
  }
 ]
}