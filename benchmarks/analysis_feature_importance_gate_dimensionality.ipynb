{
 "cells": [
  {
   "cell_type": "code",
   "execution_count": 37,
   "metadata": {},
   "outputs": [],
   "source": [
    "import pickle\n",
    "import pandas as pd\n",
    "import numpy as np"
   ]
  },
  {
   "cell_type": "code",
   "execution_count": 38,
   "metadata": {},
   "outputs": [],
   "source": [
    "df = pd.read_pickle(\"dataframes/df_fi_performance.pd\")"
   ]
  },
  {
   "cell_type": "code",
   "execution_count": 39,
   "metadata": {},
   "outputs": [
    {
     "data": {
      "text/html": [
       "<div>\n",
       "<style scoped>\n",
       "    .dataframe tbody tr th:only-of-type {\n",
       "        vertical-align: middle;\n",
       "    }\n",
       "\n",
       "    .dataframe tbody tr th {\n",
       "        vertical-align: top;\n",
       "    }\n",
       "\n",
       "    .dataframe thead th {\n",
       "        text-align: right;\n",
       "    }\n",
       "</style>\n",
       "<table border=\"1\" class=\"dataframe\">\n",
       "  <thead>\n",
       "    <tr style=\"text-align: right;\">\n",
       "      <th></th>\n",
       "      <th>dataset</th>\n",
       "      <th>n_features</th>\n",
       "      <th>feature_importance_train</th>\n",
       "      <th>feature_importance_test</th>\n",
       "      <th>feature_importance_train_std</th>\n",
       "      <th>feature_importance_test_std</th>\n",
       "      <th>feature_importance_lda_train</th>\n",
       "      <th>feature_importance_lda_test</th>\n",
       "      <th>feature_importance_lda_train_std</th>\n",
       "      <th>feature_importance_lda_test_std</th>\n",
       "      <th>...</th>\n",
       "      <th>feature_importance_pca_loadings_train_std</th>\n",
       "      <th>feature_importance_pca_loadings_test_std</th>\n",
       "      <th>PCA_train</th>\n",
       "      <th>PCA_test</th>\n",
       "      <th>PCA_train_std</th>\n",
       "      <th>PCA_test_std</th>\n",
       "      <th>None_train</th>\n",
       "      <th>None_test</th>\n",
       "      <th>None_train_std</th>\n",
       "      <th>None_test_std</th>\n",
       "    </tr>\n",
       "  </thead>\n",
       "  <tbody>\n",
       "    <tr>\n",
       "      <th>0</th>\n",
       "      <td>breast_cancer_input.np</td>\n",
       "      <td>10</td>\n",
       "      <td>0.968366</td>\n",
       "      <td>0.934979</td>\n",
       "      <td>0.003284</td>\n",
       "      <td>0.014228</td>\n",
       "      <td>0.960896</td>\n",
       "      <td>0.920928</td>\n",
       "      <td>0.009573</td>\n",
       "      <td>0.007710</td>\n",
       "      <td>...</td>\n",
       "      <td>0.005129</td>\n",
       "      <td>0.028134</td>\n",
       "      <td>0.961767</td>\n",
       "      <td>0.917389</td>\n",
       "      <td>0.013096</td>\n",
       "      <td>0.032185</td>\n",
       "      <td>0.978032</td>\n",
       "      <td>0.913911</td>\n",
       "      <td>0.006666</td>\n",
       "      <td>0.025589</td>\n",
       "    </tr>\n",
       "    <tr>\n",
       "      <th>1</th>\n",
       "      <td>iris_input.pd</td>\n",
       "      <td>4</td>\n",
       "      <td>0.991667</td>\n",
       "      <td>0.953333</td>\n",
       "      <td>0.005270</td>\n",
       "      <td>0.026667</td>\n",
       "      <td>0.993333</td>\n",
       "      <td>0.953333</td>\n",
       "      <td>0.006236</td>\n",
       "      <td>0.033993</td>\n",
       "      <td>...</td>\n",
       "      <td>0.006236</td>\n",
       "      <td>0.048990</td>\n",
       "      <td>0.988333</td>\n",
       "      <td>0.933333</td>\n",
       "      <td>0.008498</td>\n",
       "      <td>0.036515</td>\n",
       "      <td>0.996667</td>\n",
       "      <td>0.960000</td>\n",
       "      <td>0.004082</td>\n",
       "      <td>0.038873</td>\n",
       "    </tr>\n",
       "  </tbody>\n",
       "</table>\n",
       "<p>2 rows × 38 columns</p>\n",
       "</div>"
      ],
      "text/plain": [
       "                  dataset  n_features  feature_importance_train  \\\n",
       "0  breast_cancer_input.np          10                  0.968366   \n",
       "1           iris_input.pd           4                  0.991667   \n",
       "\n",
       "   feature_importance_test  feature_importance_train_std  \\\n",
       "0                 0.934979                      0.003284   \n",
       "1                 0.953333                      0.005270   \n",
       "\n",
       "   feature_importance_test_std  feature_importance_lda_train  \\\n",
       "0                     0.014228                      0.960896   \n",
       "1                     0.026667                      0.993333   \n",
       "\n",
       "   feature_importance_lda_test  feature_importance_lda_train_std  \\\n",
       "0                     0.920928                          0.009573   \n",
       "1                     0.953333                          0.006236   \n",
       "\n",
       "   feature_importance_lda_test_std  ...  \\\n",
       "0                         0.007710  ...   \n",
       "1                         0.033993  ...   \n",
       "\n",
       "   feature_importance_pca_loadings_train_std  \\\n",
       "0                                   0.005129   \n",
       "1                                   0.006236   \n",
       "\n",
       "   feature_importance_pca_loadings_test_std  PCA_train  PCA_test  \\\n",
       "0                                  0.028134   0.961767  0.917389   \n",
       "1                                  0.048990   0.988333  0.933333   \n",
       "\n",
       "   PCA_train_std  PCA_test_std  None_train  None_test  None_train_std  \\\n",
       "0       0.013096      0.032185    0.978032   0.913911        0.006666   \n",
       "1       0.008498      0.036515    0.996667   0.960000        0.004082   \n",
       "\n",
       "   None_test_std  \n",
       "0       0.025589  \n",
       "1       0.038873  \n",
       "\n",
       "[2 rows x 38 columns]"
      ]
     },
     "execution_count": 39,
     "metadata": {},
     "output_type": "execute_result"
    }
   ],
   "source": [
    "df"
   ]
  },
  {
   "cell_type": "code",
   "execution_count": 40,
   "metadata": {
    "scrolled": true
   },
   "outputs": [
    {
     "data": {
      "text/plain": [
       "Index(['dataset', 'n_features', 'feature_importance_train',\n",
       "       'feature_importance_test', 'feature_importance_train_std',\n",
       "       'feature_importance_test_std', 'feature_importance_lda_train',\n",
       "       'feature_importance_lda_test', 'feature_importance_lda_train_std',\n",
       "       'feature_importance_lda_test_std', 'feature_importance_lda_max_train',\n",
       "       'feature_importance_lda_max_test',\n",
       "       'feature_importance_lda_max_train_std',\n",
       "       'feature_importance_lda_max_test_std', 'feature_importance_lr_train',\n",
       "       'feature_importance_lr_test', 'feature_importance_lr_train_std',\n",
       "       'feature_importance_lr_test_std', 'feature_importance_lr_max_train',\n",
       "       'feature_importance_lr_max_test', 'feature_importance_lr_max_train_std',\n",
       "       'feature_importance_lr_max_test_std', 'feature_importance_xgb_train',\n",
       "       'feature_importance_xgb_test', 'feature_importance_xgb_train_std',\n",
       "       'feature_importance_xgb_test_std',\n",
       "       'feature_importance_pca_loadings_train',\n",
       "       'feature_importance_pca_loadings_test',\n",
       "       'feature_importance_pca_loadings_train_std',\n",
       "       'feature_importance_pca_loadings_test_std', 'PCA_train', 'PCA_test',\n",
       "       'PCA_train_std', 'PCA_test_std', 'None_train', 'None_test',\n",
       "       'None_train_std', 'None_test_std'],\n",
       "      dtype='object')"
      ]
     },
     "execution_count": 40,
     "metadata": {},
     "output_type": "execute_result"
    }
   ],
   "source": [
    "df.columns"
   ]
  },
  {
   "cell_type": "code",
   "execution_count": 46,
   "metadata": {},
   "outputs": [],
   "source": [
    "def printer(row, name):\n",
    "    test = name + \"_test\"\n",
    "    std = name + \"_test_std\"\n",
    "    return \"\" + (\"%.2f\" % round(row[test], 2)).lstrip(\"0\") + \" $\\\\pm$\" + (\"%.2f\" % round(row[std], 2)).lstrip(\"0\") + \" & \""
   ]
  },
  {
   "cell_type": "code",
   "execution_count": 47,
   "metadata": {},
   "outputs": [
    {
     "name": "stdout",
     "output_type": "stream",
     "text": [
      "breast cancer & .93 $\\pm$.01 & .92 $\\pm$.01 & .92 $\\pm$.01 & .92 $\\pm$.01 & .93 $\\pm$.02 & .91 $\\pm$.02 & .90 $\\pm$.03 \\\\\n",
      "iris & .95 $\\pm$.03 & .95 $\\pm$.03 & .97 $\\pm$.02 & .94 $\\pm$.04 & .96 $\\pm$.05 & .97 $\\pm$.02 & .96 $\\pm$.05 \\\\\n"
     ]
    }
   ],
   "source": [
    "for index, row in df.iterrows():\n",
    "    str1 = row.dataset.replace(\"_input\",\"\").replace(\".pd\",\"\").replace(\".np\",\"\").replace(\"_\",\" \") + \" & \"        \n",
    "   # str1 += str(row.n_features - 1) + \"& \"\n",
    "    str1 += printer(row,\"feature_importance\")\n",
    "    str1 += printer(row,\"feature_importance_lda\")\n",
    "    str1 += printer(row,\"feature_importance_lda_max\")\n",
    "    str1 += printer(row,\"feature_importance_lr\")\n",
    "    str1 += printer(row,\"feature_importance_lr_max\")\n",
    "    str1 += printer(row,\"feature_importance_xgb\")\n",
    "    str1 += printer(row,\"feature_importance_pca_loadings\")        \n",
    " #   str1 += printer(row,\"PCA\")\n",
    "#    str1 += printer(row,\"None\")\n",
    "    str1 = str1[:-2]\n",
    "    str1 +=  \"\\\\\\\\\"\n",
    "    print(str1)\n",
    "           "
   ]
  },
  {
   "cell_type": "code",
   "execution_count": null,
   "metadata": {},
   "outputs": [],
   "source": []
  }
 ],
 "metadata": {
  "interpreter": {
   "hash": "5ae178ee97b2b9495f18450d26f0b5808955ba0c9034008c9c01195a20c2e958"
  },
  "kernelspec": {
   "display_name": "Python 3",
   "language": "python",
   "name": "python3"
  },
  "language_info": {
   "codemirror_mode": {
    "name": "ipython",
    "version": 3
   },
   "file_extension": ".py",
   "mimetype": "text/x-python",
   "name": "python",
   "nbconvert_exporter": "python",
   "pygments_lexer": "ipython3",
   "version": "3.7.0"
  }
 },
 "nbformat": 4,
 "nbformat_minor": 2
}
