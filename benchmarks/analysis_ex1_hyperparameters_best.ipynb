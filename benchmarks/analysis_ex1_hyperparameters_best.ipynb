{
 "cells": [
  {
   "cell_type": "code",
   "execution_count": 1,
   "source": [
    "import pickle\n",
    "import pandas as pd\n",
    "import numpy as np\n",
    "from sklearn import tree\n",
    "from sklearn.model_selection import RepeatedKFold\n",
    "\n",
    "import sys, os\n",
    "sys.path.insert(1, os.path.join(sys.path[0], \"..\"))\n",
    "from modt.modt import MoDT\n",
    "\n",
    "#     optuna_ex1_hyperparameters_per_dataset.py\n",
    "#  -> analysis_ex1_hyperparameters.ipynb\n",
    "#  -> benchmark_ex1_best_hyperparameters.py\n",
    "#  -> analysis_ex1_hyperparameters_best.ipynb"
   ],
   "outputs": [],
   "metadata": {}
  },
  {
   "cell_type": "code",
   "execution_count": 2,
   "source": [
    "df = pd.read_pickle(\"dataframes/ex1_df_runs_with_hyperparameters_per_dataset_FG_e3_d2.pd\") #CHANGE"
   ],
   "outputs": [],
   "metadata": {}
  },
  {
   "cell_type": "code",
   "execution_count": 3,
   "source": [
    "df"
   ],
   "outputs": [
    {
     "output_type": "execute_result",
     "data": {
      "text/plain": [
       "                   dataset  acc_train   acc_val  std_train   std_val\n",
       "0         abalone_input.pd   0.737079  0.721140   0.007772  0.013922\n",
       "1           adult_input.pd   0.840277  0.835610   0.001200  0.013667\n",
       "2            bank_input.pd   0.911964  0.906160   0.002626  0.024989\n",
       "3        banknote_input.pd   0.997075  0.992609   0.002832  0.005645\n",
       "4   breast_cancer_input.np   0.966573  0.924780   0.007139  0.020943\n",
       "5            cars_input.pd   0.804209  0.795498   0.014990  0.018751\n",
       "6   contraceptive_input.pd   0.588065  0.559744   0.012452  0.028444\n",
       "7      generated6_input.np   0.969355  0.965232   0.004528  0.006312\n",
       "8            hrss_input.pd   0.774616  0.773898   0.002766  0.005019\n",
       "9            iris_input.pd   0.989511  0.951888   0.007836  0.034196\n",
       "10          steel_input.pd   0.680264  0.656253   0.023153  0.029662\n",
       "11       students_input.pd   0.548310  0.468085   0.021396  0.048643"
      ],
      "text/html": "<div>\n<style scoped>\n    .dataframe tbody tr th:only-of-type {\n        vertical-align: middle;\n    }\n\n    .dataframe tbody tr th {\n        vertical-align: top;\n    }\n\n    .dataframe thead th {\n        text-align: right;\n    }\n</style>\n<table border=\"1\" class=\"dataframe\">\n  <thead>\n    <tr style=\"text-align: right;\">\n      <th></th>\n      <th>dataset</th>\n      <th>acc_train</th>\n      <th>acc_val</th>\n      <th>std_train</th>\n      <th>std_val</th>\n    </tr>\n  </thead>\n  <tbody>\n    <tr>\n      <th>0</th>\n      <td>abalone_input.pd</td>\n      <td>0.737079</td>\n      <td>0.721140</td>\n      <td>0.007772</td>\n      <td>0.013922</td>\n    </tr>\n    <tr>\n      <th>1</th>\n      <td>adult_input.pd</td>\n      <td>0.840277</td>\n      <td>0.835610</td>\n      <td>0.001200</td>\n      <td>0.013667</td>\n    </tr>\n    <tr>\n      <th>2</th>\n      <td>bank_input.pd</td>\n      <td>0.911964</td>\n      <td>0.906160</td>\n      <td>0.002626</td>\n      <td>0.024989</td>\n    </tr>\n    <tr>\n      <th>3</th>\n      <td>banknote_input.pd</td>\n      <td>0.997075</td>\n      <td>0.992609</td>\n      <td>0.002832</td>\n      <td>0.005645</td>\n    </tr>\n    <tr>\n      <th>4</th>\n      <td>breast_cancer_input.np</td>\n      <td>0.966573</td>\n      <td>0.924780</td>\n      <td>0.007139</td>\n      <td>0.020943</td>\n    </tr>\n    <tr>\n      <th>5</th>\n      <td>cars_input.pd</td>\n      <td>0.804209</td>\n      <td>0.795498</td>\n      <td>0.014990</td>\n      <td>0.018751</td>\n    </tr>\n    <tr>\n      <th>6</th>\n      <td>contraceptive_input.pd</td>\n      <td>0.588065</td>\n      <td>0.559744</td>\n      <td>0.012452</td>\n      <td>0.028444</td>\n    </tr>\n    <tr>\n      <th>7</th>\n      <td>generated6_input.np</td>\n      <td>0.969355</td>\n      <td>0.965232</td>\n      <td>0.004528</td>\n      <td>0.006312</td>\n    </tr>\n    <tr>\n      <th>8</th>\n      <td>hrss_input.pd</td>\n      <td>0.774616</td>\n      <td>0.773898</td>\n      <td>0.002766</td>\n      <td>0.005019</td>\n    </tr>\n    <tr>\n      <th>9</th>\n      <td>iris_input.pd</td>\n      <td>0.989511</td>\n      <td>0.951888</td>\n      <td>0.007836</td>\n      <td>0.034196</td>\n    </tr>\n    <tr>\n      <th>10</th>\n      <td>steel_input.pd</td>\n      <td>0.680264</td>\n      <td>0.656253</td>\n      <td>0.023153</td>\n      <td>0.029662</td>\n    </tr>\n    <tr>\n      <th>11</th>\n      <td>students_input.pd</td>\n      <td>0.548310</td>\n      <td>0.468085</td>\n      <td>0.021396</td>\n      <td>0.048643</td>\n    </tr>\n  </tbody>\n</table>\n</div>"
     },
     "metadata": {},
     "execution_count": 3
    }
   ],
   "metadata": {}
  },
  {
   "cell_type": "markdown",
   "source": [
    "# Comparison with plain scikit-learn DTs"
   ],
   "metadata": {}
  },
  {
   "cell_type": "code",
   "execution_count": 4,
   "source": [
    "def k_fold(data_input,data_target,depth,n_repeats):\n",
    "\n",
    "    use_dataframe = False\n",
    "    if isinstance(data_input, pd.core.frame.DataFrame):\n",
    "        use_dataframe = True\n",
    "\n",
    "    accuracies_training = []\n",
    "    accuracies_validation = []\n",
    "\n",
    "    rkf = RepeatedKFold(n_splits=4, n_repeats=n_repeats)\n",
    "    for train_idx, val_idx in rkf.split(data_input):\n",
    "        \n",
    "        if use_dataframe:\n",
    "            X_temp = data_input.iloc[train_idx].reset_index(inplace=False, drop=True)\n",
    "            y_temp = data_target.iloc[train_idx].reset_index(inplace=False, drop=True)\n",
    "        else:\n",
    "            X_temp = data_input[train_idx]\n",
    "            y_temp = data_target[train_idx]\n",
    "\n",
    "        clf = tree.DecisionTreeClassifier(max_depth=depth)\n",
    "        clf = clf.fit(X_temp, y_temp)\n",
    "        accuracies_training.append(clf.score(X_temp,y_temp))\n",
    "\n",
    "        if use_dataframe:\n",
    "            X_temp = data_input.iloc[val_idx].reset_index(inplace=False, drop=True)\n",
    "            y_temp = data_target.iloc[val_idx].reset_index(inplace=False, drop=True)\n",
    "        else:\n",
    "            X_temp = data_input[val_idx]\n",
    "            y_temp = data_target[val_idx]\n",
    "        accuracies_validation.append(clf.score(X_temp,y_temp))\n",
    "\n",
    "    dict_results = {}\n",
    "    dict_results[\"accuracy_train\"] = accuracies_training\n",
    "    dict_results[\"accuracy_val\"] = accuracies_validation\n",
    "\n",
    "    return dict_results"
   ],
   "outputs": [],
   "metadata": {}
  },
  {
   "cell_type": "code",
   "execution_count": 5,
   "source": [
    "datasets = np.unique(df[\"dataset\"])\n",
    "runs = 100\n",
    "results_rows = []\n",
    "depth_row = {}\n",
    "depths = [2,3,4]\n",
    "df_results = pd.DataFrame(results_rows)\n",
    "for dataset in datasets:\n",
    "    data_input = pickle.load(open(\"../datasets/\" + dataset, \"rb\"))\n",
    "    data_target = pickle.load(open(\"../datasets/\" + dataset.replace(\"input\",\"target\"), \"rb\"))\n",
    "\n",
    "    modt = MoDT(data_input,data_target,n_experts=2,iterations=1,max_depth=1)  # Params do not matter, used for equivalent data pre-processing\n",
    "\n",
    "    for depth in depths:\n",
    "        dict_results = k_fold(modt.X, modt.y, depth=depth, n_repeats=runs)\n",
    "        accuracies_training = dict_results[\"accuracy_train\"]\n",
    "        accuracies_validation = dict_results[\"accuracy_val\"]\n",
    "\n",
    "        row = {\n",
    "            \"dataset\" : dataset,\n",
    "            \"acc_trainDT\" + str(depth) : np.mean(accuracies_training),\n",
    "            \"acc_valDT\" + str(depth) : np.mean(accuracies_validation),\n",
    "            \"std_trainDT\" + str(depth) : np.std(accuracies_training),\n",
    "            \"std_valDT\" + str(depth) : np.std(accuracies_validation),\n",
    "        }\n",
    "        depth_row = {**depth_row, **row}\n",
    "    results_rows.append(depth_row)\n",
    "        \n",
    "df_results = pd.DataFrame(results_rows)"
   ],
   "outputs": [],
   "metadata": {}
  },
  {
   "cell_type": "code",
   "execution_count": 6,
   "source": [
    "df_results"
   ],
   "outputs": [
    {
     "output_type": "execute_result",
     "data": {
      "text/plain": [
       "                   dataset  acc_trainDT2  acc_valDT2  std_trainDT2  \\\n",
       "0         abalone_input.pd      0.681998    0.671910      0.008878   \n",
       "1           adult_input.pd      0.824220    0.824163      0.001331   \n",
       "2            bank_input.pd      0.903712    0.903222      0.000904   \n",
       "3        banknote_input.pd      0.915897    0.903776      0.006020   \n",
       "4   breast_cancer_input.np      0.936297    0.913709      0.008778   \n",
       "5            cars_input.pd      0.777778    0.777778      0.005792   \n",
       "6   contraceptive_input.pd      0.494637    0.474141      0.017081   \n",
       "7      generated6_input.np      0.741035    0.737750      0.004026   \n",
       "8            hrss_input.pd      0.763430    0.763217      0.001815   \n",
       "9            iris_input.pd      0.964176    0.936198      0.009131   \n",
       "10          steel_input.pd      0.536802    0.532456      0.006668   \n",
       "11       students_input.pd      0.495871    0.481965      0.010640   \n",
       "\n",
       "    std_valDT2  acc_trainDT3  acc_valDT3  std_trainDT3  std_valDT3  \\\n",
       "0     0.013857      0.705388    0.696230      0.004809    0.012943   \n",
       "1     0.004002      0.840320    0.840160      0.001237    0.003694   \n",
       "2     0.002412      0.908872    0.908157      0.000866    0.002229   \n",
       "3     0.015103      0.940938    0.932194      0.006294    0.014595   \n",
       "4     0.020847      0.958939    0.923572      0.006346    0.020570   \n",
       "5     0.017377      0.807668    0.798385      0.005810    0.015734   \n",
       "6     0.024974      0.532077    0.519523      0.012011    0.025821   \n",
       "7     0.011063      0.749773    0.742364      0.007727    0.013620   \n",
       "8     0.004984      0.768267    0.767503      0.002074    0.004918   \n",
       "9     0.032923      0.976512    0.943195      0.009547    0.038656   \n",
       "10    0.019806      0.553728    0.535652      0.007687    0.018133   \n",
       "11    0.035186      0.533208    0.509860      0.011827    0.032464   \n",
       "\n",
       "    acc_trainDT4  acc_valDT4  std_trainDT4  std_valDT4  \n",
       "0       0.724076    0.706505      0.009758    0.014635  \n",
       "1       0.841458    0.840737      0.002404    0.003872  \n",
       "2       0.914318    0.912247      0.000865    0.002419  \n",
       "3       0.967230    0.954001      0.009038    0.014599  \n",
       "4       0.974065    0.923510      0.006204    0.019213  \n",
       "5       0.820035    0.804115      0.007546    0.017212  \n",
       "6       0.574852    0.555402      0.010220    0.024689  \n",
       "7       0.823915    0.815724      0.007660    0.011697  \n",
       "8       0.771804    0.770777      0.002784    0.005030  \n",
       "9       0.992400    0.942601      0.007219    0.032482  \n",
       "10      0.626112    0.608938      0.012139    0.021017  \n",
       "11      0.556366    0.498272      0.013987    0.036594  "
      ],
      "text/html": "<div>\n<style scoped>\n    .dataframe tbody tr th:only-of-type {\n        vertical-align: middle;\n    }\n\n    .dataframe tbody tr th {\n        vertical-align: top;\n    }\n\n    .dataframe thead th {\n        text-align: right;\n    }\n</style>\n<table border=\"1\" class=\"dataframe\">\n  <thead>\n    <tr style=\"text-align: right;\">\n      <th></th>\n      <th>dataset</th>\n      <th>acc_trainDT2</th>\n      <th>acc_valDT2</th>\n      <th>std_trainDT2</th>\n      <th>std_valDT2</th>\n      <th>acc_trainDT3</th>\n      <th>acc_valDT3</th>\n      <th>std_trainDT3</th>\n      <th>std_valDT3</th>\n      <th>acc_trainDT4</th>\n      <th>acc_valDT4</th>\n      <th>std_trainDT4</th>\n      <th>std_valDT4</th>\n    </tr>\n  </thead>\n  <tbody>\n    <tr>\n      <th>0</th>\n      <td>abalone_input.pd</td>\n      <td>0.681998</td>\n      <td>0.671910</td>\n      <td>0.008878</td>\n      <td>0.013857</td>\n      <td>0.705388</td>\n      <td>0.696230</td>\n      <td>0.004809</td>\n      <td>0.012943</td>\n      <td>0.724076</td>\n      <td>0.706505</td>\n      <td>0.009758</td>\n      <td>0.014635</td>\n    </tr>\n    <tr>\n      <th>1</th>\n      <td>adult_input.pd</td>\n      <td>0.824220</td>\n      <td>0.824163</td>\n      <td>0.001331</td>\n      <td>0.004002</td>\n      <td>0.840320</td>\n      <td>0.840160</td>\n      <td>0.001237</td>\n      <td>0.003694</td>\n      <td>0.841458</td>\n      <td>0.840737</td>\n      <td>0.002404</td>\n      <td>0.003872</td>\n    </tr>\n    <tr>\n      <th>2</th>\n      <td>bank_input.pd</td>\n      <td>0.903712</td>\n      <td>0.903222</td>\n      <td>0.000904</td>\n      <td>0.002412</td>\n      <td>0.908872</td>\n      <td>0.908157</td>\n      <td>0.000866</td>\n      <td>0.002229</td>\n      <td>0.914318</td>\n      <td>0.912247</td>\n      <td>0.000865</td>\n      <td>0.002419</td>\n    </tr>\n    <tr>\n      <th>3</th>\n      <td>banknote_input.pd</td>\n      <td>0.915897</td>\n      <td>0.903776</td>\n      <td>0.006020</td>\n      <td>0.015103</td>\n      <td>0.940938</td>\n      <td>0.932194</td>\n      <td>0.006294</td>\n      <td>0.014595</td>\n      <td>0.967230</td>\n      <td>0.954001</td>\n      <td>0.009038</td>\n      <td>0.014599</td>\n    </tr>\n    <tr>\n      <th>4</th>\n      <td>breast_cancer_input.np</td>\n      <td>0.936297</td>\n      <td>0.913709</td>\n      <td>0.008778</td>\n      <td>0.020847</td>\n      <td>0.958939</td>\n      <td>0.923572</td>\n      <td>0.006346</td>\n      <td>0.020570</td>\n      <td>0.974065</td>\n      <td>0.923510</td>\n      <td>0.006204</td>\n      <td>0.019213</td>\n    </tr>\n    <tr>\n      <th>5</th>\n      <td>cars_input.pd</td>\n      <td>0.777778</td>\n      <td>0.777778</td>\n      <td>0.005792</td>\n      <td>0.017377</td>\n      <td>0.807668</td>\n      <td>0.798385</td>\n      <td>0.005810</td>\n      <td>0.015734</td>\n      <td>0.820035</td>\n      <td>0.804115</td>\n      <td>0.007546</td>\n      <td>0.017212</td>\n    </tr>\n    <tr>\n      <th>6</th>\n      <td>contraceptive_input.pd</td>\n      <td>0.494637</td>\n      <td>0.474141</td>\n      <td>0.017081</td>\n      <td>0.024974</td>\n      <td>0.532077</td>\n      <td>0.519523</td>\n      <td>0.012011</td>\n      <td>0.025821</td>\n      <td>0.574852</td>\n      <td>0.555402</td>\n      <td>0.010220</td>\n      <td>0.024689</td>\n    </tr>\n    <tr>\n      <th>7</th>\n      <td>generated6_input.np</td>\n      <td>0.741035</td>\n      <td>0.737750</td>\n      <td>0.004026</td>\n      <td>0.011063</td>\n      <td>0.749773</td>\n      <td>0.742364</td>\n      <td>0.007727</td>\n      <td>0.013620</td>\n      <td>0.823915</td>\n      <td>0.815724</td>\n      <td>0.007660</td>\n      <td>0.011697</td>\n    </tr>\n    <tr>\n      <th>8</th>\n      <td>hrss_input.pd</td>\n      <td>0.763430</td>\n      <td>0.763217</td>\n      <td>0.001815</td>\n      <td>0.004984</td>\n      <td>0.768267</td>\n      <td>0.767503</td>\n      <td>0.002074</td>\n      <td>0.004918</td>\n      <td>0.771804</td>\n      <td>0.770777</td>\n      <td>0.002784</td>\n      <td>0.005030</td>\n    </tr>\n    <tr>\n      <th>9</th>\n      <td>iris_input.pd</td>\n      <td>0.964176</td>\n      <td>0.936198</td>\n      <td>0.009131</td>\n      <td>0.032923</td>\n      <td>0.976512</td>\n      <td>0.943195</td>\n      <td>0.009547</td>\n      <td>0.038656</td>\n      <td>0.992400</td>\n      <td>0.942601</td>\n      <td>0.007219</td>\n      <td>0.032482</td>\n    </tr>\n    <tr>\n      <th>10</th>\n      <td>steel_input.pd</td>\n      <td>0.536802</td>\n      <td>0.532456</td>\n      <td>0.006668</td>\n      <td>0.019806</td>\n      <td>0.553728</td>\n      <td>0.535652</td>\n      <td>0.007687</td>\n      <td>0.018133</td>\n      <td>0.626112</td>\n      <td>0.608938</td>\n      <td>0.012139</td>\n      <td>0.021017</td>\n    </tr>\n    <tr>\n      <th>11</th>\n      <td>students_input.pd</td>\n      <td>0.495871</td>\n      <td>0.481965</td>\n      <td>0.010640</td>\n      <td>0.035186</td>\n      <td>0.533208</td>\n      <td>0.509860</td>\n      <td>0.011827</td>\n      <td>0.032464</td>\n      <td>0.556366</td>\n      <td>0.498272</td>\n      <td>0.013987</td>\n      <td>0.036594</td>\n    </tr>\n  </tbody>\n</table>\n</div>"
     },
     "metadata": {},
     "execution_count": 6
    }
   ],
   "metadata": {}
  },
  {
   "cell_type": "code",
   "execution_count": 7,
   "source": [
    "df_c = pd.concat([df, df_results], axis=1)\n",
    "df_c = df_c.loc[:,~df_c.columns.duplicated()]"
   ],
   "outputs": [],
   "metadata": {}
  },
  {
   "cell_type": "code",
   "execution_count": 8,
   "source": [
    "df_c"
   ],
   "outputs": [
    {
     "output_type": "execute_result",
     "data": {
      "text/plain": [
       "                   dataset  acc_train   acc_val  std_train   std_val  \\\n",
       "0         abalone_input.pd   0.737079  0.721140   0.007772  0.013922   \n",
       "1           adult_input.pd   0.840277  0.835610   0.001200  0.013667   \n",
       "2            bank_input.pd   0.911964  0.906160   0.002626  0.024989   \n",
       "3        banknote_input.pd   0.997075  0.992609   0.002832  0.005645   \n",
       "4   breast_cancer_input.np   0.966573  0.924780   0.007139  0.020943   \n",
       "5            cars_input.pd   0.804209  0.795498   0.014990  0.018751   \n",
       "6   contraceptive_input.pd   0.588065  0.559744   0.012452  0.028444   \n",
       "7      generated6_input.np   0.969355  0.965232   0.004528  0.006312   \n",
       "8            hrss_input.pd   0.774616  0.773898   0.002766  0.005019   \n",
       "9            iris_input.pd   0.989511  0.951888   0.007836  0.034196   \n",
       "10          steel_input.pd   0.680264  0.656253   0.023153  0.029662   \n",
       "11       students_input.pd   0.548310  0.468085   0.021396  0.048643   \n",
       "\n",
       "    acc_trainDT2  acc_valDT2  std_trainDT2  std_valDT2  acc_trainDT3  \\\n",
       "0       0.681998    0.671910      0.008878    0.013857      0.705388   \n",
       "1       0.824220    0.824163      0.001331    0.004002      0.840320   \n",
       "2       0.903712    0.903222      0.000904    0.002412      0.908872   \n",
       "3       0.915897    0.903776      0.006020    0.015103      0.940938   \n",
       "4       0.936297    0.913709      0.008778    0.020847      0.958939   \n",
       "5       0.777778    0.777778      0.005792    0.017377      0.807668   \n",
       "6       0.494637    0.474141      0.017081    0.024974      0.532077   \n",
       "7       0.741035    0.737750      0.004026    0.011063      0.749773   \n",
       "8       0.763430    0.763217      0.001815    0.004984      0.768267   \n",
       "9       0.964176    0.936198      0.009131    0.032923      0.976512   \n",
       "10      0.536802    0.532456      0.006668    0.019806      0.553728   \n",
       "11      0.495871    0.481965      0.010640    0.035186      0.533208   \n",
       "\n",
       "    acc_valDT3  std_trainDT3  std_valDT3  acc_trainDT4  acc_valDT4  \\\n",
       "0     0.696230      0.004809    0.012943      0.724076    0.706505   \n",
       "1     0.840160      0.001237    0.003694      0.841458    0.840737   \n",
       "2     0.908157      0.000866    0.002229      0.914318    0.912247   \n",
       "3     0.932194      0.006294    0.014595      0.967230    0.954001   \n",
       "4     0.923572      0.006346    0.020570      0.974065    0.923510   \n",
       "5     0.798385      0.005810    0.015734      0.820035    0.804115   \n",
       "6     0.519523      0.012011    0.025821      0.574852    0.555402   \n",
       "7     0.742364      0.007727    0.013620      0.823915    0.815724   \n",
       "8     0.767503      0.002074    0.004918      0.771804    0.770777   \n",
       "9     0.943195      0.009547    0.038656      0.992400    0.942601   \n",
       "10    0.535652      0.007687    0.018133      0.626112    0.608938   \n",
       "11    0.509860      0.011827    0.032464      0.556366    0.498272   \n",
       "\n",
       "    std_trainDT4  std_valDT4  \n",
       "0       0.009758    0.014635  \n",
       "1       0.002404    0.003872  \n",
       "2       0.000865    0.002419  \n",
       "3       0.009038    0.014599  \n",
       "4       0.006204    0.019213  \n",
       "5       0.007546    0.017212  \n",
       "6       0.010220    0.024689  \n",
       "7       0.007660    0.011697  \n",
       "8       0.002784    0.005030  \n",
       "9       0.007219    0.032482  \n",
       "10      0.012139    0.021017  \n",
       "11      0.013987    0.036594  "
      ],
      "text/html": "<div>\n<style scoped>\n    .dataframe tbody tr th:only-of-type {\n        vertical-align: middle;\n    }\n\n    .dataframe tbody tr th {\n        vertical-align: top;\n    }\n\n    .dataframe thead th {\n        text-align: right;\n    }\n</style>\n<table border=\"1\" class=\"dataframe\">\n  <thead>\n    <tr style=\"text-align: right;\">\n      <th></th>\n      <th>dataset</th>\n      <th>acc_train</th>\n      <th>acc_val</th>\n      <th>std_train</th>\n      <th>std_val</th>\n      <th>acc_trainDT2</th>\n      <th>acc_valDT2</th>\n      <th>std_trainDT2</th>\n      <th>std_valDT2</th>\n      <th>acc_trainDT3</th>\n      <th>acc_valDT3</th>\n      <th>std_trainDT3</th>\n      <th>std_valDT3</th>\n      <th>acc_trainDT4</th>\n      <th>acc_valDT4</th>\n      <th>std_trainDT4</th>\n      <th>std_valDT4</th>\n    </tr>\n  </thead>\n  <tbody>\n    <tr>\n      <th>0</th>\n      <td>abalone_input.pd</td>\n      <td>0.737079</td>\n      <td>0.721140</td>\n      <td>0.007772</td>\n      <td>0.013922</td>\n      <td>0.681998</td>\n      <td>0.671910</td>\n      <td>0.008878</td>\n      <td>0.013857</td>\n      <td>0.705388</td>\n      <td>0.696230</td>\n      <td>0.004809</td>\n      <td>0.012943</td>\n      <td>0.724076</td>\n      <td>0.706505</td>\n      <td>0.009758</td>\n      <td>0.014635</td>\n    </tr>\n    <tr>\n      <th>1</th>\n      <td>adult_input.pd</td>\n      <td>0.840277</td>\n      <td>0.835610</td>\n      <td>0.001200</td>\n      <td>0.013667</td>\n      <td>0.824220</td>\n      <td>0.824163</td>\n      <td>0.001331</td>\n      <td>0.004002</td>\n      <td>0.840320</td>\n      <td>0.840160</td>\n      <td>0.001237</td>\n      <td>0.003694</td>\n      <td>0.841458</td>\n      <td>0.840737</td>\n      <td>0.002404</td>\n      <td>0.003872</td>\n    </tr>\n    <tr>\n      <th>2</th>\n      <td>bank_input.pd</td>\n      <td>0.911964</td>\n      <td>0.906160</td>\n      <td>0.002626</td>\n      <td>0.024989</td>\n      <td>0.903712</td>\n      <td>0.903222</td>\n      <td>0.000904</td>\n      <td>0.002412</td>\n      <td>0.908872</td>\n      <td>0.908157</td>\n      <td>0.000866</td>\n      <td>0.002229</td>\n      <td>0.914318</td>\n      <td>0.912247</td>\n      <td>0.000865</td>\n      <td>0.002419</td>\n    </tr>\n    <tr>\n      <th>3</th>\n      <td>banknote_input.pd</td>\n      <td>0.997075</td>\n      <td>0.992609</td>\n      <td>0.002832</td>\n      <td>0.005645</td>\n      <td>0.915897</td>\n      <td>0.903776</td>\n      <td>0.006020</td>\n      <td>0.015103</td>\n      <td>0.940938</td>\n      <td>0.932194</td>\n      <td>0.006294</td>\n      <td>0.014595</td>\n      <td>0.967230</td>\n      <td>0.954001</td>\n      <td>0.009038</td>\n      <td>0.014599</td>\n    </tr>\n    <tr>\n      <th>4</th>\n      <td>breast_cancer_input.np</td>\n      <td>0.966573</td>\n      <td>0.924780</td>\n      <td>0.007139</td>\n      <td>0.020943</td>\n      <td>0.936297</td>\n      <td>0.913709</td>\n      <td>0.008778</td>\n      <td>0.020847</td>\n      <td>0.958939</td>\n      <td>0.923572</td>\n      <td>0.006346</td>\n      <td>0.020570</td>\n      <td>0.974065</td>\n      <td>0.923510</td>\n      <td>0.006204</td>\n      <td>0.019213</td>\n    </tr>\n    <tr>\n      <th>5</th>\n      <td>cars_input.pd</td>\n      <td>0.804209</td>\n      <td>0.795498</td>\n      <td>0.014990</td>\n      <td>0.018751</td>\n      <td>0.777778</td>\n      <td>0.777778</td>\n      <td>0.005792</td>\n      <td>0.017377</td>\n      <td>0.807668</td>\n      <td>0.798385</td>\n      <td>0.005810</td>\n      <td>0.015734</td>\n      <td>0.820035</td>\n      <td>0.804115</td>\n      <td>0.007546</td>\n      <td>0.017212</td>\n    </tr>\n    <tr>\n      <th>6</th>\n      <td>contraceptive_input.pd</td>\n      <td>0.588065</td>\n      <td>0.559744</td>\n      <td>0.012452</td>\n      <td>0.028444</td>\n      <td>0.494637</td>\n      <td>0.474141</td>\n      <td>0.017081</td>\n      <td>0.024974</td>\n      <td>0.532077</td>\n      <td>0.519523</td>\n      <td>0.012011</td>\n      <td>0.025821</td>\n      <td>0.574852</td>\n      <td>0.555402</td>\n      <td>0.010220</td>\n      <td>0.024689</td>\n    </tr>\n    <tr>\n      <th>7</th>\n      <td>generated6_input.np</td>\n      <td>0.969355</td>\n      <td>0.965232</td>\n      <td>0.004528</td>\n      <td>0.006312</td>\n      <td>0.741035</td>\n      <td>0.737750</td>\n      <td>0.004026</td>\n      <td>0.011063</td>\n      <td>0.749773</td>\n      <td>0.742364</td>\n      <td>0.007727</td>\n      <td>0.013620</td>\n      <td>0.823915</td>\n      <td>0.815724</td>\n      <td>0.007660</td>\n      <td>0.011697</td>\n    </tr>\n    <tr>\n      <th>8</th>\n      <td>hrss_input.pd</td>\n      <td>0.774616</td>\n      <td>0.773898</td>\n      <td>0.002766</td>\n      <td>0.005019</td>\n      <td>0.763430</td>\n      <td>0.763217</td>\n      <td>0.001815</td>\n      <td>0.004984</td>\n      <td>0.768267</td>\n      <td>0.767503</td>\n      <td>0.002074</td>\n      <td>0.004918</td>\n      <td>0.771804</td>\n      <td>0.770777</td>\n      <td>0.002784</td>\n      <td>0.005030</td>\n    </tr>\n    <tr>\n      <th>9</th>\n      <td>iris_input.pd</td>\n      <td>0.989511</td>\n      <td>0.951888</td>\n      <td>0.007836</td>\n      <td>0.034196</td>\n      <td>0.964176</td>\n      <td>0.936198</td>\n      <td>0.009131</td>\n      <td>0.032923</td>\n      <td>0.976512</td>\n      <td>0.943195</td>\n      <td>0.009547</td>\n      <td>0.038656</td>\n      <td>0.992400</td>\n      <td>0.942601</td>\n      <td>0.007219</td>\n      <td>0.032482</td>\n    </tr>\n    <tr>\n      <th>10</th>\n      <td>steel_input.pd</td>\n      <td>0.680264</td>\n      <td>0.656253</td>\n      <td>0.023153</td>\n      <td>0.029662</td>\n      <td>0.536802</td>\n      <td>0.532456</td>\n      <td>0.006668</td>\n      <td>0.019806</td>\n      <td>0.553728</td>\n      <td>0.535652</td>\n      <td>0.007687</td>\n      <td>0.018133</td>\n      <td>0.626112</td>\n      <td>0.608938</td>\n      <td>0.012139</td>\n      <td>0.021017</td>\n    </tr>\n    <tr>\n      <th>11</th>\n      <td>students_input.pd</td>\n      <td>0.548310</td>\n      <td>0.468085</td>\n      <td>0.021396</td>\n      <td>0.048643</td>\n      <td>0.495871</td>\n      <td>0.481965</td>\n      <td>0.010640</td>\n      <td>0.035186</td>\n      <td>0.533208</td>\n      <td>0.509860</td>\n      <td>0.011827</td>\n      <td>0.032464</td>\n      <td>0.556366</td>\n      <td>0.498272</td>\n      <td>0.013987</td>\n      <td>0.036594</td>\n    </tr>\n  </tbody>\n</table>\n</div>"
     },
     "metadata": {},
     "execution_count": 8
    }
   ],
   "metadata": {}
  },
  {
   "cell_type": "code",
   "execution_count": 9,
   "source": [
    "for index, row in df_c.iterrows():\n",
    "    print(row.dataset.replace(\"_input\",\"\").replace(\".pd\",\"\").replace(\".np\",\"\").replace(\"_\",\" \"), \"&\",\n",
    "     (\"%.2f\" % round(row.acc_train,2)).lstrip('0'), \"$\\\\pm$\", (\"%.2f\" % round(row.std_train,2)).lstrip('0'), \"&\",\n",
    "     (\"%.2f\" % round(row.acc_val,2)).lstrip('0'), \"$\\\\pm$\", (\"%.2f\" % round(row.std_val,2)).lstrip('0'), \"&\",\n",
    "     (\"%.2f\" % round(row.acc_valDT2\t,2)).lstrip('0'), \"$\\\\pm$\", (\"%.2f\" % round(row.std_valDT2,2)).lstrip('0'), \"&\",\n",
    "     (\"%.2f\" % round(row.acc_valDT3\t,2)).lstrip('0'), \"$\\\\pm$\", (\"%.2f\" % round(row.std_valDT3,2)).lstrip('0'), \"&\",\n",
    "     (\"%.2f\" % round(row.acc_valDT4\t,2)).lstrip('0'), \"$\\\\pm$\", (\"%.2f\" % round(row.std_valDT4,2)).lstrip('0'), \n",
    "      \"\\\\\\\\\")"
   ],
   "outputs": [
    {
     "output_type": "stream",
     "name": "stdout",
     "text": [
      "abalone & .74 $\\pm$ .01 & .72 $\\pm$ .01 & .67 $\\pm$ .01 & .70 $\\pm$ .01 & .71 $\\pm$ .01 \\\\\nadult & .84 $\\pm$ .00 & .84 $\\pm$ .01 & .82 $\\pm$ .00 & .84 $\\pm$ .00 & .84 $\\pm$ .00 \\\\\nbank & .91 $\\pm$ .00 & .91 $\\pm$ .02 & .90 $\\pm$ .00 & .91 $\\pm$ .00 & .91 $\\pm$ .00 \\\\\nbanknote & 1.00 $\\pm$ .00 & .99 $\\pm$ .01 & .90 $\\pm$ .02 & .93 $\\pm$ .01 & .95 $\\pm$ .01 \\\\\nbreast cancer & .97 $\\pm$ .01 & .92 $\\pm$ .02 & .91 $\\pm$ .02 & .92 $\\pm$ .02 & .92 $\\pm$ .02 \\\\\ncars & .80 $\\pm$ .01 & .80 $\\pm$ .02 & .78 $\\pm$ .02 & .80 $\\pm$ .02 & .80 $\\pm$ .02 \\\\\ncontraceptive & .59 $\\pm$ .01 & .56 $\\pm$ .03 & .47 $\\pm$ .02 & .52 $\\pm$ .03 & .56 $\\pm$ .02 \\\\\ngenerated6 & .97 $\\pm$ .00 & .97 $\\pm$ .01 & .74 $\\pm$ .01 & .74 $\\pm$ .01 & .82 $\\pm$ .01 \\\\\nhrss & .77 $\\pm$ .00 & .77 $\\pm$ .01 & .76 $\\pm$ .00 & .77 $\\pm$ .00 & .77 $\\pm$ .01 \\\\\niris & .99 $\\pm$ .01 & .95 $\\pm$ .03 & .94 $\\pm$ .03 & .94 $\\pm$ .04 & .94 $\\pm$ .03 \\\\\nsteel & .68 $\\pm$ .02 & .66 $\\pm$ .03 & .53 $\\pm$ .02 & .54 $\\pm$ .02 & .61 $\\pm$ .02 \\\\\nstudents & .55 $\\pm$ .02 & .47 $\\pm$ .05 & .48 $\\pm$ .04 & .51 $\\pm$ .03 & .50 $\\pm$ .04 \\\\\n"
     ]
    }
   ],
   "metadata": {}
  },
  {
   "cell_type": "code",
   "execution_count": 10,
   "source": [
    "df_c[[\"acc_train\",\"acc_trainDT2\"]]"
   ],
   "outputs": [
    {
     "output_type": "execute_result",
     "data": {
      "text/plain": [
       "    acc_train  acc_trainDT2\n",
       "0    0.737079      0.681998\n",
       "1    0.840277      0.824220\n",
       "2    0.911964      0.903712\n",
       "3    0.997075      0.915897\n",
       "4    0.966573      0.936297\n",
       "5    0.804209      0.777778\n",
       "6    0.588065      0.494637\n",
       "7    0.969355      0.741035\n",
       "8    0.774616      0.763430\n",
       "9    0.989511      0.964176\n",
       "10   0.680264      0.536802\n",
       "11   0.548310      0.495871"
      ],
      "text/html": "<div>\n<style scoped>\n    .dataframe tbody tr th:only-of-type {\n        vertical-align: middle;\n    }\n\n    .dataframe tbody tr th {\n        vertical-align: top;\n    }\n\n    .dataframe thead th {\n        text-align: right;\n    }\n</style>\n<table border=\"1\" class=\"dataframe\">\n  <thead>\n    <tr style=\"text-align: right;\">\n      <th></th>\n      <th>acc_train</th>\n      <th>acc_trainDT2</th>\n    </tr>\n  </thead>\n  <tbody>\n    <tr>\n      <th>0</th>\n      <td>0.737079</td>\n      <td>0.681998</td>\n    </tr>\n    <tr>\n      <th>1</th>\n      <td>0.840277</td>\n      <td>0.824220</td>\n    </tr>\n    <tr>\n      <th>2</th>\n      <td>0.911964</td>\n      <td>0.903712</td>\n    </tr>\n    <tr>\n      <th>3</th>\n      <td>0.997075</td>\n      <td>0.915897</td>\n    </tr>\n    <tr>\n      <th>4</th>\n      <td>0.966573</td>\n      <td>0.936297</td>\n    </tr>\n    <tr>\n      <th>5</th>\n      <td>0.804209</td>\n      <td>0.777778</td>\n    </tr>\n    <tr>\n      <th>6</th>\n      <td>0.588065</td>\n      <td>0.494637</td>\n    </tr>\n    <tr>\n      <th>7</th>\n      <td>0.969355</td>\n      <td>0.741035</td>\n    </tr>\n    <tr>\n      <th>8</th>\n      <td>0.774616</td>\n      <td>0.763430</td>\n    </tr>\n    <tr>\n      <th>9</th>\n      <td>0.989511</td>\n      <td>0.964176</td>\n    </tr>\n    <tr>\n      <th>10</th>\n      <td>0.680264</td>\n      <td>0.536802</td>\n    </tr>\n    <tr>\n      <th>11</th>\n      <td>0.548310</td>\n      <td>0.495871</td>\n    </tr>\n  </tbody>\n</table>\n</div>"
     },
     "metadata": {},
     "execution_count": 10
    }
   ],
   "metadata": {}
  },
  {
   "cell_type": "code",
   "execution_count": null,
   "source": [],
   "outputs": [],
   "metadata": {}
  }
 ],
 "metadata": {
  "interpreter": {
   "hash": "8a90dff821462728905d080773a3725eb443efa125022e7307d36f683ce19798"
  },
  "kernelspec": {
   "name": "python3",
   "display_name": "Python 3.8.5 64-bit ('MA1': conda)"
  },
  "language_info": {
   "codemirror_mode": {
    "name": "ipython",
    "version": 3
   },
   "file_extension": ".py",
   "mimetype": "text/x-python",
   "name": "python",
   "nbconvert_exporter": "python",
   "pygments_lexer": "ipython3",
   "version": "3.8.5"
  }
 },
 "nbformat": 4,
 "nbformat_minor": 2
}