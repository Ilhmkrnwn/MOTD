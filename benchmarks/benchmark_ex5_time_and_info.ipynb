{
 "cells": [
  {
   "cell_type": "code",
   "execution_count": 25,
   "source": [
    "import pickle\n",
    "from timeit import default_timer as timer\n",
    "\n",
    "import numpy as np\n",
    "import pandas as pd\n",
    "\n",
    "import sys, os\n",
    "sys.path.insert(1, os.path.join(sys.path[0], \"..\"))\n",
    "from modt.modt import MoDT"
   ],
   "outputs": [],
   "metadata": {}
  },
  {
   "cell_type": "code",
   "execution_count": 26,
   "source": [
    "datasets = [\n",
    "    [\"abalone_input.pd\",\"abalone_target.pd\"], \n",
    "    [\"adult_input.pd\",\"adult_target.pd\"], # Large\n",
    "    [\"banknote_input.pd\",\"banknote_target.pd\"], # Easy\n",
    "    [\"bank_input.pd\",\"bank_target.pd\"], # Large\n",
    "    [\"breast_cancer_input.np\",\"breast_cancer_target.np\"],\n",
    "    [\"cars_input.pd\",\"cars_target.pd\"], \n",
    "    [\"contraceptive_input.pd\",\"contraceptive_target.pd\"], \n",
    "    [\"generated6_input.np\",\"generated6_target.np\"],\n",
    "    [\"hrss_input.pd\",\"hrss_target.pd\"], # Large\n",
    "    [\"iris_input.pd\",\"iris_target.pd\"],\n",
    "    [\"steel_input.pd\",\"steel_target.pd\"],\n",
    "    [\"students_input.pd\",\"students_target.pd\"],\n",
    "    [\"sensorless_input.pd\",\"sensorless_target.pd\"], # Very Large dataset\n",
    "]"
   ],
   "outputs": [],
   "metadata": {}
  },
  {
   "cell_type": "code",
   "execution_count": 27,
   "source": [
    "runs=10"
   ],
   "outputs": [],
   "metadata": {}
  },
  {
   "cell_type": "code",
   "execution_count": 28,
   "source": [
    "def get_info(dataset,time=False):\n",
    "    X = pickle.load(open(\"../datasets/\" + dataset[0], \"rb\"))\n",
    "    Y = pickle.load(open(\"../datasets/\" + dataset[1], \"rb\"))\n",
    "    if time:\n",
    "        # seconds = []\n",
    "        # for _ in range(runs):\n",
    "        #     start = timer()\n",
    "        #     modt = MoDT(X,Y,3,100,2)\n",
    "        #     modt.fit(early_stopping=False)\n",
    "        #     seconds.append(timer() - start)\n",
    "        # seconds_FG = round(np.mean(seconds),1)\n",
    "        # seconds = []\n",
    "        # for _ in range(runs):\n",
    "        #     start = timer()\n",
    "        #     modt = MoDT(X,Y,3,100,2)\n",
    "        #     modt.fit(early_stopping=\"likelihood\")\n",
    "        #     seconds.append(timer() - start)\n",
    "        # seconds_FG_l = round(np.mean(seconds),1)\n",
    "        # seconds = []\n",
    "        # for _ in range(runs):\n",
    "        #     start = timer()\n",
    "        #     modt = MoDT(X,Y,3,100,2)\n",
    "        #     modt.fit(early_stopping=\"accuracy\")\n",
    "        #     seconds.append(timer() - start)\n",
    "        # seconds_FG_a = round(np.mean(seconds),1)\n",
    "        seconds = []\n",
    "        for _ in range(runs):\n",
    "            start = timer()\n",
    "            modt = MoDT(X,Y,3,100,2,use_2_dim_gate_based_on=\"feature_importance_lda\")\n",
    "            modt.fit(early_stopping=False)\n",
    "            seconds.append(timer() - start)\n",
    "        seconds_2D = round(np.mean(seconds),1)\n",
    "    if not isinstance(X, pd.core.frame.DataFrame):\n",
    "        X = pd.DataFrame(X)\n",
    "    if not isinstance(Y, pd.core.frame.DataFrame):\n",
    "        Y = pd.DataFrame(Y)\n",
    "\n",
    "    name = dataset[0].split(\"_\")[0]\n",
    "    n = X.shape[0]\n",
    "    f = X.shape[1]\n",
    "    t = len(Y.iloc[:,0].unique())\n",
    "    num = len(X.select_dtypes(include=[\"number\"]).columns)\n",
    "    cat = len(X.select_dtypes(exclude=[\"number\"]).columns)\n",
    "    modt = MoDT(X,Y,2,1,1)\n",
    "    f_transformed = modt.X.shape[1] - 1 \n",
    "\n",
    "    if time:\n",
    "        return [name,n,f_transformed,seconds_2D] #,seconds_FG,seconds_FG_l,seconds_FG_a]\n",
    "    else:\n",
    "        return [name,n,t,f,num,cat,f_transformed]"
   ],
   "outputs": [],
   "metadata": {}
  },
  {
   "cell_type": "code",
   "execution_count": 29,
   "source": [
    "for dataset in datasets:\n",
    "    print(' & '.join(map(str, get_info(dataset))), \"& \\\\\\\\\")\n",
    "    print(\"\\\\hline\")"
   ],
   "outputs": [
    {
     "output_type": "stream",
     "name": "stdout",
     "text": [
      "abalone & 4177 & 3 & 8 & 7 & 1 & 10 & \\\\\n",
      "\\hline\n",
      "adult & 30162 & 2 & 14 & 6 & 8 & 104 & \\\\\n",
      "\\hline\n",
      "banknote & 1372 & 2 & 4 & 4 & 0 & 4 & \\\\\n",
      "\\hline\n",
      "bank & 41188 & 2 & 20 & 10 & 10 & 63 & \\\\\n",
      "\\hline\n",
      "breast & 569 & 2 & 10 & 10 & 0 & 10 & \\\\\n",
      "\\hline\n",
      "cars & 1728 & 4 & 6 & 0 & 6 & 21 & \\\\\n",
      "\\hline\n",
      "contraceptive & 1473 & 3 & 9 & 2 & 7 & 24 & \\\\\n",
      "\\hline\n",
      "generated6 & 5000 & 5 & 2 & 2 & 0 & 2 & \\\\\n",
      "\\hline\n",
      "hrss & 23645 & 2 & 18 & 18 & 0 & 18 & \\\\\n",
      "\\hline\n",
      "iris & 150 & 3 & 4 & 4 & 0 & 4 & \\\\\n",
      "\\hline\n",
      "steel & 1941 & 7 & 27 & 27 & 0 & 27 & \\\\\n",
      "\\hline\n",
      "students & 666 & 4 & 11 & 0 & 11 & 49 & \\\\\n",
      "\\hline\n"
     ]
    }
   ],
   "metadata": {}
  },
  {
   "cell_type": "code",
   "execution_count": null,
   "source": [
    "for dataset in datasets:\n",
    "    print(' & '.join(map(str, get_info(dataset, time=True))), \"\\\\\\\\\")"
   ],
   "outputs": [
    {
     "output_type": "stream",
     "name": "stdout",
     "text": [
      "abalone & 4177 & 10 & 1.4 \\\\\n",
      "adult & 30162 & 104 & 19.6 \\\\\n",
      "banknote & 1372 & 4 & 0.5 \\\\\n"
     ]
    },
    {
     "output_type": "error",
     "ename": "KeyboardInterrupt",
     "evalue": "",
     "traceback": [
      "\u001b[1;31m---------------------------------------------------------------------------\u001b[0m",
      "\u001b[1;31mKeyboardInterrupt\u001b[0m                         Traceback (most recent call last)",
      "\u001b[1;32m<ipython-input-24-96c059436bb1>\u001b[0m in \u001b[0;36m<module>\u001b[1;34m\u001b[0m\n\u001b[0;32m      1\u001b[0m \u001b[1;32mfor\u001b[0m \u001b[0mdataset\u001b[0m \u001b[1;32min\u001b[0m \u001b[0mdatasets\u001b[0m\u001b[1;33m:\u001b[0m\u001b[1;33m\u001b[0m\u001b[1;33m\u001b[0m\u001b[0m\n\u001b[1;32m----> 2\u001b[1;33m     \u001b[0mprint\u001b[0m\u001b[1;33m(\u001b[0m\u001b[1;34m' & '\u001b[0m\u001b[1;33m.\u001b[0m\u001b[0mjoin\u001b[0m\u001b[1;33m(\u001b[0m\u001b[0mmap\u001b[0m\u001b[1;33m(\u001b[0m\u001b[0mstr\u001b[0m\u001b[1;33m,\u001b[0m \u001b[0mget_info\u001b[0m\u001b[1;33m(\u001b[0m\u001b[0mdataset\u001b[0m\u001b[1;33m,\u001b[0m \u001b[0mtime\u001b[0m\u001b[1;33m=\u001b[0m\u001b[1;32mTrue\u001b[0m\u001b[1;33m)\u001b[0m\u001b[1;33m)\u001b[0m\u001b[1;33m)\u001b[0m\u001b[1;33m,\u001b[0m \u001b[1;34m\"\\\\\\\\\"\u001b[0m\u001b[1;33m)\u001b[0m\u001b[1;33m\u001b[0m\u001b[1;33m\u001b[0m\u001b[0m\n\u001b[0m",
      "\u001b[1;32m<ipython-input-22-fb17d02b48ba>\u001b[0m in \u001b[0;36mget_info\u001b[1;34m(dataset, time)\u001b[0m\n\u001b[0;32m     28\u001b[0m             \u001b[0mstart\u001b[0m \u001b[1;33m=\u001b[0m \u001b[0mtimer\u001b[0m\u001b[1;33m(\u001b[0m\u001b[1;33m)\u001b[0m\u001b[1;33m\u001b[0m\u001b[1;33m\u001b[0m\u001b[0m\n\u001b[0;32m     29\u001b[0m             \u001b[0mmodt\u001b[0m \u001b[1;33m=\u001b[0m \u001b[0mMoDT\u001b[0m\u001b[1;33m(\u001b[0m\u001b[0mX\u001b[0m\u001b[1;33m,\u001b[0m\u001b[0mY\u001b[0m\u001b[1;33m,\u001b[0m\u001b[1;36m3\u001b[0m\u001b[1;33m,\u001b[0m\u001b[1;36m100\u001b[0m\u001b[1;33m,\u001b[0m\u001b[1;36m2\u001b[0m\u001b[1;33m,\u001b[0m\u001b[0muse_2_dim_gate_based_on\u001b[0m\u001b[1;33m=\u001b[0m\u001b[1;34m\"feature_importance_lda\"\u001b[0m\u001b[1;33m)\u001b[0m\u001b[1;33m\u001b[0m\u001b[1;33m\u001b[0m\u001b[0m\n\u001b[1;32m---> 30\u001b[1;33m             \u001b[0mmodt\u001b[0m\u001b[1;33m.\u001b[0m\u001b[0mfit\u001b[0m\u001b[1;33m(\u001b[0m\u001b[0mearly_stopping\u001b[0m\u001b[1;33m=\u001b[0m\u001b[1;32mFalse\u001b[0m\u001b[1;33m)\u001b[0m\u001b[1;33m\u001b[0m\u001b[1;33m\u001b[0m\u001b[0m\n\u001b[0m\u001b[0;32m     31\u001b[0m             \u001b[0mseconds\u001b[0m\u001b[1;33m.\u001b[0m\u001b[0mappend\u001b[0m\u001b[1;33m(\u001b[0m\u001b[0mtimer\u001b[0m\u001b[1;33m(\u001b[0m\u001b[1;33m)\u001b[0m \u001b[1;33m-\u001b[0m \u001b[0mstart\u001b[0m\u001b[1;33m)\u001b[0m\u001b[1;33m\u001b[0m\u001b[1;33m\u001b[0m\u001b[0m\n\u001b[0;32m     32\u001b[0m         \u001b[0mseconds_2D\u001b[0m \u001b[1;33m=\u001b[0m \u001b[0mround\u001b[0m\u001b[1;33m(\u001b[0m\u001b[0mnp\u001b[0m\u001b[1;33m.\u001b[0m\u001b[0mmean\u001b[0m\u001b[1;33m(\u001b[0m\u001b[0mseconds\u001b[0m\u001b[1;33m)\u001b[0m\u001b[1;33m,\u001b[0m\u001b[1;36m1\u001b[0m\u001b[1;33m)\u001b[0m\u001b[1;33m\u001b[0m\u001b[1;33m\u001b[0m\u001b[0m\n",
      "\u001b[1;32mc:\\Users\\Robert\\Code\\mixture-of-decision-trees\\benchmarks\\..\\modt\\modt.py\u001b[0m in \u001b[0;36mfit\u001b[1;34m(self, optimization_method, early_stopping, use_posterior, **optimization_kwargs)\u001b[0m\n\u001b[0;32m    388\u001b[0m         \u001b[1;32mfor\u001b[0m \u001b[0miteration\u001b[0m \u001b[1;32min\u001b[0m \u001b[0mrange\u001b[0m\u001b[1;33m(\u001b[0m\u001b[1;36m0\u001b[0m\u001b[1;33m,\u001b[0m \u001b[0mself\u001b[0m\u001b[1;33m.\u001b[0m\u001b[0miterations\u001b[0m\u001b[1;33m)\u001b[0m\u001b[1;33m:\u001b[0m\u001b[1;33m\u001b[0m\u001b[1;33m\u001b[0m\u001b[0m\n\u001b[0;32m    389\u001b[0m \u001b[1;33m\u001b[0m\u001b[0m\n\u001b[1;32m--> 390\u001b[1;33m             \u001b[0mself\u001b[0m\u001b[1;33m.\u001b[0m\u001b[0m_e_step\u001b[0m\u001b[1;33m(\u001b[0m\u001b[0mX_gate\u001b[0m\u001b[1;33m)\u001b[0m\u001b[1;33m\u001b[0m\u001b[1;33m\u001b[0m\u001b[0m\n\u001b[0m\u001b[0;32m    391\u001b[0m             \u001b[0mself\u001b[0m\u001b[1;33m.\u001b[0m\u001b[0m_log_values_to_array\u001b[0m\u001b[1;33m(\u001b[0m\u001b[1;33m)\u001b[0m  \u001b[1;31m# After E step: Theta, DTs and gating values are in sync\u001b[0m\u001b[1;33m\u001b[0m\u001b[1;33m\u001b[0m\u001b[0m\n\u001b[0;32m    392\u001b[0m \u001b[1;33m\u001b[0m\u001b[0m\n",
      "\u001b[1;32mc:\\Users\\Robert\\Code\\mixture-of-decision-trees\\benchmarks\\..\\modt\\modt.py\u001b[0m in \u001b[0;36m_e_step\u001b[1;34m(self, X_gate)\u001b[0m\n\u001b[0;32m    426\u001b[0m         \u001b[0mself\u001b[0m\u001b[1;33m.\u001b[0m\u001b[0mgating_values\u001b[0m \u001b[1;33m=\u001b[0m \u001b[0mself\u001b[0m\u001b[1;33m.\u001b[0m\u001b[0m_gating_softmax\u001b[0m\u001b[1;33m(\u001b[0m\u001b[0mX\u001b[0m\u001b[1;33m=\u001b[0m\u001b[0mX_gate\u001b[0m\u001b[1;33m,\u001b[0m \u001b[0mtheta_gating\u001b[0m\u001b[1;33m=\u001b[0m\u001b[0mself\u001b[0m\u001b[1;33m.\u001b[0m\u001b[0mtheta_gating\u001b[0m\u001b[1;33m)\u001b[0m\u001b[1;33m\u001b[0m\u001b[1;33m\u001b[0m\u001b[0m\n\u001b[0;32m    427\u001b[0m         \u001b[0mself\u001b[0m\u001b[1;33m.\u001b[0m\u001b[0mgating_values\u001b[0m \u001b[1;33m=\u001b[0m \u001b[0mnp\u001b[0m\u001b[1;33m.\u001b[0m\u001b[0mnan_to_num\u001b[0m\u001b[1;33m(\u001b[0m\u001b[0mself\u001b[0m\u001b[1;33m.\u001b[0m\u001b[0mgating_values\u001b[0m\u001b[1;33m)\u001b[0m\u001b[1;33m\u001b[0m\u001b[1;33m\u001b[0m\u001b[0m\n\u001b[1;32m--> 428\u001b[1;33m         \u001b[0mself\u001b[0m\u001b[1;33m.\u001b[0m\u001b[0m_train_trees\u001b[0m\u001b[1;33m(\u001b[0m\u001b[1;33m)\u001b[0m\u001b[1;33m\u001b[0m\u001b[1;33m\u001b[0m\u001b[0m\n\u001b[0m\u001b[0;32m    429\u001b[0m \u001b[1;33m\u001b[0m\u001b[0m\n\u001b[0;32m    430\u001b[0m         \u001b[0mself\u001b[0m\u001b[1;33m.\u001b[0m\u001b[0mposterior_probabilities\u001b[0m \u001b[1;33m=\u001b[0m \u001b[0mself\u001b[0m\u001b[1;33m.\u001b[0m\u001b[0m_posterior_probabilties\u001b[0m\u001b[1;33m(\u001b[0m\u001b[1;33m)\u001b[0m\u001b[1;33m\u001b[0m\u001b[1;33m\u001b[0m\u001b[0m\n",
      "\u001b[1;32mc:\\Users\\Robert\\Code\\mixture-of-decision-trees\\benchmarks\\..\\modt\\modt.py\u001b[0m in \u001b[0;36m_train_trees\u001b[1;34m(self)\u001b[0m\n\u001b[0;32m    517\u001b[0m         \u001b[1;32mfor\u001b[0m \u001b[0mindex_expert\u001b[0m \u001b[1;32min\u001b[0m \u001b[0mrange\u001b[0m\u001b[1;33m(\u001b[0m\u001b[1;36m0\u001b[0m\u001b[1;33m,\u001b[0m \u001b[0mself\u001b[0m\u001b[1;33m.\u001b[0m\u001b[0mn_experts\u001b[0m\u001b[1;33m)\u001b[0m\u001b[1;33m:\u001b[0m\u001b[1;33m\u001b[0m\u001b[1;33m\u001b[0m\u001b[0m\n\u001b[0;32m    518\u001b[0m             \u001b[0mDT_experts\u001b[0m\u001b[1;33m[\u001b[0m\u001b[0mindex_expert\u001b[0m\u001b[1;33m]\u001b[0m \u001b[1;33m=\u001b[0m \u001b[0mtree\u001b[0m\u001b[1;33m.\u001b[0m\u001b[0mDecisionTreeClassifier\u001b[0m\u001b[1;33m(\u001b[0m\u001b[0mmax_depth\u001b[0m\u001b[1;33m=\u001b[0m\u001b[0mself\u001b[0m\u001b[1;33m.\u001b[0m\u001b[0mmax_depth\u001b[0m\u001b[1;33m)\u001b[0m\u001b[1;33m\u001b[0m\u001b[1;33m\u001b[0m\u001b[0m\n\u001b[1;32m--> 519\u001b[1;33m             \u001b[0mDT_experts\u001b[0m\u001b[1;33m[\u001b[0m\u001b[0mindex_expert\u001b[0m\u001b[1;33m]\u001b[0m\u001b[1;33m.\u001b[0m\u001b[0mfit\u001b[0m\u001b[1;33m(\u001b[0m\u001b[0mX\u001b[0m\u001b[1;33m=\u001b[0m\u001b[0mself\u001b[0m\u001b[1;33m.\u001b[0m\u001b[0mX\u001b[0m\u001b[1;33m,\u001b[0m \u001b[0my\u001b[0m\u001b[1;33m=\u001b[0m\u001b[0mself\u001b[0m\u001b[1;33m.\u001b[0m\u001b[0my\u001b[0m\u001b[1;33m,\u001b[0m \u001b[0msample_weight\u001b[0m\u001b[1;33m=\u001b[0m\u001b[0mself\u001b[0m\u001b[1;33m.\u001b[0m\u001b[0mgating_values\u001b[0m\u001b[1;33m[\u001b[0m\u001b[1;33m:\u001b[0m\u001b[1;33m,\u001b[0m \u001b[0mindex_expert\u001b[0m\u001b[1;33m]\u001b[0m\u001b[1;33m)\u001b[0m  \u001b[1;31m# Training weighted by gating values\u001b[0m\u001b[1;33m\u001b[0m\u001b[1;33m\u001b[0m\u001b[0m\n\u001b[0m\u001b[0;32m    520\u001b[0m         \u001b[0mself\u001b[0m\u001b[1;33m.\u001b[0m\u001b[0mDT_experts\u001b[0m \u001b[1;33m=\u001b[0m \u001b[0mDT_experts\u001b[0m\u001b[1;33m\u001b[0m\u001b[1;33m\u001b[0m\u001b[0m\n\u001b[0;32m    521\u001b[0m \u001b[1;33m\u001b[0m\u001b[0m\n",
      "\u001b[1;32m~\\Anaconda3\\envs\\MA1\\lib\\site-packages\\sklearn\\tree\\_classes.py\u001b[0m in \u001b[0;36mfit\u001b[1;34m(self, X, y, sample_weight, check_input, X_idx_sorted)\u001b[0m\n\u001b[0;32m    896\u001b[0m         \"\"\"\n\u001b[0;32m    897\u001b[0m \u001b[1;33m\u001b[0m\u001b[0m\n\u001b[1;32m--> 898\u001b[1;33m         super().fit(\n\u001b[0m\u001b[0;32m    899\u001b[0m             \u001b[0mX\u001b[0m\u001b[1;33m,\u001b[0m \u001b[0my\u001b[0m\u001b[1;33m,\u001b[0m\u001b[1;33m\u001b[0m\u001b[1;33m\u001b[0m\u001b[0m\n\u001b[0;32m    900\u001b[0m             \u001b[0msample_weight\u001b[0m\u001b[1;33m=\u001b[0m\u001b[0msample_weight\u001b[0m\u001b[1;33m,\u001b[0m\u001b[1;33m\u001b[0m\u001b[1;33m\u001b[0m\u001b[0m\n",
      "\u001b[1;32m~\\Anaconda3\\envs\\MA1\\lib\\site-packages\\sklearn\\tree\\_classes.py\u001b[0m in \u001b[0;36mfit\u001b[1;34m(self, X, y, sample_weight, check_input, X_idx_sorted)\u001b[0m\n\u001b[0;32m    387\u001b[0m                                            min_impurity_split)\n\u001b[0;32m    388\u001b[0m \u001b[1;33m\u001b[0m\u001b[0m\n\u001b[1;32m--> 389\u001b[1;33m         \u001b[0mbuilder\u001b[0m\u001b[1;33m.\u001b[0m\u001b[0mbuild\u001b[0m\u001b[1;33m(\u001b[0m\u001b[0mself\u001b[0m\u001b[1;33m.\u001b[0m\u001b[0mtree_\u001b[0m\u001b[1;33m,\u001b[0m \u001b[0mX\u001b[0m\u001b[1;33m,\u001b[0m \u001b[0my\u001b[0m\u001b[1;33m,\u001b[0m \u001b[0msample_weight\u001b[0m\u001b[1;33m)\u001b[0m\u001b[1;33m\u001b[0m\u001b[1;33m\u001b[0m\u001b[0m\n\u001b[0m\u001b[0;32m    390\u001b[0m \u001b[1;33m\u001b[0m\u001b[0m\n\u001b[0;32m    391\u001b[0m         \u001b[1;32mif\u001b[0m \u001b[0mself\u001b[0m\u001b[1;33m.\u001b[0m\u001b[0mn_outputs_\u001b[0m \u001b[1;33m==\u001b[0m \u001b[1;36m1\u001b[0m \u001b[1;32mand\u001b[0m \u001b[0mis_classifier\u001b[0m\u001b[1;33m(\u001b[0m\u001b[0mself\u001b[0m\u001b[1;33m)\u001b[0m\u001b[1;33m:\u001b[0m\u001b[1;33m\u001b[0m\u001b[1;33m\u001b[0m\u001b[0m\n",
      "\u001b[1;31mKeyboardInterrupt\u001b[0m: "
     ]
    }
   ],
   "metadata": {}
  },
  {
   "cell_type": "code",
   "execution_count": null,
   "source": [],
   "outputs": [],
   "metadata": {}
  }
 ],
 "metadata": {
  "orig_nbformat": 4,
  "language_info": {
   "name": "python",
   "version": "3.8.5",
   "mimetype": "text/x-python",
   "codemirror_mode": {
    "name": "ipython",
    "version": 3
   },
   "pygments_lexer": "ipython3",
   "nbconvert_exporter": "python",
   "file_extension": ".py"
  },
  "kernelspec": {
   "name": "python3",
   "display_name": "Python 3.8.5 64-bit ('MA1': conda)"
  },
  "interpreter": {
   "hash": "5ae178ee97b2b9495f18450d26f0b5808955ba0c9034008c9c01195a20c2e958"
  }
 },
 "nbformat": 4,
 "nbformat_minor": 2
}