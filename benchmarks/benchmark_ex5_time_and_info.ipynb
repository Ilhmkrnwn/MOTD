{
 "cells": [
  {
   "cell_type": "code",
   "execution_count": 1,
   "source": [
    "import pickle\n",
    "from timeit import default_timer as timer\n",
    "\n",
    "import numpy as np\n",
    "import pandas as pd\n",
    "\n",
    "import sys, os\n",
    "sys.path.insert(1, os.path.join(sys.path[0], \"..\"))\n",
    "from modt.modt import MoDT"
   ],
   "outputs": [],
   "metadata": {}
  },
  {
   "cell_type": "code",
   "execution_count": 2,
   "source": [
    "datasets = [\n",
    "    [\"abalone_input.pd\",\"abalone_target.pd\"], \n",
    "    [\"adult_input.pd\",\"adult_target.pd\"], # Large\n",
    "    [\"banknote_input.pd\",\"banknote_target.pd\"], # Easy\n",
    "    [\"bank_input.pd\",\"bank_target.pd\"], # Large\n",
    "    [\"breast_cancer_input.np\",\"breast_cancer_target.np\"],\n",
    "    [\"cars_input.pd\",\"cars_target.pd\"], \n",
    "    [\"contraceptive_input.pd\",\"contraceptive_target.pd\"], \n",
    "    [\"generated6_input.np\",\"generated6_target.np\"],\n",
    "    [\"hrss_input.pd\",\"hrss_target.pd\"], # Large\n",
    "    [\"iris_input.pd\",\"iris_target.pd\"],\n",
    "    [\"steel_input.pd\",\"steel_target.pd\"],\n",
    "    [\"students_input.pd\",\"students_target.pd\"],\n",
    "    [\"sensorless_input.pd\",\"sensorless_target.pd\"], # Very Large dataset\n",
    "]"
   ],
   "outputs": [],
   "metadata": {}
  },
  {
   "cell_type": "code",
   "execution_count": 3,
   "source": [
    "runs=5"
   ],
   "outputs": [],
   "metadata": {}
  },
  {
   "cell_type": "code",
   "execution_count": 4,
   "source": [
    "def get_info(dataset,time=False):\n",
    "    X = pickle.load(open(\"../datasets/\" + dataset[0], \"rb\"))\n",
    "    Y = pickle.load(open(\"../datasets/\" + dataset[1], \"rb\"))\n",
    "    if time:\n",
    "        seconds = []\n",
    "        for _ in range(runs):\n",
    "            start = timer()\n",
    "            modt = MoDT(X,Y,3,100,2)\n",
    "            modt.fit(early_stopping=False)\n",
    "            seconds.append(timer() - start)\n",
    "        seconds_FG = int(round(np.mean(seconds),1))\n",
    "        seconds = []\n",
    "        for _ in range(runs):\n",
    "            start = timer()\n",
    "            modt = MoDT(X,Y,3,100,2)\n",
    "            modt.fit(early_stopping=\"likelihood\")\n",
    "            seconds.append(timer() - start)\n",
    "        seconds_FG_l = int(round(np.mean(seconds),1))\n",
    "        seconds = []\n",
    "        for _ in range(runs):\n",
    "            start = timer()\n",
    "            modt = MoDT(X,Y,3,100,2)\n",
    "            modt.fit(early_stopping=\"accuracy\")\n",
    "            seconds.append(timer() - start)\n",
    "        seconds_FG_a = int(round(np.mean(seconds),1))\n",
    "        seconds = []\n",
    "        for _ in range(runs):\n",
    "            start = timer()\n",
    "            modt = MoDT(X,Y,3,100,2)\n",
    "            modt.fit(early_stopping=False)\n",
    "            seconds.append(timer() - start)\n",
    "        seconds_2D = int(round(np.mean(seconds),1))\n",
    "    if not isinstance(X, pd.core.frame.DataFrame):\n",
    "        X = pd.DataFrame(X)\n",
    "    if not isinstance(Y, pd.core.frame.DataFrame):\n",
    "        Y = pd.DataFrame(Y)\n",
    "\n",
    "    name = dataset[0].split(\"_\")[0]\n",
    "    n = X.shape[0]\n",
    "    f = X.shape[1]\n",
    "    t = len(Y.iloc[:,0].unique())\n",
    "    num = len(X.select_dtypes(include=[\"number\"]).columns)\n",
    "    cat = len(X.select_dtypes(exclude=[\"number\"]).columns)\n",
    "    modt = MoDT(X,Y,2,1,1)\n",
    "    f_transformed = modt.X.shape[1] - 1 \n",
    "\n",
    "    if time:\n",
    "        return [name,n,f_transformed,seconds_2D,seconds_FG,seconds_FG_l,seconds_FG_a]\n",
    "    else:\n",
    "        return [name,n,t,f,num,cat,f_transformed]"
   ],
   "outputs": [],
   "metadata": {}
  },
  {
   "cell_type": "code",
   "execution_count": 5,
   "source": [
    "for dataset in datasets:\n",
    "    print(' & '.join(map(str, get_info(dataset))), \"& \\\\\\\\\")\n",
    "    print(\"\\\\hline\")"
   ],
   "outputs": [
    {
     "output_type": "stream",
     "name": "stdout",
     "text": [
      "abalone & 4177 & 3 & 8 & 7 & 1 & 10 & \\\\\n",
      "\\hline\n",
      "adult & 30162 & 2 & 14 & 6 & 8 & 104 & \\\\\n",
      "\\hline\n",
      "banknote & 1372 & 2 & 4 & 4 & 0 & 4 & \\\\\n",
      "\\hline\n",
      "bank & 41188 & 2 & 20 & 10 & 10 & 63 & \\\\\n",
      "\\hline\n",
      "breast & 569 & 2 & 10 & 10 & 0 & 10 & \\\\\n",
      "\\hline\n",
      "cars & 1728 & 4 & 6 & 0 & 6 & 21 & \\\\\n",
      "\\hline\n",
      "contraceptive & 1473 & 3 & 9 & 2 & 7 & 24 & \\\\\n",
      "\\hline\n",
      "generated6 & 5000 & 5 & 2 & 2 & 0 & 2 & \\\\\n",
      "\\hline\n",
      "hrss & 23645 & 2 & 18 & 18 & 0 & 18 & \\\\\n",
      "\\hline\n",
      "iris & 150 & 3 & 4 & 4 & 0 & 4 & \\\\\n",
      "\\hline\n",
      "steel & 1941 & 7 & 27 & 27 & 0 & 27 & \\\\\n",
      "\\hline\n",
      "students & 666 & 4 & 11 & 0 & 11 & 49 & \\\\\n",
      "\\hline\n"
     ]
    },
    {
     "output_type": "error",
     "ename": "KeyboardInterrupt",
     "evalue": "",
     "traceback": [
      "\u001b[1;31m---------------------------------------------------------------------------\u001b[0m",
      "\u001b[1;31mKeyboardInterrupt\u001b[0m                         Traceback (most recent call last)",
      "\u001b[1;32m<ipython-input-5-fa204215909c>\u001b[0m in \u001b[0;36m<module>\u001b[1;34m\u001b[0m\n\u001b[0;32m      1\u001b[0m \u001b[1;32mfor\u001b[0m \u001b[0mdataset\u001b[0m \u001b[1;32min\u001b[0m \u001b[0mdatasets\u001b[0m\u001b[1;33m:\u001b[0m\u001b[1;33m\u001b[0m\u001b[1;33m\u001b[0m\u001b[0m\n\u001b[1;32m----> 2\u001b[1;33m     \u001b[0mprint\u001b[0m\u001b[1;33m(\u001b[0m\u001b[1;34m' & '\u001b[0m\u001b[1;33m.\u001b[0m\u001b[0mjoin\u001b[0m\u001b[1;33m(\u001b[0m\u001b[0mmap\u001b[0m\u001b[1;33m(\u001b[0m\u001b[0mstr\u001b[0m\u001b[1;33m,\u001b[0m \u001b[0mget_info\u001b[0m\u001b[1;33m(\u001b[0m\u001b[0mdataset\u001b[0m\u001b[1;33m)\u001b[0m\u001b[1;33m)\u001b[0m\u001b[1;33m)\u001b[0m\u001b[1;33m,\u001b[0m \u001b[1;34m\"& \\\\\\\\\"\u001b[0m\u001b[1;33m)\u001b[0m\u001b[1;33m\u001b[0m\u001b[1;33m\u001b[0m\u001b[0m\n\u001b[0m\u001b[0;32m      3\u001b[0m     \u001b[0mprint\u001b[0m\u001b[1;33m(\u001b[0m\u001b[1;34m\"\\\\hline\"\u001b[0m\u001b[1;33m)\u001b[0m\u001b[1;33m\u001b[0m\u001b[1;33m\u001b[0m\u001b[0m\n",
      "\u001b[1;32m<ipython-input-4-afa692d66ec8>\u001b[0m in \u001b[0;36mget_info\u001b[1;34m(dataset, time)\u001b[0m\n\u001b[0;32m     42\u001b[0m     \u001b[0mnum\u001b[0m \u001b[1;33m=\u001b[0m \u001b[0mlen\u001b[0m\u001b[1;33m(\u001b[0m\u001b[0mX\u001b[0m\u001b[1;33m.\u001b[0m\u001b[0mselect_dtypes\u001b[0m\u001b[1;33m(\u001b[0m\u001b[0minclude\u001b[0m\u001b[1;33m=\u001b[0m\u001b[1;33m[\u001b[0m\u001b[1;34m\"number\"\u001b[0m\u001b[1;33m]\u001b[0m\u001b[1;33m)\u001b[0m\u001b[1;33m.\u001b[0m\u001b[0mcolumns\u001b[0m\u001b[1;33m)\u001b[0m\u001b[1;33m\u001b[0m\u001b[1;33m\u001b[0m\u001b[0m\n\u001b[0;32m     43\u001b[0m     \u001b[0mcat\u001b[0m \u001b[1;33m=\u001b[0m \u001b[0mlen\u001b[0m\u001b[1;33m(\u001b[0m\u001b[0mX\u001b[0m\u001b[1;33m.\u001b[0m\u001b[0mselect_dtypes\u001b[0m\u001b[1;33m(\u001b[0m\u001b[0mexclude\u001b[0m\u001b[1;33m=\u001b[0m\u001b[1;33m[\u001b[0m\u001b[1;34m\"number\"\u001b[0m\u001b[1;33m]\u001b[0m\u001b[1;33m)\u001b[0m\u001b[1;33m.\u001b[0m\u001b[0mcolumns\u001b[0m\u001b[1;33m)\u001b[0m\u001b[1;33m\u001b[0m\u001b[1;33m\u001b[0m\u001b[0m\n\u001b[1;32m---> 44\u001b[1;33m     \u001b[0mmodt\u001b[0m \u001b[1;33m=\u001b[0m \u001b[0mMoDT\u001b[0m\u001b[1;33m(\u001b[0m\u001b[0mX\u001b[0m\u001b[1;33m,\u001b[0m\u001b[0mY\u001b[0m\u001b[1;33m,\u001b[0m\u001b[1;36m2\u001b[0m\u001b[1;33m,\u001b[0m\u001b[1;36m1\u001b[0m\u001b[1;33m,\u001b[0m\u001b[1;36m1\u001b[0m\u001b[1;33m)\u001b[0m\u001b[1;33m\u001b[0m\u001b[1;33m\u001b[0m\u001b[0m\n\u001b[0m\u001b[0;32m     45\u001b[0m     \u001b[0mf_transformed\u001b[0m \u001b[1;33m=\u001b[0m \u001b[0mmodt\u001b[0m\u001b[1;33m.\u001b[0m\u001b[0mX\u001b[0m\u001b[1;33m.\u001b[0m\u001b[0mshape\u001b[0m\u001b[1;33m[\u001b[0m\u001b[1;36m1\u001b[0m\u001b[1;33m]\u001b[0m \u001b[1;33m-\u001b[0m \u001b[1;36m1\u001b[0m\u001b[1;33m\u001b[0m\u001b[1;33m\u001b[0m\u001b[0m\n\u001b[0;32m     46\u001b[0m \u001b[1;33m\u001b[0m\u001b[0m\n",
      "\u001b[1;32mc:\\Users\\Robert\\Code\\mixture-of-decision-trees\\benchmarks\\..\\modt\\modt.py\u001b[0m in \u001b[0;36m__init__\u001b[1;34m(self, X, y, n_experts, iterations, max_depth, init_learning_rate, learning_rate_decay, initialization_method, use_2_dim_gate_based_on, use_2_dim_clustering, black_box_algorithm, feature_names, class_names, save_likelihood, verbose)\u001b[0m\n\u001b[0;32m     79\u001b[0m         \u001b[0mself\u001b[0m\u001b[1;33m.\u001b[0m\u001b[0mX_top_2_mask\u001b[0m \u001b[1;33m=\u001b[0m \u001b[1;32mNone\u001b[0m\u001b[1;33m\u001b[0m\u001b[1;33m\u001b[0m\u001b[0m\n\u001b[0;32m     80\u001b[0m         \u001b[0mself\u001b[0m\u001b[1;33m.\u001b[0m\u001b[0mX_2_dim\u001b[0m \u001b[1;33m=\u001b[0m \u001b[1;32mNone\u001b[0m\u001b[1;33m\u001b[0m\u001b[1;33m\u001b[0m\u001b[0m\n\u001b[1;32m---> 81\u001b[1;33m         \u001b[0mself\u001b[0m\u001b[1;33m.\u001b[0m\u001b[0m_setup_2_dimensional_gate\u001b[0m\u001b[1;33m(\u001b[0m\u001b[1;33m)\u001b[0m  \u001b[1;31m# Sets the above variables\u001b[0m\u001b[1;33m\u001b[0m\u001b[1;33m\u001b[0m\u001b[0m\n\u001b[0m\u001b[0;32m     82\u001b[0m \u001b[1;33m\u001b[0m\u001b[0m\n\u001b[0;32m     83\u001b[0m \u001b[1;33m\u001b[0m\u001b[0m\n",
      "\u001b[1;32mc:\\Users\\Robert\\Code\\mixture-of-decision-trees\\benchmarks\\..\\modt\\modt.py\u001b[0m in \u001b[0;36m_setup_2_dimensional_gate\u001b[1;34m(self)\u001b[0m\n\u001b[0;32m    214\u001b[0m         \u001b[1;34m\"\"\"Delegate gate dimensionality reduction.\"\"\"\u001b[0m\u001b[1;33m\u001b[0m\u001b[1;33m\u001b[0m\u001b[0m\n\u001b[0;32m    215\u001b[0m \u001b[1;33m\u001b[0m\u001b[0m\n\u001b[1;32m--> 216\u001b[1;33m         \u001b[0mself\u001b[0m\u001b[1;33m.\u001b[0m\u001b[0mX_top_2_mask\u001b[0m \u001b[1;33m=\u001b[0m \u001b[0mself\u001b[0m\u001b[1;33m.\u001b[0m\u001b[0m_get_2_dim_feature_importance_mask\u001b[0m\u001b[1;33m(\u001b[0m\u001b[0mmethod\u001b[0m\u001b[1;33m=\u001b[0m\u001b[1;34m\"DT\"\u001b[0m\u001b[1;33m)\u001b[0m  \u001b[1;31m# Always calculate Top 2 features for plotting; 2D + Bias\u001b[0m\u001b[1;33m\u001b[0m\u001b[1;33m\u001b[0m\u001b[0m\n\u001b[0m\u001b[0;32m    217\u001b[0m         \u001b[0mself\u001b[0m\u001b[1;33m.\u001b[0m\u001b[0mX_2_dim\u001b[0m \u001b[1;33m=\u001b[0m \u001b[0mself\u001b[0m\u001b[1;33m.\u001b[0m\u001b[0mX\u001b[0m\u001b[1;33m[\u001b[0m\u001b[1;33m:\u001b[0m\u001b[1;33m,\u001b[0m \u001b[0mself\u001b[0m\u001b[1;33m.\u001b[0m\u001b[0mX_top_2_mask\u001b[0m\u001b[1;33m]\u001b[0m  \u001b[1;31m# For plotting; 2D + bias; components in case of PCA\u001b[0m\u001b[1;33m\u001b[0m\u001b[1;33m\u001b[0m\u001b[0m\n\u001b[0;32m    218\u001b[0m \u001b[1;33m\u001b[0m\u001b[0m\n",
      "\u001b[1;32mc:\\Users\\Robert\\Code\\mixture-of-decision-trees\\benchmarks\\..\\modt\\modt.py\u001b[0m in \u001b[0;36m_get_2_dim_feature_importance_mask\u001b[1;34m(self, method)\u001b[0m\n\u001b[0;32m    251\u001b[0m         \u001b[1;32mif\u001b[0m \u001b[0mmethod\u001b[0m \u001b[1;33m==\u001b[0m \u001b[1;34m\"DT\"\u001b[0m\u001b[1;33m:\u001b[0m\u001b[1;33m\u001b[0m\u001b[1;33m\u001b[0m\u001b[0m\n\u001b[0;32m    252\u001b[0m             \u001b[0mclf\u001b[0m \u001b[1;33m=\u001b[0m \u001b[0mtree\u001b[0m\u001b[1;33m.\u001b[0m\u001b[0mDecisionTreeClassifier\u001b[0m\u001b[1;33m(\u001b[0m\u001b[1;33m)\u001b[0m\u001b[1;33m\u001b[0m\u001b[1;33m\u001b[0m\u001b[0m\n\u001b[1;32m--> 253\u001b[1;33m             \u001b[0mclf\u001b[0m\u001b[1;33m.\u001b[0m\u001b[0mfit\u001b[0m\u001b[1;33m(\u001b[0m\u001b[0mX_without_bias\u001b[0m\u001b[1;33m,\u001b[0m \u001b[0mself\u001b[0m\u001b[1;33m.\u001b[0m\u001b[0my\u001b[0m\u001b[1;33m)\u001b[0m\u001b[1;33m\u001b[0m\u001b[1;33m\u001b[0m\u001b[0m\n\u001b[0m\u001b[0;32m    254\u001b[0m             \u001b[0mimportances\u001b[0m \u001b[1;33m=\u001b[0m \u001b[0mclf\u001b[0m\u001b[1;33m.\u001b[0m\u001b[0mfeature_importances_\u001b[0m\u001b[1;33m\u001b[0m\u001b[1;33m\u001b[0m\u001b[0m\n\u001b[0;32m    255\u001b[0m         \u001b[1;32melif\u001b[0m \u001b[0mmethod\u001b[0m \u001b[1;33m==\u001b[0m \u001b[1;34m\"XGB\"\u001b[0m\u001b[1;33m:\u001b[0m\u001b[1;33m\u001b[0m\u001b[1;33m\u001b[0m\u001b[0m\n",
      "\u001b[1;32m~\\Anaconda3\\envs\\MA1\\lib\\site-packages\\sklearn\\tree\\_classes.py\u001b[0m in \u001b[0;36mfit\u001b[1;34m(self, X, y, sample_weight, check_input, X_idx_sorted)\u001b[0m\n\u001b[0;32m    896\u001b[0m         \"\"\"\n\u001b[0;32m    897\u001b[0m \u001b[1;33m\u001b[0m\u001b[0m\n\u001b[1;32m--> 898\u001b[1;33m         super().fit(\n\u001b[0m\u001b[0;32m    899\u001b[0m             \u001b[0mX\u001b[0m\u001b[1;33m,\u001b[0m \u001b[0my\u001b[0m\u001b[1;33m,\u001b[0m\u001b[1;33m\u001b[0m\u001b[1;33m\u001b[0m\u001b[0m\n\u001b[0;32m    900\u001b[0m             \u001b[0msample_weight\u001b[0m\u001b[1;33m=\u001b[0m\u001b[0msample_weight\u001b[0m\u001b[1;33m,\u001b[0m\u001b[1;33m\u001b[0m\u001b[1;33m\u001b[0m\u001b[0m\n",
      "\u001b[1;32m~\\Anaconda3\\envs\\MA1\\lib\\site-packages\\sklearn\\tree\\_classes.py\u001b[0m in \u001b[0;36mfit\u001b[1;34m(self, X, y, sample_weight, check_input, X_idx_sorted)\u001b[0m\n\u001b[0;32m    387\u001b[0m                                            min_impurity_split)\n\u001b[0;32m    388\u001b[0m \u001b[1;33m\u001b[0m\u001b[0m\n\u001b[1;32m--> 389\u001b[1;33m         \u001b[0mbuilder\u001b[0m\u001b[1;33m.\u001b[0m\u001b[0mbuild\u001b[0m\u001b[1;33m(\u001b[0m\u001b[0mself\u001b[0m\u001b[1;33m.\u001b[0m\u001b[0mtree_\u001b[0m\u001b[1;33m,\u001b[0m \u001b[0mX\u001b[0m\u001b[1;33m,\u001b[0m \u001b[0my\u001b[0m\u001b[1;33m,\u001b[0m \u001b[0msample_weight\u001b[0m\u001b[1;33m)\u001b[0m\u001b[1;33m\u001b[0m\u001b[1;33m\u001b[0m\u001b[0m\n\u001b[0m\u001b[0;32m    390\u001b[0m \u001b[1;33m\u001b[0m\u001b[0m\n\u001b[0;32m    391\u001b[0m         \u001b[1;32mif\u001b[0m \u001b[0mself\u001b[0m\u001b[1;33m.\u001b[0m\u001b[0mn_outputs_\u001b[0m \u001b[1;33m==\u001b[0m \u001b[1;36m1\u001b[0m \u001b[1;32mand\u001b[0m \u001b[0mis_classifier\u001b[0m\u001b[1;33m(\u001b[0m\u001b[0mself\u001b[0m\u001b[1;33m)\u001b[0m\u001b[1;33m:\u001b[0m\u001b[1;33m\u001b[0m\u001b[1;33m\u001b[0m\u001b[0m\n",
      "\u001b[1;31mKeyboardInterrupt\u001b[0m: "
     ]
    }
   ],
   "metadata": {}
  },
  {
   "cell_type": "code",
   "execution_count": null,
   "source": [
    "for dataset in datasets:\n",
    "    print(' & '.join(map(str, get_info(dataset, time=True))), \"\\\\\\\\\")"
   ],
   "outputs": [
    {
     "output_type": "stream",
     "name": "stdout",
     "text": [
      "abalone & 4177 & 10 & 1 & 1 & 1 & 1 \\\\\n",
      "adult & 30162 & 104 & 22 & 21 & 23 & 22 \\\\\n",
      "banknote & 1372 & 4 & 0 & 1 & 1 & 0 \\\\\n",
      "bank & 41188 & 63 & 22 & 22 & 24 & 22 \\\\\n",
      "breast & 569 & 10 & 0 & 0 & 0 & 0 \\\\\n",
      "cars & 1728 & 21 & 0 & 0 & 1 & 0 \\\\\n",
      "contraceptive & 1473 & 24 & 0 & 0 & 1 & 0 \\\\\n",
      "generated6 & 5000 & 2 & 1 & 1 & 1 & 1 \\\\\n",
      "hrss & 23645 & 18 & 9 & 8 & 8 & 6 \\\\\n",
      "iris & 150 & 4 & 0 & 0 & 0 & 0 \\\\\n",
      "steel & 1941 & 27 & 2 & 2 & 2 & 2 \\\\\n",
      "students & 666 & 49 & 0 & 0 & 0 & 0 \\\\\n"
     ]
    }
   ],
   "metadata": {}
  },
  {
   "cell_type": "code",
   "execution_count": null,
   "source": [],
   "outputs": [],
   "metadata": {}
  }
 ],
 "metadata": {
  "orig_nbformat": 4,
  "language_info": {
   "name": "python",
   "version": "3.8.5",
   "mimetype": "text/x-python",
   "codemirror_mode": {
    "name": "ipython",
    "version": 3
   },
   "pygments_lexer": "ipython3",
   "nbconvert_exporter": "python",
   "file_extension": ".py"
  },
  "kernelspec": {
   "name": "python3",
   "display_name": "Python 3.8.5 64-bit ('MA1': conda)"
  },
  "interpreter": {
   "hash": "5ae178ee97b2b9495f18450d26f0b5808955ba0c9034008c9c01195a20c2e958"
  }
 },
 "nbformat": 4,
 "nbformat_minor": 2
}