{
 "cells": [
  {
   "cell_type": "code",
   "execution_count": 1,
   "metadata": {},
   "outputs": [],
   "source": [
    "import sys, os\n",
    "sys.path.insert(1, os.path.join(sys.path[0], \"..\"))\n",
    "from modt.modt import MoDT\n",
    "from modt._initialization import *\n",
    "from modt.visualization import *\n",
    "from modt.utility import *\n",
    "\n",
    "import pickle\n",
    "import numpy as np\n",
    "import pandas as pd\n",
    "from sklearn import tree\n",
    "from sklearn.discriminant_analysis import LinearDiscriminantAnalysis\n",
    "from sklearn.preprocessing import normalize"
   ]
  },
  {
   "cell_type": "code",
   "execution_count": 2,
   "metadata": {},
   "outputs": [],
   "source": [
    "def fi_DT(x,y):\n",
    "    clf = tree.DecisionTreeClassifier()\n",
    "    clf = clf.fit(x, y)\n",
    "    importances = clf.tree_.compute_feature_importances()\n",
    "    return (-importances).argsort()[:2]\n",
    "\n",
    "def fi_LDA(x,y):\n",
    "    clf = LinearDiscriminantAnalysis()\n",
    "    clf.fit(x, y)\n",
    "    weights = np.abs(clf.coef_) / np.sum(np.abs(clf.coef_))\n",
    "    return (-weights[0]).argsort()[:2]\n",
    "\n",
    "def fi_intersect(x,y):\n",
    "    return len(np.intersect1d(fi_LDA(x,y), fi_DT(x,y))) / 2.0"
   ]
  },
  {
   "cell_type": "code",
   "execution_count": 3,
   "metadata": {},
   "outputs": [],
   "source": [
    "parameters = {\n",
    "    \"X\": None,\n",
    "    \"y\": None,\n",
    "    \"n_experts\": 2,\n",
    "    \"iterations\": 1,\n",
    "    \"max_depth\": 2,\n",
    "    \"init_learning_rate\": 100,\n",
    "    \"learning_rate_decay\": 1,\n",
    "    \"initialize_with\": \"random\",\n",
    "    \"initialization_method\": None,\n",
    "    \"feature_names\": None,\n",
    "    \"class_names\": None,\n",
    "    \"use_2_dim_gate_based_on\": None,\n",
    "    \"use_2_dim_clustering\": False,\n",
    "    \"black_box_algorithm\": None,\n",
    "    }"
   ]
  },
  {
   "cell_type": "code",
   "execution_count": 4,
   "metadata": {},
   "outputs": [],
   "source": [
    "datasets = [\n",
    "    [\"banknote_input.pd\",\"banknote_target.pd\"],\n",
    "    [\"adult_input.pd\",\"adult_target.pd\"],\n",
    "    [\"bank_input.pd\",\"bank_target.pd\"],\n",
    "    [\"breast_cancer_input.np\",\"breast_cancer_target.np\"],\n",
    "    [\"hrss_input.pd\",\"hrss_target.pd\"],\n",
    "    [\"iris_input.pd\",\"iris_target.pd\"],\n",
    "    [\"occupancy_input.pd\",\"occupancy_target.pd\"],\n",
    "    [\"pdm6_input.pd\",\"pdm6_target.pd\"],\n",
    "    [\"sensorless_input.pd\",\"sensorless_target.pd\"],\n",
    "    [\"steel_input.pd\",\"steel_target.pd\"],\n",
    "]"
   ]
  },
  {
   "cell_type": "code",
   "execution_count": null,
   "metadata": {},
   "outputs": [],
   "source": [
    "runs = 100\n",
    "rows = []\n",
    "for dataset in datasets:\n",
    "    data_input = pickle.load(open(\"../datasets/\" + dataset[0], \"rb\"))\n",
    "    data_target = pickle.load(open(\"../datasets/\" + dataset[1], \"rb\"))\n",
    "    parameters[\"X\"] = data_input\n",
    "    parameters[\"y\"] = data_target\n",
    "    modt = MoDT(**parameters)\n",
    "    intersections = []\n",
    "    for _ in range(runs):\n",
    "        intersections.append(fi_intersect(modt.X,modt.y))\n",
    "    intersection = np.sum(intersections) / runs\n",
    "    dict1 = {\n",
    "        \"dataset\" : dataset[0],\n",
    "        \"n_features\" : modt.X.shape[1],\n",
    "        \"intersection\" : intersection,\n",
    "    }\n",
    "    rows.append(dict1)\n",
    "df = pd.DataFrame(rows)\n",
    "df"
   ]
  },
  {
   "cell_type": "code",
   "execution_count": null,
   "metadata": {},
   "outputs": [],
   "source": []
  }
 ],
 "metadata": {
  "kernelspec": {
   "display_name": "Python (MA1)",
   "language": "python",
   "name": "ma1"
  },
  "language_info": {
   "codemirror_mode": {
    "name": "ipython",
    "version": 3
   },
   "file_extension": ".py",
   "mimetype": "text/x-python",
   "name": "python",
   "nbconvert_exporter": "python",
   "pygments_lexer": "ipython3",
   "version": "3.8.5"
  }
 },
 "nbformat": 4,
 "nbformat_minor": 2
}
