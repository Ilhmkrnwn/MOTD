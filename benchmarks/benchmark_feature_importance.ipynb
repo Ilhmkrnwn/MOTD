{
 "cells": [
  {
   "cell_type": "code",
   "execution_count": 31,
   "metadata": {},
   "outputs": [],
   "source": [
    "import sys, os\n",
    "sys.path.insert(1, os.path.join(sys.path[0], \"..\"))\n",
    "from modt.modt import MoDT\n",
    "from modt._initialization import *\n",
    "from modt.visualization import *\n",
    "from modt.utility import *\n",
    "\n",
    "import pickle\n",
    "from timeit import default_timer as timer\n",
    "\n",
    "import numpy as np\n",
    "import pandas as pd\n",
    "from sklearn import tree\n",
    "from sklearn.discriminant_analysis import LinearDiscriminantAnalysis\n",
    "from sklearn.preprocessing import normalize\n",
    "from sklearn.model_selection import RepeatedKFold"
   ]
  },
  {
   "cell_type": "code",
   "execution_count": 32,
   "metadata": {},
   "outputs": [],
   "source": [
    "parameters = {\n",
    "    \"X\": None,\n",
    "    \"y\": None,\n",
    "    \"n_experts\": 2,\n",
    "    \"iterations\": 1,\n",
    "    \"max_depth\": 2,\n",
    "    \"init_learning_rate\": 100,\n",
    "    \"learning_rate_decay\": 1,\n",
    "    \"initialization_method\": None,\n",
    "    \"feature_names\": None,\n",
    "    \"class_names\": None,\n",
    "    \"use_2_dim_gate_based_on\": None,\n",
    "    \"use_2_dim_clustering\": False,\n",
    "    \"black_box_algorithm\": None,\n",
    "    }"
   ]
  },
  {
   "cell_type": "code",
   "execution_count": 33,
   "metadata": {},
   "outputs": [],
   "source": [
    "datasets = [\n",
    "    [\"breast_cancer_input.np\",\"breast_cancer_target.np\"],\n",
    "    [\"iris_input.pd\",\"iris_target.pd\"],\n",
    "    #[\"steel_input.pd\",\"steel_target.pd\"],\n",
    "    #[\"abalone_input.pd\",\"abalone_target.pd\"], \n",
    "    #[\"contraceptive_input.pd\",\"contraceptive_target.pd\"], \n",
    "    #[\"cars_input.pd\",\"cars_target.pd\"], \n",
    "    #[\"students_input.pd\",\"students_target.pd\"],\n",
    "    #[\"adult_input.pd\",\"adult_target.pd\"], # Large\n",
    "    #[\"bank_input.pd\",\"bank_target.pd\"], # Large\n",
    "    #[\"hrss_input.pd\",\"hrss_target.pd\"], # Large\n",
    "    #[\"occupancy_input.pd\",\"occupancy_target.pd\"], # Easy\n",
    "    #[\"pdm6_input.pd\",\"pdm6_target.pd\"], # Easy\n",
    "    #[\"banknote_input.pd\",\"banknote_target.pd\"], # Easy\n",
    "    #[\"sensorless_input.pd\",\"sensorless_target.pd\"], # Very Large dataset\n",
    "]"
   ]
  },
  {
   "cell_type": "code",
   "execution_count": 34,
   "metadata": {},
   "outputs": [],
   "source": [
    "gate_reduction_methods = [\n",
    "    \"feature_importance\",\n",
    "    \"feature_importance_lda\",\n",
    "    \"feature_importance_lda_max\",\n",
    "    \"feature_importance_lr\",\n",
    "    \"feature_importance_lr_max\",\n",
    "    \"feature_importance_xgb\",\n",
    "    \"feature_importance_pca_loadings\",\n",
    "    \"PCA\",\n",
    "    None\n",
    "]"
   ]
  },
  {
   "cell_type": "code",
   "execution_count": 35,
   "metadata": {},
   "outputs": [],
   "source": [
    "parameters = {\n",
    "    \"X\": None,\n",
    "    \"y\": None,\n",
    "    \"n_experts\": 3,\n",
    "    \"iterations\": 100,\n",
    "    \"max_depth\": 2,\n",
    "    \"init_learning_rate\": 100,\n",
    "    \"learning_rate_decay\": 0.995,\n",
    "    \"initialization_method\": \"random\",\n",
    "    \"feature_names\": None,\n",
    "    \"class_names\": None,\n",
    "    \"use_2_dim_gate_based_on\": None,\n",
    "    \"use_2_dim_clustering\": False,\n",
    "    \"black_box_algorithm\": None,\n",
    "    }\n",
    "parameters_fit = {\n",
    "    \"optimization_method\": \"least_squares_linear_regression\",\n",
    "    \"add_noise\": False,\n",
    "    \"use_posterior\": False,\n",
    "    }"
   ]
  },
  {
   "cell_type": "code",
   "execution_count": 36,
   "metadata": {
    "scrolled": true
   },
   "outputs": [
    {
     "name": "stdout",
     "output_type": "stream",
     "text": [
      "Starting breast_cancer_input.np ...\n",
      "Starting feature_importance ...\n",
      "Starting feature_importance_lda ...\n",
      "Starting feature_importance_lda_max ...\n",
      "Starting feature_importance_lr ...\n",
      "Starting feature_importance_lr_max ...\n",
      "Starting feature_importance_xgb ...\n",
      "[13:19:58] WARNING: C:/Users/Administrator/workspace/xgboost-win64_release_1.4.0/src/learner.cc:1095: Starting in XGBoost 1.3.0, the default evaluation metric used with the objective 'binary:logistic' was changed from 'error' to 'logloss'. Explicitly set eval_metric if you'd like to restore the old behavior.\n"
     ]
    },
    {
     "name": "stderr",
     "output_type": "stream",
     "text": [
      "C:\\Users\\Oscar\\Anaconda3\\lib\\site-packages\\xgboost\\sklearn.py:1146: UserWarning: The use of label encoder in XGBClassifier is deprecated and will be removed in a future release. To remove this warning, do the following: 1) Pass option use_label_encoder=False when constructing XGBClassifier object; and 2) Encode your labels (y) as integers starting with 0, i.e. 0, 1, 2, ..., [num_class - 1].\n",
      "  warnings.warn(label_encoder_deprecation_msg, UserWarning)\n",
      "C:\\Users\\Oscar\\Anaconda3\\lib\\site-packages\\xgboost\\sklearn.py:1146: UserWarning: The use of label encoder in XGBClassifier is deprecated and will be removed in a future release. To remove this warning, do the following: 1) Pass option use_label_encoder=False when constructing XGBClassifier object; and 2) Encode your labels (y) as integers starting with 0, i.e. 0, 1, 2, ..., [num_class - 1].\n",
      "  warnings.warn(label_encoder_deprecation_msg, UserWarning)\n"
     ]
    },
    {
     "name": "stdout",
     "output_type": "stream",
     "text": [
      "[13:19:59] WARNING: C:/Users/Administrator/workspace/xgboost-win64_release_1.4.0/src/learner.cc:1095: Starting in XGBoost 1.3.0, the default evaluation metric used with the objective 'binary:logistic' was changed from 'error' to 'logloss'. Explicitly set eval_metric if you'd like to restore the old behavior.\n"
     ]
    },
    {
     "name": "stderr",
     "output_type": "stream",
     "text": [
      "C:\\Users\\Oscar\\Anaconda3\\lib\\site-packages\\xgboost\\sklearn.py:1146: UserWarning: The use of label encoder in XGBClassifier is deprecated and will be removed in a future release. To remove this warning, do the following: 1) Pass option use_label_encoder=False when constructing XGBClassifier object; and 2) Encode your labels (y) as integers starting with 0, i.e. 0, 1, 2, ..., [num_class - 1].\n",
      "  warnings.warn(label_encoder_deprecation_msg, UserWarning)\n"
     ]
    },
    {
     "name": "stdout",
     "output_type": "stream",
     "text": [
      "[13:20:00] WARNING: C:/Users/Administrator/workspace/xgboost-win64_release_1.4.0/src/learner.cc:1095: Starting in XGBoost 1.3.0, the default evaluation metric used with the objective 'binary:logistic' was changed from 'error' to 'logloss'. Explicitly set eval_metric if you'd like to restore the old behavior.\n"
     ]
    },
    {
     "name": "stderr",
     "output_type": "stream",
     "text": [
      "C:\\Users\\Oscar\\Anaconda3\\lib\\site-packages\\xgboost\\sklearn.py:1146: UserWarning: The use of label encoder in XGBClassifier is deprecated and will be removed in a future release. To remove this warning, do the following: 1) Pass option use_label_encoder=False when constructing XGBClassifier object; and 2) Encode your labels (y) as integers starting with 0, i.e. 0, 1, 2, ..., [num_class - 1].\n",
      "  warnings.warn(label_encoder_deprecation_msg, UserWarning)\n"
     ]
    },
    {
     "name": "stdout",
     "output_type": "stream",
     "text": [
      "[13:20:00] WARNING: C:/Users/Administrator/workspace/xgboost-win64_release_1.4.0/src/learner.cc:1095: Starting in XGBoost 1.3.0, the default evaluation metric used with the objective 'binary:logistic' was changed from 'error' to 'logloss'. Explicitly set eval_metric if you'd like to restore the old behavior.\n"
     ]
    },
    {
     "name": "stderr",
     "output_type": "stream",
     "text": [
      "C:\\Users\\Oscar\\Anaconda3\\lib\\site-packages\\xgboost\\sklearn.py:1146: UserWarning: The use of label encoder in XGBClassifier is deprecated and will be removed in a future release. To remove this warning, do the following: 1) Pass option use_label_encoder=False when constructing XGBClassifier object; and 2) Encode your labels (y) as integers starting with 0, i.e. 0, 1, 2, ..., [num_class - 1].\n",
      "  warnings.warn(label_encoder_deprecation_msg, UserWarning)\n"
     ]
    },
    {
     "name": "stdout",
     "output_type": "stream",
     "text": [
      "[13:20:01] WARNING: C:/Users/Administrator/workspace/xgboost-win64_release_1.4.0/src/learner.cc:1095: Starting in XGBoost 1.3.0, the default evaluation metric used with the objective 'binary:logistic' was changed from 'error' to 'logloss'. Explicitly set eval_metric if you'd like to restore the old behavior.\n",
      "Starting feature_importance_pca_loadings ...\n",
      "Starting PCA ...\n",
      "Starting None ...\n",
      "Starting iris_input.pd ...\n",
      "Starting feature_importance ...\n",
      "Starting feature_importance_lda ...\n",
      "Starting feature_importance_lda_max ...\n",
      "Starting feature_importance_lr ...\n",
      "Starting feature_importance_lr_max ...\n",
      "Starting feature_importance_xgb ...\n",
      "[13:20:21] WARNING: C:/Users/Administrator/workspace/xgboost-win64_release_1.4.0/src/learner.cc:1095: Starting in XGBoost 1.3.0, the default evaluation metric used with the objective 'multi:softprob' was changed from 'merror' to 'mlogloss'. Explicitly set eval_metric if you'd like to restore the old behavior.\n"
     ]
    },
    {
     "name": "stderr",
     "output_type": "stream",
     "text": [
      "C:\\Users\\Oscar\\Anaconda3\\lib\\site-packages\\xgboost\\sklearn.py:1146: UserWarning: The use of label encoder in XGBClassifier is deprecated and will be removed in a future release. To remove this warning, do the following: 1) Pass option use_label_encoder=False when constructing XGBClassifier object; and 2) Encode your labels (y) as integers starting with 0, i.e. 0, 1, 2, ..., [num_class - 1].\n",
      "  warnings.warn(label_encoder_deprecation_msg, UserWarning)\n",
      "C:\\Users\\Oscar\\Anaconda3\\lib\\site-packages\\xgboost\\sklearn.py:1146: UserWarning: The use of label encoder in XGBClassifier is deprecated and will be removed in a future release. To remove this warning, do the following: 1) Pass option use_label_encoder=False when constructing XGBClassifier object; and 2) Encode your labels (y) as integers starting with 0, i.e. 0, 1, 2, ..., [num_class - 1].\n",
      "  warnings.warn(label_encoder_deprecation_msg, UserWarning)\n"
     ]
    },
    {
     "name": "stdout",
     "output_type": "stream",
     "text": [
      "[13:20:22] WARNING: C:/Users/Administrator/workspace/xgboost-win64_release_1.4.0/src/learner.cc:1095: Starting in XGBoost 1.3.0, the default evaluation metric used with the objective 'multi:softprob' was changed from 'merror' to 'mlogloss'. Explicitly set eval_metric if you'd like to restore the old behavior.\n"
     ]
    },
    {
     "name": "stderr",
     "output_type": "stream",
     "text": [
      "C:\\Users\\Oscar\\Anaconda3\\lib\\site-packages\\xgboost\\sklearn.py:1146: UserWarning: The use of label encoder in XGBClassifier is deprecated and will be removed in a future release. To remove this warning, do the following: 1) Pass option use_label_encoder=False when constructing XGBClassifier object; and 2) Encode your labels (y) as integers starting with 0, i.e. 0, 1, 2, ..., [num_class - 1].\n",
      "  warnings.warn(label_encoder_deprecation_msg, UserWarning)\n"
     ]
    },
    {
     "name": "stdout",
     "output_type": "stream",
     "text": [
      "[13:20:22] WARNING: C:/Users/Administrator/workspace/xgboost-win64_release_1.4.0/src/learner.cc:1095: Starting in XGBoost 1.3.0, the default evaluation metric used with the objective 'multi:softprob' was changed from 'merror' to 'mlogloss'. Explicitly set eval_metric if you'd like to restore the old behavior.\n"
     ]
    },
    {
     "name": "stderr",
     "output_type": "stream",
     "text": [
      "C:\\Users\\Oscar\\Anaconda3\\lib\\site-packages\\xgboost\\sklearn.py:1146: UserWarning: The use of label encoder in XGBClassifier is deprecated and will be removed in a future release. To remove this warning, do the following: 1) Pass option use_label_encoder=False when constructing XGBClassifier object; and 2) Encode your labels (y) as integers starting with 0, i.e. 0, 1, 2, ..., [num_class - 1].\n",
      "  warnings.warn(label_encoder_deprecation_msg, UserWarning)\n"
     ]
    },
    {
     "name": "stdout",
     "output_type": "stream",
     "text": [
      "[13:20:23] WARNING: C:/Users/Administrator/workspace/xgboost-win64_release_1.4.0/src/learner.cc:1095: Starting in XGBoost 1.3.0, the default evaluation metric used with the objective 'multi:softprob' was changed from 'merror' to 'mlogloss'. Explicitly set eval_metric if you'd like to restore the old behavior.\n"
     ]
    },
    {
     "name": "stderr",
     "output_type": "stream",
     "text": [
      "C:\\Users\\Oscar\\Anaconda3\\lib\\site-packages\\xgboost\\sklearn.py:1146: UserWarning: The use of label encoder in XGBClassifier is deprecated and will be removed in a future release. To remove this warning, do the following: 1) Pass option use_label_encoder=False when constructing XGBClassifier object; and 2) Encode your labels (y) as integers starting with 0, i.e. 0, 1, 2, ..., [num_class - 1].\n",
      "  warnings.warn(label_encoder_deprecation_msg, UserWarning)\n"
     ]
    },
    {
     "name": "stdout",
     "output_type": "stream",
     "text": [
      "[13:20:23] WARNING: C:/Users/Administrator/workspace/xgboost-win64_release_1.4.0/src/learner.cc:1095: Starting in XGBoost 1.3.0, the default evaluation metric used with the objective 'multi:softprob' was changed from 'merror' to 'mlogloss'. Explicitly set eval_metric if you'd like to restore the old behavior.\n",
      "Starting feature_importance_pca_loadings ...\n",
      "Starting PCA ...\n",
      "Starting None ...\n",
      "Duration 46.74459579999984\n"
     ]
    }
   ],
   "source": [
    "start = timer()\n",
    "runs = 1\n",
    "rows = []\n",
    "for dataset in datasets:\n",
    "    print(\"Starting\",dataset[0],\"...\")\n",
    "    data_input = pickle.load(open(\"../datasets/\" + dataset[0], \"rb\"))\n",
    "    data_target = pickle.load(open(\"../datasets/\" + dataset[1], \"rb\"))\n",
    "    \n",
    "    use_dataframe = False\n",
    "    if isinstance(data_input, pd.core.frame.DataFrame):\n",
    "        use_dataframe = True\n",
    "        \n",
    "      \n",
    "    dimensionality_reduction = gate_reduction_methods\n",
    "    dict_results = {\n",
    "        \"dataset\" : dataset[0],\n",
    "        \"n_features\" : data_input.shape[1]\n",
    "    } \n",
    "    \n",
    "    for method in dimensionality_reduction:\n",
    "        print(\"Starting\",method,\"...\")\n",
    "        parameters[\"use_2_dim_gate_based_on\"] = method\n",
    "\n",
    "        train_accuracies = []\n",
    "        val_accuracies = []\n",
    "        rkf = RepeatedKFold(n_splits=5, n_repeats=runs)\n",
    "        for train_idx, val_idx in rkf.split(data_input):\n",
    "            if use_dataframe:\n",
    "                X_temp = data_input.iloc[train_idx]\n",
    "                y_temp = data_target.iloc[train_idx]\n",
    "                X_temp.reset_index(inplace=True, drop=True)\n",
    "                y_temp.reset_index(inplace=True, drop=True)\n",
    "            else:\n",
    "                X_temp = data_input[train_idx]\n",
    "                y_temp = data_target[train_idx]\n",
    "\n",
    "            parameters[\"X\"] = X_temp\n",
    "            parameters[\"y\"] = y_temp\n",
    "            parameters[\"initialization_method\"] = Random_init(seed=None)\n",
    "            modt = MoDT(**parameters)\n",
    "            modt.fit(**parameters_fit)\n",
    "            train_accuracies.append(modt.score_internal_disjoint())\n",
    "\n",
    "            if use_dataframe:\n",
    "                X_temp = data_input.iloc[val_idx]\n",
    "                y_temp = data_target.iloc[val_idx]\n",
    "                X_temp.reset_index(inplace=True, drop=True)\n",
    "                y_temp.reset_index(inplace=True, drop=True)\n",
    "            else:\n",
    "                X_temp = data_input[val_idx]\n",
    "                y_temp = data_target[val_idx]\n",
    "            val_accuracies.append(modt.score(X_temp, y_temp))\n",
    "\n",
    "        train_accuracy = np.mean(train_accuracies)\n",
    "        val_accuracy = np.mean(val_accuracies)\n",
    "        train_std = np.std(train_accuracies)\n",
    "        val_std = np.std(val_accuracies)\n",
    "        dict_results[str(method) + \"_train\"] = train_accuracy\n",
    "        dict_results[str(method) + \"_test\"] = val_accuracy\n",
    "        dict_results[str(method) + \"_train_std\"] = train_std\n",
    "        dict_results[str(method) + \"_test_std\"] = val_std\n",
    "        \n",
    "    rows.append(dict_results)\n",
    "    \n",
    "print(\"Duration\", timer() - start)\n",
    "df_performance = pd.DataFrame(rows)"
   ]
  },
  {
   "cell_type": "code",
   "execution_count": 37,
   "metadata": {},
   "outputs": [
    {
     "data": {
      "text/html": [
       "<div>\n",
       "<style scoped>\n",
       "    .dataframe tbody tr th:only-of-type {\n",
       "        vertical-align: middle;\n",
       "    }\n",
       "\n",
       "    .dataframe tbody tr th {\n",
       "        vertical-align: top;\n",
       "    }\n",
       "\n",
       "    .dataframe thead th {\n",
       "        text-align: right;\n",
       "    }\n",
       "</style>\n",
       "<table border=\"1\" class=\"dataframe\">\n",
       "  <thead>\n",
       "    <tr style=\"text-align: right;\">\n",
       "      <th></th>\n",
       "      <th>dataset</th>\n",
       "      <th>n_features</th>\n",
       "      <th>feature_importance_train</th>\n",
       "      <th>feature_importance_test</th>\n",
       "      <th>feature_importance_train_std</th>\n",
       "      <th>feature_importance_test_std</th>\n",
       "      <th>feature_importance_lda_train</th>\n",
       "      <th>feature_importance_lda_test</th>\n",
       "      <th>feature_importance_lda_train_std</th>\n",
       "      <th>feature_importance_lda_test_std</th>\n",
       "      <th>...</th>\n",
       "      <th>feature_importance_pca_loadings_train_std</th>\n",
       "      <th>feature_importance_pca_loadings_test_std</th>\n",
       "      <th>PCA_train</th>\n",
       "      <th>PCA_test</th>\n",
       "      <th>PCA_train_std</th>\n",
       "      <th>PCA_test_std</th>\n",
       "      <th>None_train</th>\n",
       "      <th>None_test</th>\n",
       "      <th>None_train_std</th>\n",
       "      <th>None_test_std</th>\n",
       "    </tr>\n",
       "  </thead>\n",
       "  <tbody>\n",
       "    <tr>\n",
       "      <th>0</th>\n",
       "      <td>breast_cancer_input.np</td>\n",
       "      <td>10</td>\n",
       "      <td>0.968366</td>\n",
       "      <td>0.934979</td>\n",
       "      <td>0.003284</td>\n",
       "      <td>0.014228</td>\n",
       "      <td>0.960896</td>\n",
       "      <td>0.920928</td>\n",
       "      <td>0.009573</td>\n",
       "      <td>0.007710</td>\n",
       "      <td>...</td>\n",
       "      <td>0.005129</td>\n",
       "      <td>0.028134</td>\n",
       "      <td>0.961767</td>\n",
       "      <td>0.917389</td>\n",
       "      <td>0.013096</td>\n",
       "      <td>0.032185</td>\n",
       "      <td>0.978032</td>\n",
       "      <td>0.913911</td>\n",
       "      <td>0.006666</td>\n",
       "      <td>0.025589</td>\n",
       "    </tr>\n",
       "    <tr>\n",
       "      <th>1</th>\n",
       "      <td>iris_input.pd</td>\n",
       "      <td>4</td>\n",
       "      <td>0.991667</td>\n",
       "      <td>0.953333</td>\n",
       "      <td>0.005270</td>\n",
       "      <td>0.026667</td>\n",
       "      <td>0.993333</td>\n",
       "      <td>0.953333</td>\n",
       "      <td>0.006236</td>\n",
       "      <td>0.033993</td>\n",
       "      <td>...</td>\n",
       "      <td>0.006236</td>\n",
       "      <td>0.048990</td>\n",
       "      <td>0.988333</td>\n",
       "      <td>0.933333</td>\n",
       "      <td>0.008498</td>\n",
       "      <td>0.036515</td>\n",
       "      <td>0.996667</td>\n",
       "      <td>0.960000</td>\n",
       "      <td>0.004082</td>\n",
       "      <td>0.038873</td>\n",
       "    </tr>\n",
       "  </tbody>\n",
       "</table>\n",
       "<p>2 rows × 38 columns</p>\n",
       "</div>"
      ],
      "text/plain": [
       "                  dataset  n_features  feature_importance_train  \\\n",
       "0  breast_cancer_input.np          10                  0.968366   \n",
       "1           iris_input.pd           4                  0.991667   \n",
       "\n",
       "   feature_importance_test  feature_importance_train_std  \\\n",
       "0                 0.934979                      0.003284   \n",
       "1                 0.953333                      0.005270   \n",
       "\n",
       "   feature_importance_test_std  feature_importance_lda_train  \\\n",
       "0                     0.014228                      0.960896   \n",
       "1                     0.026667                      0.993333   \n",
       "\n",
       "   feature_importance_lda_test  feature_importance_lda_train_std  \\\n",
       "0                     0.920928                          0.009573   \n",
       "1                     0.953333                          0.006236   \n",
       "\n",
       "   feature_importance_lda_test_std  ...  \\\n",
       "0                         0.007710  ...   \n",
       "1                         0.033993  ...   \n",
       "\n",
       "   feature_importance_pca_loadings_train_std  \\\n",
       "0                                   0.005129   \n",
       "1                                   0.006236   \n",
       "\n",
       "   feature_importance_pca_loadings_test_std  PCA_train  PCA_test  \\\n",
       "0                                  0.028134   0.961767  0.917389   \n",
       "1                                  0.048990   0.988333  0.933333   \n",
       "\n",
       "   PCA_train_std  PCA_test_std  None_train  None_test  None_train_std  \\\n",
       "0       0.013096      0.032185    0.978032   0.913911        0.006666   \n",
       "1       0.008498      0.036515    0.996667   0.960000        0.004082   \n",
       "\n",
       "   None_test_std  \n",
       "0       0.025589  \n",
       "1       0.038873  \n",
       "\n",
       "[2 rows x 38 columns]"
      ]
     },
     "execution_count": 37,
     "metadata": {},
     "output_type": "execute_result"
    }
   ],
   "source": [
    "df_performance"
   ]
  },
  {
   "cell_type": "code",
   "execution_count": 38,
   "metadata": {},
   "outputs": [],
   "source": [
    "pickle.dump(df_performance, open(\"dataframes/df_fi_performance.pd\", \"wb\"))"
   ]
  },
  {
   "cell_type": "code",
   "execution_count": null,
   "metadata": {},
   "outputs": [],
   "source": []
  }
 ],
 "metadata": {
  "kernelspec": {
   "display_name": "Python 3",
   "language": "python",
   "name": "python3"
  },
  "language_info": {
   "codemirror_mode": {
    "name": "ipython",
    "version": 3
   },
   "file_extension": ".py",
   "mimetype": "text/x-python",
   "name": "python",
   "nbconvert_exporter": "python",
   "pygments_lexer": "ipython3",
   "version": "3.7.0"
  }
 },
 "nbformat": 4,
 "nbformat_minor": 2
}
