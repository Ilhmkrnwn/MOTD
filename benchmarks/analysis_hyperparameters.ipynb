{
 "metadata": {
  "language_info": {
   "codemirror_mode": {
    "name": "ipython",
    "version": 3
   },
   "file_extension": ".py",
   "mimetype": "text/x-python",
   "name": "python",
   "nbconvert_exporter": "python",
   "pygments_lexer": "ipython3",
   "version": "3.8.5"
  },
  "orig_nbformat": 4,
  "kernelspec": {
   "name": "python3",
   "display_name": "Python 3.8.5 64-bit ('MA1': conda)"
  },
  "interpreter": {
   "hash": "5ae178ee97b2b9495f18450d26f0b5808955ba0c9034008c9c01195a20c2e958"
  }
 },
 "nbformat": 4,
 "nbformat_minor": 2,
 "cells": [
  {
   "cell_type": "code",
   "execution_count": 78,
   "metadata": {},
   "outputs": [],
   "source": [
    "import pickle\n",
    "import pandas as pd\n",
    "import numpy as np\n",
    "import optuna"
   ]
  },
  {
   "cell_type": "code",
   "execution_count": 79,
   "metadata": {},
   "outputs": [],
   "source": [
    "storage = \"sqlite:///optuna_results_parameter_tuning.sqlite3\""
   ]
  },
  {
   "cell_type": "code",
   "execution_count": 80,
   "metadata": {},
   "outputs": [],
   "source": [
    "studies = optuna.study.get_all_study_summaries(storage=storage)"
   ]
  },
  {
   "cell_type": "code",
   "execution_count": 81,
   "metadata": {},
   "outputs": [],
   "source": [
    "loaded_study = optuna.load_study(study_name=studies[0].study_name, storage=storage)\n",
    "df = loaded_study.trials_dataframe()\n",
    "for key, value in loaded_study.system_attrs.items():\n",
    "    df[key] = value\n",
    "for study in studies[1:]:\n",
    "    loaded_study = optuna.load_study(study_name=study.study_name , storage=storage)\n",
    "    df_new = loaded_study.trials_dataframe()\n",
    "    for key, value in loaded_study.system_attrs.items():\n",
    "        df_new[key] = value\n",
    "    df = pd.concat([df, df_new])\n",
    "df.reset_index(inplace=True, drop=True)"
   ]
  },
  {
   "cell_type": "code",
   "execution_count": 82,
   "metadata": {},
   "outputs": [
    {
     "output_type": "execute_result",
     "data": {
      "text/plain": [
       "Index(['number', 'value', 'datetime_start', 'datetime_complete', 'duration',\n",
       "       'params_init_learning_rate', 'params_learning_rate_decay',\n",
       "       'params_max_depth', 'params_n_experts', 'params_optimization_method',\n",
       "       'params_use_2_dim_gate_based_on', 'params_use_posterior',\n",
       "       'user_attrs_accuracy_train', 'user_attrs_accuracy_val',\n",
       "       'user_attrs_std_train', 'user_attrs_std_val', 'state', 'Data X',\n",
       "       'Data y', 'initialization_method', 'params_alpha', 'params_beta',\n",
       "       'params_gamma', 'params_mean_precision_prior',\n",
       "       'params_weight_concentration_prior',\n",
       "       'params_weight_concentration_prior_type', 'params_weight_cutoff'],\n",
       "      dtype='object')"
      ]
     },
     "metadata": {},
     "execution_count": 82
    }
   ],
   "source": [
    "df.columns"
   ]
  },
  {
   "cell_type": "code",
   "execution_count": 83,
   "metadata": {},
   "outputs": [
    {
     "output_type": "execute_result",
     "data": {
      "text/plain": [
       "   number     value             datetime_start          datetime_complete  \\\n",
       "0       0  0.780093 2021-06-27 15:28:59.792766 2021-06-27 15:29:01.645766   \n",
       "\n",
       "                duration  params_init_learning_rate  \\\n",
       "0 0 days 00:00:01.853000                  77.537892   \n",
       "\n",
       "   params_learning_rate_decay  params_max_depth  params_n_experts  \\\n",
       "0                    0.995921                 2                 3   \n",
       "\n",
       "  params_optimization_method  ...         Data X          Data y  \\\n",
       "0           lasso_regression  ...  cars_input.pd  cars_target.pd   \n",
       "\n",
       "   initialization_method  params_alpha  params_beta  params_gamma  \\\n",
       "0                    str           NaN          NaN           NaN   \n",
       "\n",
       "  params_mean_precision_prior params_weight_concentration_prior  \\\n",
       "0                         NaN                               NaN   \n",
       "\n",
       "  params_weight_concentration_prior_type params_weight_cutoff  \n",
       "0                                    NaN                  NaN  \n",
       "\n",
       "[1 rows x 27 columns]"
      ],
      "text/html": "<div>\n<style scoped>\n    .dataframe tbody tr th:only-of-type {\n        vertical-align: middle;\n    }\n\n    .dataframe tbody tr th {\n        vertical-align: top;\n    }\n\n    .dataframe thead th {\n        text-align: right;\n    }\n</style>\n<table border=\"1\" class=\"dataframe\">\n  <thead>\n    <tr style=\"text-align: right;\">\n      <th></th>\n      <th>number</th>\n      <th>value</th>\n      <th>datetime_start</th>\n      <th>datetime_complete</th>\n      <th>duration</th>\n      <th>params_init_learning_rate</th>\n      <th>params_learning_rate_decay</th>\n      <th>params_max_depth</th>\n      <th>params_n_experts</th>\n      <th>params_optimization_method</th>\n      <th>...</th>\n      <th>Data X</th>\n      <th>Data y</th>\n      <th>initialization_method</th>\n      <th>params_alpha</th>\n      <th>params_beta</th>\n      <th>params_gamma</th>\n      <th>params_mean_precision_prior</th>\n      <th>params_weight_concentration_prior</th>\n      <th>params_weight_concentration_prior_type</th>\n      <th>params_weight_cutoff</th>\n    </tr>\n  </thead>\n  <tbody>\n    <tr>\n      <th>0</th>\n      <td>0</td>\n      <td>0.780093</td>\n      <td>2021-06-27 15:28:59.792766</td>\n      <td>2021-06-27 15:29:01.645766</td>\n      <td>0 days 00:00:01.853000</td>\n      <td>77.537892</td>\n      <td>0.995921</td>\n      <td>2</td>\n      <td>3</td>\n      <td>lasso_regression</td>\n      <td>...</td>\n      <td>cars_input.pd</td>\n      <td>cars_target.pd</td>\n      <td>str</td>\n      <td>NaN</td>\n      <td>NaN</td>\n      <td>NaN</td>\n      <td>NaN</td>\n      <td>NaN</td>\n      <td>NaN</td>\n      <td>NaN</td>\n    </tr>\n  </tbody>\n</table>\n<p>1 rows × 27 columns</p>\n</div>"
     },
     "metadata": {},
     "execution_count": 83
    }
   ],
   "source": [
    "df.head(1)"
   ]
  },
  {
   "cell_type": "code",
   "execution_count": 84,
   "metadata": {},
   "outputs": [
    {
     "output_type": "execute_result",
     "data": {
      "text/plain": [
       "str              300\n",
       "BGM_init         300\n",
       "KDTmeans_init    300\n",
       "Kmeans_init      300\n",
       "Name: initialization_method, dtype: int64"
      ]
     },
     "metadata": {},
     "execution_count": 84
    }
   ],
   "source": [
    "df.initialization_method.value_counts()"
   ]
  },
  {
   "cell_type": "code",
   "execution_count": 85,
   "metadata": {},
   "outputs": [
    {
     "output_type": "execute_result",
     "data": {
      "text/plain": [
       "array(['BGM_init', 'KDTmeans_init', 'Kmeans_init', 'str'], dtype=object)"
      ]
     },
     "metadata": {},
     "execution_count": 85
    }
   ],
   "source": [
    "np.unique(df.initialization_method)"
   ]
  },
  {
   "cell_type": "code",
   "execution_count": 86,
   "metadata": {},
   "outputs": [
    {
     "output_type": "execute_result",
     "data": {
      "text/plain": [
       "array(['cars_input.pd', 'students_input.pd'], dtype=object)"
      ]
     },
     "metadata": {},
     "execution_count": 86
    }
   ],
   "source": [
    "np.unique(df[\"Data X\"])"
   ]
  },
  {
   "cell_type": "code",
   "execution_count": 87,
   "metadata": {},
   "outputs": [],
   "source": [
    "top = 10\n",
    "df_best = pd.DataFrame()\n",
    "for dataset in np.unique(df[\"Data X\"]):\n",
    "    df_new = df[df[\"Data X\"] == dataset].sort_values(by=[\"user_attrs_accuracy_val\"], ascending=False).head(top)\n",
    "    df_best = pd.concat([df_best, df_new])\n",
    "df_best.reset_index(inplace=True, drop=True)\n"
   ]
  },
  {
   "cell_type": "code",
   "execution_count": 88,
   "metadata": {},
   "outputs": [
    {
     "output_type": "execute_result",
     "data": {
      "text/plain": [
       "(20, 27)"
      ]
     },
     "metadata": {},
     "execution_count": 88
    }
   ],
   "source": [
    "df_best.shape"
   ]
  },
  {
   "cell_type": "code",
   "execution_count": 89,
   "metadata": {},
   "outputs": [
    {
     "output_type": "execute_result",
     "data": {
      "text/plain": [
       "   number     value             datetime_start          datetime_complete  \\\n",
       "0      61  0.918981 2021-06-27 15:30:43.710765 2021-06-27 15:30:45.429765   \n",
       "1     122  0.916667 2021-06-27 15:32:32.982089 2021-06-27 15:32:34.669090   \n",
       "\n",
       "                duration  params_init_learning_rate  \\\n",
       "0 0 days 00:00:01.719000                 136.819742   \n",
       "1 0 days 00:00:01.687001                 149.730407   \n",
       "\n",
       "   params_learning_rate_decay  params_max_depth  params_n_experts  \\\n",
       "0                    0.994125                 2                 3   \n",
       "1                    0.992079                 2                 3   \n",
       "\n",
       "        params_optimization_method  ...         Data X          Data y  \\\n",
       "0  least_squares_linear_regression  ...  cars_input.pd  cars_target.pd   \n",
       "1  least_squares_linear_regression  ...  cars_input.pd  cars_target.pd   \n",
       "\n",
       "   initialization_method  params_alpha  params_beta  params_gamma  \\\n",
       "0                    str           NaN          NaN           NaN   \n",
       "1                    str           NaN          NaN           NaN   \n",
       "\n",
       "  params_mean_precision_prior params_weight_concentration_prior  \\\n",
       "0                         NaN                               NaN   \n",
       "1                         NaN                               NaN   \n",
       "\n",
       "  params_weight_concentration_prior_type params_weight_cutoff  \n",
       "0                                    NaN                  NaN  \n",
       "1                                    NaN                  NaN  \n",
       "\n",
       "[2 rows x 27 columns]"
      ],
      "text/html": "<div>\n<style scoped>\n    .dataframe tbody tr th:only-of-type {\n        vertical-align: middle;\n    }\n\n    .dataframe tbody tr th {\n        vertical-align: top;\n    }\n\n    .dataframe thead th {\n        text-align: right;\n    }\n</style>\n<table border=\"1\" class=\"dataframe\">\n  <thead>\n    <tr style=\"text-align: right;\">\n      <th></th>\n      <th>number</th>\n      <th>value</th>\n      <th>datetime_start</th>\n      <th>datetime_complete</th>\n      <th>duration</th>\n      <th>params_init_learning_rate</th>\n      <th>params_learning_rate_decay</th>\n      <th>params_max_depth</th>\n      <th>params_n_experts</th>\n      <th>params_optimization_method</th>\n      <th>...</th>\n      <th>Data X</th>\n      <th>Data y</th>\n      <th>initialization_method</th>\n      <th>params_alpha</th>\n      <th>params_beta</th>\n      <th>params_gamma</th>\n      <th>params_mean_precision_prior</th>\n      <th>params_weight_concentration_prior</th>\n      <th>params_weight_concentration_prior_type</th>\n      <th>params_weight_cutoff</th>\n    </tr>\n  </thead>\n  <tbody>\n    <tr>\n      <th>0</th>\n      <td>61</td>\n      <td>0.918981</td>\n      <td>2021-06-27 15:30:43.710765</td>\n      <td>2021-06-27 15:30:45.429765</td>\n      <td>0 days 00:00:01.719000</td>\n      <td>136.819742</td>\n      <td>0.994125</td>\n      <td>2</td>\n      <td>3</td>\n      <td>least_squares_linear_regression</td>\n      <td>...</td>\n      <td>cars_input.pd</td>\n      <td>cars_target.pd</td>\n      <td>str</td>\n      <td>NaN</td>\n      <td>NaN</td>\n      <td>NaN</td>\n      <td>NaN</td>\n      <td>NaN</td>\n      <td>NaN</td>\n      <td>NaN</td>\n    </tr>\n    <tr>\n      <th>1</th>\n      <td>122</td>\n      <td>0.916667</td>\n      <td>2021-06-27 15:32:32.982089</td>\n      <td>2021-06-27 15:32:34.669090</td>\n      <td>0 days 00:00:01.687001</td>\n      <td>149.730407</td>\n      <td>0.992079</td>\n      <td>2</td>\n      <td>3</td>\n      <td>least_squares_linear_regression</td>\n      <td>...</td>\n      <td>cars_input.pd</td>\n      <td>cars_target.pd</td>\n      <td>str</td>\n      <td>NaN</td>\n      <td>NaN</td>\n      <td>NaN</td>\n      <td>NaN</td>\n      <td>NaN</td>\n      <td>NaN</td>\n      <td>NaN</td>\n    </tr>\n  </tbody>\n</table>\n<p>2 rows × 27 columns</p>\n</div>"
     },
     "metadata": {},
     "execution_count": 89
    }
   ],
   "source": [
    "df_best.head(2)"
   ]
  },
  {
   "cell_type": "code",
   "execution_count": 90,
   "metadata": {},
   "outputs": [],
   "source": [
    "pickle.dump(df_best, open(\"dataframes/df_top10_hyperparameters_per_dataset.pd\", \"wb\"))"
   ]
  },
  {
   "cell_type": "code",
   "execution_count": 92,
   "metadata": {},
   "outputs": [
    {
     "output_type": "execute_result",
     "data": {
      "text/plain": [
       "                   number     value  params_init_learning_rate  \\\n",
       "Data X                                                           \n",
       "cars_input.pd        74.5  0.829030                  95.747788   \n",
       "students_input.pd    74.5  0.464243                  94.522937   \n",
       "\n",
       "                   params_learning_rate_decay  params_max_depth  \\\n",
       "Data X                                                            \n",
       "cars_input.pd                        0.990093               2.0   \n",
       "students_input.pd                    0.985094               2.0   \n",
       "\n",
       "                   params_n_experts  params_use_posterior  \\\n",
       "Data X                                                      \n",
       "cars_input.pd                   3.0              0.298333   \n",
       "students_input.pd               3.0              0.080000   \n",
       "\n",
       "                   user_attrs_accuracy_train  user_attrs_accuracy_val  \\\n",
       "Data X                                                                  \n",
       "cars_input.pd                       0.840195                 0.829030   \n",
       "students_input.pd                   0.538959                 0.464243   \n",
       "\n",
       "                   user_attrs_std_train  user_attrs_std_val  params_alpha  \\\n",
       "Data X                                                                      \n",
       "cars_input.pd                  0.012467            0.018739      1.727876   \n",
       "students_input.pd              0.015877            0.042211      2.244846   \n",
       "\n",
       "                   params_beta  params_gamma  params_mean_precision_prior  \\\n",
       "Data X                                                                      \n",
       "cars_input.pd         0.148894      0.216165                     0.317720   \n",
       "students_input.pd     0.373535      0.239302                     0.320073   \n",
       "\n",
       "                   params_weight_concentration_prior  params_weight_cutoff  \n",
       "Data X                                                                      \n",
       "cars_input.pd                               0.609470                   0.0  \n",
       "students_input.pd                           0.293613                   0.0  "
      ],
      "text/html": "<div>\n<style scoped>\n    .dataframe tbody tr th:only-of-type {\n        vertical-align: middle;\n    }\n\n    .dataframe tbody tr th {\n        vertical-align: top;\n    }\n\n    .dataframe thead th {\n        text-align: right;\n    }\n</style>\n<table border=\"1\" class=\"dataframe\">\n  <thead>\n    <tr style=\"text-align: right;\">\n      <th></th>\n      <th>number</th>\n      <th>value</th>\n      <th>params_init_learning_rate</th>\n      <th>params_learning_rate_decay</th>\n      <th>params_max_depth</th>\n      <th>params_n_experts</th>\n      <th>params_use_posterior</th>\n      <th>user_attrs_accuracy_train</th>\n      <th>user_attrs_accuracy_val</th>\n      <th>user_attrs_std_train</th>\n      <th>user_attrs_std_val</th>\n      <th>params_alpha</th>\n      <th>params_beta</th>\n      <th>params_gamma</th>\n      <th>params_mean_precision_prior</th>\n      <th>params_weight_concentration_prior</th>\n      <th>params_weight_cutoff</th>\n    </tr>\n    <tr>\n      <th>Data X</th>\n      <th></th>\n      <th></th>\n      <th></th>\n      <th></th>\n      <th></th>\n      <th></th>\n      <th></th>\n      <th></th>\n      <th></th>\n      <th></th>\n      <th></th>\n      <th></th>\n      <th></th>\n      <th></th>\n      <th></th>\n      <th></th>\n      <th></th>\n    </tr>\n  </thead>\n  <tbody>\n    <tr>\n      <th>cars_input.pd</th>\n      <td>74.5</td>\n      <td>0.829030</td>\n      <td>95.747788</td>\n      <td>0.990093</td>\n      <td>2.0</td>\n      <td>3.0</td>\n      <td>0.298333</td>\n      <td>0.840195</td>\n      <td>0.829030</td>\n      <td>0.012467</td>\n      <td>0.018739</td>\n      <td>1.727876</td>\n      <td>0.148894</td>\n      <td>0.216165</td>\n      <td>0.317720</td>\n      <td>0.609470</td>\n      <td>0.0</td>\n    </tr>\n    <tr>\n      <th>students_input.pd</th>\n      <td>74.5</td>\n      <td>0.464243</td>\n      <td>94.522937</td>\n      <td>0.985094</td>\n      <td>2.0</td>\n      <td>3.0</td>\n      <td>0.080000</td>\n      <td>0.538959</td>\n      <td>0.464243</td>\n      <td>0.015877</td>\n      <td>0.042211</td>\n      <td>2.244846</td>\n      <td>0.373535</td>\n      <td>0.239302</td>\n      <td>0.320073</td>\n      <td>0.293613</td>\n      <td>0.0</td>\n    </tr>\n  </tbody>\n</table>\n</div>"
     },
     "metadata": {},
     "execution_count": 92
    }
   ],
   "source": [
    "df.groupby([\"Data X\"]).mean()"
   ]
  },
  {
   "cell_type": "code",
   "execution_count": 93,
   "metadata": {},
   "outputs": [
    {
     "output_type": "execute_result",
     "data": {
      "text/plain": [
       "0           cars_input.pd\n",
       "1           cars_input.pd\n",
       "2           cars_input.pd\n",
       "3           cars_input.pd\n",
       "4           cars_input.pd\n",
       "              ...        \n",
       "1195    students_input.pd\n",
       "1196    students_input.pd\n",
       "1197    students_input.pd\n",
       "1198    students_input.pd\n",
       "1199    students_input.pd\n",
       "Name: Data X, Length: 1200, dtype: object"
      ]
     },
     "metadata": {},
     "execution_count": 93
    }
   ],
   "source": [
    "df[\"Data X\"]"
   ]
  },
  {
   "cell_type": "code",
   "execution_count": 97,
   "metadata": {},
   "outputs": [
    {
     "output_type": "execute_result",
     "data": {
      "text/plain": [
       "NaN                       531\n",
       "feature_importance_lda    511\n",
       "feature_importance         87\n",
       "PCA                        71\n",
       "Name: params_use_2_dim_gate_based_on, dtype: int64"
      ]
     },
     "metadata": {},
     "execution_count": 97
    }
   ],
   "source": [
    "df[\"params_use_2_dim_gate_based_on\"].value_counts(dropna=False)"
   ]
  },
  {
   "cell_type": "code",
   "execution_count": null,
   "metadata": {},
   "outputs": [],
   "source": []
  }
 ]
}