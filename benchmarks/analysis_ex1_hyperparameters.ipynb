{
 "cells": [
  {
   "cell_type": "code",
   "execution_count": 1,
   "source": [
    "import pickle\n",
    "import pandas as pd\n",
    "import numpy as np\n",
    "import optuna\n",
    "\n",
    "#     optuna_ex1_hyperparameters_per_dataset.py\n",
    "#  -> analysis_ex1_hyperparameters.ipynb\n",
    "#  -> benchmark_ex1_best_hyperparameters.py\n",
    "#  -> analysis_ex1_hyperparameters_best.ipynb"
   ],
   "outputs": [],
   "metadata": {}
  },
  {
   "cell_type": "code",
   "execution_count": 2,
   "source": [
    "storage = \"sqlite:///optuna_databases/optuna_ex1_parameter_tuning_FG_e3_d2.sqlite3\" #CHANGE\n"
   ],
   "outputs": [],
   "metadata": {}
  },
  {
   "cell_type": "code",
   "execution_count": 3,
   "source": [
    "studies = optuna.study.get_all_study_summaries(storage=storage)"
   ],
   "outputs": [],
   "metadata": {}
  },
  {
   "cell_type": "code",
   "execution_count": 4,
   "source": [
    "loaded_study = optuna.load_study(study_name=studies[0].study_name, storage=storage)\n",
    "df = loaded_study.trials_dataframe()\n",
    "for key, value in loaded_study.system_attrs.items():\n",
    "    df[key] = value\n",
    "for study in studies[1:]:\n",
    "    loaded_study = optuna.load_study(study_name=study.study_name , storage=storage)\n",
    "    df_new = loaded_study.trials_dataframe()\n",
    "    for key, value in loaded_study.system_attrs.items():\n",
    "        df_new[key] = value\n",
    "    df = pd.concat([df, df_new])\n",
    "df.reset_index(inplace=True, drop=True)"
   ],
   "outputs": [],
   "metadata": {}
  },
  {
   "cell_type": "code",
   "execution_count": 5,
   "source": [
    "df.columns"
   ],
   "outputs": [
    {
     "output_type": "execute_result",
     "data": {
      "text/plain": [
       "Index(['number', 'value', 'datetime_start', 'datetime_complete', 'duration',\n",
       "       'params_init_learning_rate', 'params_learning_rate_decay',\n",
       "       'params_max_depth', 'params_n_experts', 'params_optimization_method',\n",
       "       'params_use_2_dim_clustering', 'params_use_2_dim_gate_based_on',\n",
       "       'user_attrs_accuracy_train', 'user_attrs_accuracy_val',\n",
       "       'user_attrs_std_train', 'user_attrs_std_val', 'state', 'Data X',\n",
       "       'Data y', 'initialization_method', 'params_alpha', 'params_beta',\n",
       "       'params_gamma', 'params_mean_precision_prior',\n",
       "       'params_weight_concentration_prior',\n",
       "       'params_weight_concentration_prior_type', 'params_weight_cutoff'],\n",
       "      dtype='object')"
      ]
     },
     "metadata": {},
     "execution_count": 5
    }
   ],
   "metadata": {}
  },
  {
   "cell_type": "code",
   "execution_count": 6,
   "source": [
    "df.head(1)"
   ],
   "outputs": [
    {
     "output_type": "execute_result",
     "data": {
      "text/plain": [
       "   number     value             datetime_start          datetime_complete  \\\n",
       "0       0  0.737129 2021-08-01 09:57:27.287026 2021-08-01 09:57:36.638517   \n",
       "\n",
       "                duration  params_init_learning_rate  \\\n",
       "0 0 days 00:00:09.351491                  58.713307   \n",
       "\n",
       "   params_learning_rate_decay  params_max_depth  params_n_experts  \\\n",
       "0                     0.98689                 2                 3   \n",
       "\n",
       "  params_optimization_method  ...            Data X             Data y  \\\n",
       "0           ridge_regression  ...  abalone_input.pd  abalone_target.pd   \n",
       "\n",
       "   initialization_method  params_alpha  params_beta  params_gamma  \\\n",
       "0                    str           NaN          NaN           NaN   \n",
       "\n",
       "  params_mean_precision_prior params_weight_concentration_prior  \\\n",
       "0                         NaN                               NaN   \n",
       "\n",
       "  params_weight_concentration_prior_type params_weight_cutoff  \n",
       "0                                    NaN                  NaN  \n",
       "\n",
       "[1 rows x 27 columns]"
      ],
      "text/html": "<div>\n<style scoped>\n    .dataframe tbody tr th:only-of-type {\n        vertical-align: middle;\n    }\n\n    .dataframe tbody tr th {\n        vertical-align: top;\n    }\n\n    .dataframe thead th {\n        text-align: right;\n    }\n</style>\n<table border=\"1\" class=\"dataframe\">\n  <thead>\n    <tr style=\"text-align: right;\">\n      <th></th>\n      <th>number</th>\n      <th>value</th>\n      <th>datetime_start</th>\n      <th>datetime_complete</th>\n      <th>duration</th>\n      <th>params_init_learning_rate</th>\n      <th>params_learning_rate_decay</th>\n      <th>params_max_depth</th>\n      <th>params_n_experts</th>\n      <th>params_optimization_method</th>\n      <th>...</th>\n      <th>Data X</th>\n      <th>Data y</th>\n      <th>initialization_method</th>\n      <th>params_alpha</th>\n      <th>params_beta</th>\n      <th>params_gamma</th>\n      <th>params_mean_precision_prior</th>\n      <th>params_weight_concentration_prior</th>\n      <th>params_weight_concentration_prior_type</th>\n      <th>params_weight_cutoff</th>\n    </tr>\n  </thead>\n  <tbody>\n    <tr>\n      <th>0</th>\n      <td>0</td>\n      <td>0.737129</td>\n      <td>2021-08-01 09:57:27.287026</td>\n      <td>2021-08-01 09:57:36.638517</td>\n      <td>0 days 00:00:09.351491</td>\n      <td>58.713307</td>\n      <td>0.98689</td>\n      <td>2</td>\n      <td>3</td>\n      <td>ridge_regression</td>\n      <td>...</td>\n      <td>abalone_input.pd</td>\n      <td>abalone_target.pd</td>\n      <td>str</td>\n      <td>NaN</td>\n      <td>NaN</td>\n      <td>NaN</td>\n      <td>NaN</td>\n      <td>NaN</td>\n      <td>NaN</td>\n      <td>NaN</td>\n    </tr>\n  </tbody>\n</table>\n<p>1 rows × 27 columns</p>\n</div>"
     },
     "metadata": {},
     "execution_count": 6
    }
   ],
   "metadata": {}
  },
  {
   "cell_type": "code",
   "execution_count": 7,
   "source": [
    "df.initialization_method.value_counts()"
   ],
   "outputs": [
    {
     "output_type": "execute_result",
     "data": {
      "text/plain": [
       "KDTmeans_init    1200\n",
       "BGM_init         1200\n",
       "str              1200\n",
       "Kmeans_init      1200\n",
       "Name: initialization_method, dtype: int64"
      ]
     },
     "metadata": {},
     "execution_count": 7
    }
   ],
   "metadata": {}
  },
  {
   "cell_type": "code",
   "execution_count": 8,
   "source": [
    "np.unique(df.initialization_method)"
   ],
   "outputs": [
    {
     "output_type": "execute_result",
     "data": {
      "text/plain": [
       "array(['BGM_init', 'KDTmeans_init', 'Kmeans_init', 'str'], dtype=object)"
      ]
     },
     "metadata": {},
     "execution_count": 8
    }
   ],
   "metadata": {}
  },
  {
   "cell_type": "code",
   "execution_count": 9,
   "source": [
    "np.unique(df[\"Data X\"])"
   ],
   "outputs": [
    {
     "output_type": "execute_result",
     "data": {
      "text/plain": [
       "array(['abalone_input.pd', 'adult_input.pd', 'bank_input.pd',\n",
       "       'banknote_input.pd', 'breast_cancer_input.np', 'cars_input.pd',\n",
       "       'contraceptive_input.pd', 'generated6_input.np', 'hrss_input.pd',\n",
       "       'iris_input.pd', 'steel_input.pd', 'students_input.pd'],\n",
       "      dtype=object)"
      ]
     },
     "metadata": {},
     "execution_count": 9
    }
   ],
   "metadata": {}
  },
  {
   "cell_type": "code",
   "execution_count": 10,
   "source": [
    "top = 10\n",
    "df_best = pd.DataFrame()\n",
    "for dataset in np.unique(df[\"Data X\"]):\n",
    "    df_new = df[df[\"Data X\"] == dataset].sort_values(by=[\"user_attrs_accuracy_val\"], ascending=False).head(top)\n",
    "    df_best = pd.concat([df_best, df_new])\n",
    "df_best.reset_index(inplace=True, drop=True)\n"
   ],
   "outputs": [],
   "metadata": {}
  },
  {
   "cell_type": "code",
   "execution_count": 11,
   "source": [
    "df_best.shape"
   ],
   "outputs": [
    {
     "output_type": "execute_result",
     "data": {
      "text/plain": [
       "(120, 27)"
      ]
     },
     "metadata": {},
     "execution_count": 11
    }
   ],
   "metadata": {}
  },
  {
   "cell_type": "code",
   "execution_count": 12,
   "source": [
    "df_best.head(2)"
   ],
   "outputs": [
    {
     "output_type": "execute_result",
     "data": {
      "text/plain": [
       "   number     value             datetime_start          datetime_complete  \\\n",
       "0      99  0.744551 2021-08-01 10:12:49.223958 2021-08-01 10:12:58.311047   \n",
       "1      80  0.743597 2021-08-01 11:01:19.841504 2021-08-01 11:01:29.775526   \n",
       "\n",
       "                duration  params_init_learning_rate  \\\n",
       "0 0 days 00:00:09.087089                 105.335940   \n",
       "1 0 days 00:00:09.934022                  26.374218   \n",
       "\n",
       "   params_learning_rate_decay  params_max_depth  params_n_experts  \\\n",
       "0                    0.979024                 2                 3   \n",
       "1                    0.996630                 2                 3   \n",
       "\n",
       "        params_optimization_method  ...            Data X             Data y  \\\n",
       "0  least_squares_linear_regression  ...  abalone_input.pd  abalone_target.pd   \n",
       "1                 ridge_regression  ...  abalone_input.pd  abalone_target.pd   \n",
       "\n",
       "   initialization_method  params_alpha  params_beta  params_gamma  \\\n",
       "0                    str           NaN          NaN           NaN   \n",
       "1               BGM_init           NaN          NaN           NaN   \n",
       "\n",
       "  params_mean_precision_prior params_weight_concentration_prior  \\\n",
       "0                         NaN                               NaN   \n",
       "1                    0.690984                          0.993941   \n",
       "\n",
       "  params_weight_concentration_prior_type params_weight_cutoff  \n",
       "0                                    NaN                  NaN  \n",
       "1                      dirichlet_process                  0.0  \n",
       "\n",
       "[2 rows x 27 columns]"
      ],
      "text/html": "<div>\n<style scoped>\n    .dataframe tbody tr th:only-of-type {\n        vertical-align: middle;\n    }\n\n    .dataframe tbody tr th {\n        vertical-align: top;\n    }\n\n    .dataframe thead th {\n        text-align: right;\n    }\n</style>\n<table border=\"1\" class=\"dataframe\">\n  <thead>\n    <tr style=\"text-align: right;\">\n      <th></th>\n      <th>number</th>\n      <th>value</th>\n      <th>datetime_start</th>\n      <th>datetime_complete</th>\n      <th>duration</th>\n      <th>params_init_learning_rate</th>\n      <th>params_learning_rate_decay</th>\n      <th>params_max_depth</th>\n      <th>params_n_experts</th>\n      <th>params_optimization_method</th>\n      <th>...</th>\n      <th>Data X</th>\n      <th>Data y</th>\n      <th>initialization_method</th>\n      <th>params_alpha</th>\n      <th>params_beta</th>\n      <th>params_gamma</th>\n      <th>params_mean_precision_prior</th>\n      <th>params_weight_concentration_prior</th>\n      <th>params_weight_concentration_prior_type</th>\n      <th>params_weight_cutoff</th>\n    </tr>\n  </thead>\n  <tbody>\n    <tr>\n      <th>0</th>\n      <td>99</td>\n      <td>0.744551</td>\n      <td>2021-08-01 10:12:49.223958</td>\n      <td>2021-08-01 10:12:58.311047</td>\n      <td>0 days 00:00:09.087089</td>\n      <td>105.335940</td>\n      <td>0.979024</td>\n      <td>2</td>\n      <td>3</td>\n      <td>least_squares_linear_regression</td>\n      <td>...</td>\n      <td>abalone_input.pd</td>\n      <td>abalone_target.pd</td>\n      <td>str</td>\n      <td>NaN</td>\n      <td>NaN</td>\n      <td>NaN</td>\n      <td>NaN</td>\n      <td>NaN</td>\n      <td>NaN</td>\n      <td>NaN</td>\n    </tr>\n    <tr>\n      <th>1</th>\n      <td>80</td>\n      <td>0.743597</td>\n      <td>2021-08-01 11:01:19.841504</td>\n      <td>2021-08-01 11:01:29.775526</td>\n      <td>0 days 00:00:09.934022</td>\n      <td>26.374218</td>\n      <td>0.996630</td>\n      <td>2</td>\n      <td>3</td>\n      <td>ridge_regression</td>\n      <td>...</td>\n      <td>abalone_input.pd</td>\n      <td>abalone_target.pd</td>\n      <td>BGM_init</td>\n      <td>NaN</td>\n      <td>NaN</td>\n      <td>NaN</td>\n      <td>0.690984</td>\n      <td>0.993941</td>\n      <td>dirichlet_process</td>\n      <td>0.0</td>\n    </tr>\n  </tbody>\n</table>\n<p>2 rows × 27 columns</p>\n</div>"
     },
     "metadata": {},
     "execution_count": 12
    }
   ],
   "metadata": {}
  },
  {
   "cell_type": "code",
   "execution_count": 13,
   "source": [
    "pickle.dump(df_best, open(\"dataframes/ex1_df_top10_hyperparameters_per_dataset_FG_e3_d2.pd\", \"wb\"))\n",
    "#pickle.dump(df_best, open(\"dataframes/ex1_df_top10_hyperparameters_per_dataset_2D_e3_d2.pd\", \"wb\")) #CHANGE"
   ],
   "outputs": [],
   "metadata": {}
  },
  {
   "cell_type": "code",
   "execution_count": 14,
   "source": [
    "df.groupby([\"Data X\"]).mean()"
   ],
   "outputs": [
    {
     "output_type": "execute_result",
     "data": {
      "text/plain": [
       "                        number     value  params_init_learning_rate  \\\n",
       "Data X                                                                \n",
       "abalone_input.pd          49.5  0.721247                  96.811629   \n",
       "adult_input.pd            49.5  0.820058                  94.519625   \n",
       "bank_input.pd             49.5  0.893576                  72.718241   \n",
       "banknote_input.pd         49.5  0.990355                  99.792260   \n",
       "breast_cancer_input.np    49.5  0.921008                  89.011376   \n",
       "cars_input.pd             49.5  0.837642                  71.816171   \n",
       "contraceptive_input.pd    49.5  0.476611                  83.289465   \n",
       "generated6_input.np       49.5  0.934682                  94.293090   \n",
       "hrss_input.pd             49.5  0.772569                  96.983612   \n",
       "iris_input.pd             49.5  0.942615                  70.513663   \n",
       "steel_input.pd            49.5  0.636004                  81.294306   \n",
       "students_input.pd         49.5  0.432609                  65.405747   \n",
       "\n",
       "                        params_learning_rate_decay  params_max_depth  \\\n",
       "Data X                                                                 \n",
       "abalone_input.pd                          0.990977               2.0   \n",
       "adult_input.pd                            0.988661               2.0   \n",
       "bank_input.pd                             0.988409               2.0   \n",
       "banknote_input.pd                         0.991196               2.0   \n",
       "breast_cancer_input.np                    0.985726               2.0   \n",
       "cars_input.pd                             0.988026               2.0   \n",
       "contraceptive_input.pd                    0.989048               2.0   \n",
       "generated6_input.np                       0.987885               2.0   \n",
       "hrss_input.pd                             0.989518               2.0   \n",
       "iris_input.pd                             0.987200               2.0   \n",
       "steel_input.pd                            0.991884               2.0   \n",
       "students_input.pd                         0.986616               2.0   \n",
       "\n",
       "                        params_n_experts  params_use_2_dim_clustering  \\\n",
       "Data X                                                                  \n",
       "abalone_input.pd                     3.0                        False   \n",
       "adult_input.pd                       3.0                        False   \n",
       "bank_input.pd                        3.0                        False   \n",
       "banknote_input.pd                    3.0                        False   \n",
       "breast_cancer_input.np               3.0                        False   \n",
       "cars_input.pd                        3.0                        False   \n",
       "contraceptive_input.pd               3.0                        False   \n",
       "generated6_input.np                  3.0                        False   \n",
       "hrss_input.pd                        3.0                        False   \n",
       "iris_input.pd                        3.0                        False   \n",
       "steel_input.pd                       3.0                        False   \n",
       "students_input.pd                    3.0                        False   \n",
       "\n",
       "                        user_attrs_accuracy_train  user_attrs_accuracy_val  \\\n",
       "Data X                                                                       \n",
       "abalone_input.pd                         0.741603                 0.721247   \n",
       "adult_input.pd                           0.833839                 0.820058   \n",
       "bank_input.pd                            0.908610                 0.893576   \n",
       "banknote_input.pd                        0.994928                 0.990355   \n",
       "breast_cancer_input.np                   0.977689                 0.921008   \n",
       "cars_input.pd                            0.849168                 0.837642   \n",
       "contraceptive_input.pd                   0.516544                 0.476611   \n",
       "generated6_input.np                      0.939774                 0.934682   \n",
       "hrss_input.pd                            0.774025                 0.772569   \n",
       "iris_input.pd                            0.992837                 0.942615   \n",
       "steel_input.pd                           0.676310                 0.636004   \n",
       "students_input.pd                        0.535309                 0.432609   \n",
       "\n",
       "                        user_attrs_std_train  user_attrs_std_val  \\\n",
       "Data X                                                             \n",
       "abalone_input.pd                    0.009394            0.014063   \n",
       "adult_input.pd                      0.002728            0.015160   \n",
       "bank_input.pd                       0.001391            0.017817   \n",
       "banknote_input.pd                   0.001892            0.004966   \n",
       "breast_cancer_input.np              0.005059            0.019276   \n",
       "cars_input.pd                       0.011844            0.018472   \n",
       "contraceptive_input.pd              0.021064            0.023459   \n",
       "generated6_input.np                 0.011175            0.013023   \n",
       "hrss_input.pd                       0.003079            0.004864   \n",
       "iris_input.pd                       0.005205            0.030971   \n",
       "steel_input.pd                      0.020576            0.024780   \n",
       "students_input.pd                   0.016272            0.042786   \n",
       "\n",
       "                        params_alpha  params_beta  params_gamma  \\\n",
       "Data X                                                            \n",
       "abalone_input.pd            2.373486     0.214790      0.216893   \n",
       "adult_input.pd              2.741668     0.128315      0.252740   \n",
       "bank_input.pd               1.543526     0.347298      0.264870   \n",
       "banknote_input.pd           2.000330     0.266298      0.212740   \n",
       "breast_cancer_input.np      2.030817     0.257354      0.266819   \n",
       "cars_input.pd               2.207345     0.295656      0.299062   \n",
       "contraceptive_input.pd      2.124954     0.186198      0.243814   \n",
       "generated6_input.np         3.212625     0.245182      0.192469   \n",
       "hrss_input.pd               2.373430     0.271384      0.307401   \n",
       "iris_input.pd               2.539622     0.201463      0.319743   \n",
       "steel_input.pd              2.909481     0.118367      0.339039   \n",
       "students_input.pd           2.942419     0.237466      0.261689   \n",
       "\n",
       "                        params_mean_precision_prior  \\\n",
       "Data X                                                \n",
       "abalone_input.pd                           0.660676   \n",
       "adult_input.pd                             0.368580   \n",
       "bank_input.pd                              0.561818   \n",
       "banknote_input.pd                          0.507898   \n",
       "breast_cancer_input.np                     0.347714   \n",
       "cars_input.pd                              0.716310   \n",
       "contraceptive_input.pd                     0.443408   \n",
       "generated6_input.np                        0.620360   \n",
       "hrss_input.pd                              0.633489   \n",
       "iris_input.pd                              0.511812   \n",
       "steel_input.pd                             0.567043   \n",
       "students_input.pd                          0.401564   \n",
       "\n",
       "                        params_weight_concentration_prior  \\\n",
       "Data X                                                      \n",
       "abalone_input.pd                                 0.757818   \n",
       "adult_input.pd                                   0.470691   \n",
       "bank_input.pd                                    0.577128   \n",
       "banknote_input.pd                                0.334241   \n",
       "breast_cancer_input.np                           0.373375   \n",
       "cars_input.pd                                    0.557731   \n",
       "contraceptive_input.pd                           0.737701   \n",
       "generated6_input.np                              0.509176   \n",
       "hrss_input.pd                                    0.573778   \n",
       "iris_input.pd                                    0.609166   \n",
       "steel_input.pd                                   0.550310   \n",
       "students_input.pd                                0.413783   \n",
       "\n",
       "                        params_weight_cutoff  \n",
       "Data X                                        \n",
       "abalone_input.pd                         0.0  \n",
       "adult_input.pd                           0.0  \n",
       "bank_input.pd                            0.0  \n",
       "banknote_input.pd                        0.0  \n",
       "breast_cancer_input.np                   0.0  \n",
       "cars_input.pd                            0.0  \n",
       "contraceptive_input.pd                   0.0  \n",
       "generated6_input.np                      0.0  \n",
       "hrss_input.pd                            0.0  \n",
       "iris_input.pd                            0.0  \n",
       "steel_input.pd                           0.0  \n",
       "students_input.pd                        0.0  "
      ],
      "text/html": "<div>\n<style scoped>\n    .dataframe tbody tr th:only-of-type {\n        vertical-align: middle;\n    }\n\n    .dataframe tbody tr th {\n        vertical-align: top;\n    }\n\n    .dataframe thead th {\n        text-align: right;\n    }\n</style>\n<table border=\"1\" class=\"dataframe\">\n  <thead>\n    <tr style=\"text-align: right;\">\n      <th></th>\n      <th>number</th>\n      <th>value</th>\n      <th>params_init_learning_rate</th>\n      <th>params_learning_rate_decay</th>\n      <th>params_max_depth</th>\n      <th>params_n_experts</th>\n      <th>params_use_2_dim_clustering</th>\n      <th>user_attrs_accuracy_train</th>\n      <th>user_attrs_accuracy_val</th>\n      <th>user_attrs_std_train</th>\n      <th>user_attrs_std_val</th>\n      <th>params_alpha</th>\n      <th>params_beta</th>\n      <th>params_gamma</th>\n      <th>params_mean_precision_prior</th>\n      <th>params_weight_concentration_prior</th>\n      <th>params_weight_cutoff</th>\n    </tr>\n    <tr>\n      <th>Data X</th>\n      <th></th>\n      <th></th>\n      <th></th>\n      <th></th>\n      <th></th>\n      <th></th>\n      <th></th>\n      <th></th>\n      <th></th>\n      <th></th>\n      <th></th>\n      <th></th>\n      <th></th>\n      <th></th>\n      <th></th>\n      <th></th>\n      <th></th>\n    </tr>\n  </thead>\n  <tbody>\n    <tr>\n      <th>abalone_input.pd</th>\n      <td>49.5</td>\n      <td>0.721247</td>\n      <td>96.811629</td>\n      <td>0.990977</td>\n      <td>2.0</td>\n      <td>3.0</td>\n      <td>False</td>\n      <td>0.741603</td>\n      <td>0.721247</td>\n      <td>0.009394</td>\n      <td>0.014063</td>\n      <td>2.373486</td>\n      <td>0.214790</td>\n      <td>0.216893</td>\n      <td>0.660676</td>\n      <td>0.757818</td>\n      <td>0.0</td>\n    </tr>\n    <tr>\n      <th>adult_input.pd</th>\n      <td>49.5</td>\n      <td>0.820058</td>\n      <td>94.519625</td>\n      <td>0.988661</td>\n      <td>2.0</td>\n      <td>3.0</td>\n      <td>False</td>\n      <td>0.833839</td>\n      <td>0.820058</td>\n      <td>0.002728</td>\n      <td>0.015160</td>\n      <td>2.741668</td>\n      <td>0.128315</td>\n      <td>0.252740</td>\n      <td>0.368580</td>\n      <td>0.470691</td>\n      <td>0.0</td>\n    </tr>\n    <tr>\n      <th>bank_input.pd</th>\n      <td>49.5</td>\n      <td>0.893576</td>\n      <td>72.718241</td>\n      <td>0.988409</td>\n      <td>2.0</td>\n      <td>3.0</td>\n      <td>False</td>\n      <td>0.908610</td>\n      <td>0.893576</td>\n      <td>0.001391</td>\n      <td>0.017817</td>\n      <td>1.543526</td>\n      <td>0.347298</td>\n      <td>0.264870</td>\n      <td>0.561818</td>\n      <td>0.577128</td>\n      <td>0.0</td>\n    </tr>\n    <tr>\n      <th>banknote_input.pd</th>\n      <td>49.5</td>\n      <td>0.990355</td>\n      <td>99.792260</td>\n      <td>0.991196</td>\n      <td>2.0</td>\n      <td>3.0</td>\n      <td>False</td>\n      <td>0.994928</td>\n      <td>0.990355</td>\n      <td>0.001892</td>\n      <td>0.004966</td>\n      <td>2.000330</td>\n      <td>0.266298</td>\n      <td>0.212740</td>\n      <td>0.507898</td>\n      <td>0.334241</td>\n      <td>0.0</td>\n    </tr>\n    <tr>\n      <th>breast_cancer_input.np</th>\n      <td>49.5</td>\n      <td>0.921008</td>\n      <td>89.011376</td>\n      <td>0.985726</td>\n      <td>2.0</td>\n      <td>3.0</td>\n      <td>False</td>\n      <td>0.977689</td>\n      <td>0.921008</td>\n      <td>0.005059</td>\n      <td>0.019276</td>\n      <td>2.030817</td>\n      <td>0.257354</td>\n      <td>0.266819</td>\n      <td>0.347714</td>\n      <td>0.373375</td>\n      <td>0.0</td>\n    </tr>\n    <tr>\n      <th>cars_input.pd</th>\n      <td>49.5</td>\n      <td>0.837642</td>\n      <td>71.816171</td>\n      <td>0.988026</td>\n      <td>2.0</td>\n      <td>3.0</td>\n      <td>False</td>\n      <td>0.849168</td>\n      <td>0.837642</td>\n      <td>0.011844</td>\n      <td>0.018472</td>\n      <td>2.207345</td>\n      <td>0.295656</td>\n      <td>0.299062</td>\n      <td>0.716310</td>\n      <td>0.557731</td>\n      <td>0.0</td>\n    </tr>\n    <tr>\n      <th>contraceptive_input.pd</th>\n      <td>49.5</td>\n      <td>0.476611</td>\n      <td>83.289465</td>\n      <td>0.989048</td>\n      <td>2.0</td>\n      <td>3.0</td>\n      <td>False</td>\n      <td>0.516544</td>\n      <td>0.476611</td>\n      <td>0.021064</td>\n      <td>0.023459</td>\n      <td>2.124954</td>\n      <td>0.186198</td>\n      <td>0.243814</td>\n      <td>0.443408</td>\n      <td>0.737701</td>\n      <td>0.0</td>\n    </tr>\n    <tr>\n      <th>generated6_input.np</th>\n      <td>49.5</td>\n      <td>0.934682</td>\n      <td>94.293090</td>\n      <td>0.987885</td>\n      <td>2.0</td>\n      <td>3.0</td>\n      <td>False</td>\n      <td>0.939774</td>\n      <td>0.934682</td>\n      <td>0.011175</td>\n      <td>0.013023</td>\n      <td>3.212625</td>\n      <td>0.245182</td>\n      <td>0.192469</td>\n      <td>0.620360</td>\n      <td>0.509176</td>\n      <td>0.0</td>\n    </tr>\n    <tr>\n      <th>hrss_input.pd</th>\n      <td>49.5</td>\n      <td>0.772569</td>\n      <td>96.983612</td>\n      <td>0.989518</td>\n      <td>2.0</td>\n      <td>3.0</td>\n      <td>False</td>\n      <td>0.774025</td>\n      <td>0.772569</td>\n      <td>0.003079</td>\n      <td>0.004864</td>\n      <td>2.373430</td>\n      <td>0.271384</td>\n      <td>0.307401</td>\n      <td>0.633489</td>\n      <td>0.573778</td>\n      <td>0.0</td>\n    </tr>\n    <tr>\n      <th>iris_input.pd</th>\n      <td>49.5</td>\n      <td>0.942615</td>\n      <td>70.513663</td>\n      <td>0.987200</td>\n      <td>2.0</td>\n      <td>3.0</td>\n      <td>False</td>\n      <td>0.992837</td>\n      <td>0.942615</td>\n      <td>0.005205</td>\n      <td>0.030971</td>\n      <td>2.539622</td>\n      <td>0.201463</td>\n      <td>0.319743</td>\n      <td>0.511812</td>\n      <td>0.609166</td>\n      <td>0.0</td>\n    </tr>\n    <tr>\n      <th>steel_input.pd</th>\n      <td>49.5</td>\n      <td>0.636004</td>\n      <td>81.294306</td>\n      <td>0.991884</td>\n      <td>2.0</td>\n      <td>3.0</td>\n      <td>False</td>\n      <td>0.676310</td>\n      <td>0.636004</td>\n      <td>0.020576</td>\n      <td>0.024780</td>\n      <td>2.909481</td>\n      <td>0.118367</td>\n      <td>0.339039</td>\n      <td>0.567043</td>\n      <td>0.550310</td>\n      <td>0.0</td>\n    </tr>\n    <tr>\n      <th>students_input.pd</th>\n      <td>49.5</td>\n      <td>0.432609</td>\n      <td>65.405747</td>\n      <td>0.986616</td>\n      <td>2.0</td>\n      <td>3.0</td>\n      <td>False</td>\n      <td>0.535309</td>\n      <td>0.432609</td>\n      <td>0.016272</td>\n      <td>0.042786</td>\n      <td>2.942419</td>\n      <td>0.237466</td>\n      <td>0.261689</td>\n      <td>0.401564</td>\n      <td>0.413783</td>\n      <td>0.0</td>\n    </tr>\n  </tbody>\n</table>\n</div>"
     },
     "metadata": {},
     "execution_count": 14
    }
   ],
   "metadata": {}
  },
  {
   "cell_type": "code",
   "execution_count": 15,
   "metadata": {},
   "outputs": [
    {
     "output_type": "execute_result",
     "data": {
      "text/plain": [
       "                        number     value  params_init_learning_rate  \\\n",
       "Data X                                                                \n",
       "abalone_input.pd          45.2  0.741106                  79.569444   \n",
       "adult_input.pd            57.8  0.839109                 102.747275   \n",
       "bank_input.pd             71.0  0.907240                  60.514409   \n",
       "banknote_input.pd         52.2  0.999344                 128.963570   \n",
       "breast_cancer_input.np    59.4  0.942378                 109.108423   \n",
       "cars_input.pd             66.5  0.908275                 111.947279   \n",
       "contraceptive_input.pd    54.9  0.535443                  72.893356   \n",
       "generated6_input.np       65.1  0.968600                 108.171731   \n",
       "hrss_input.pd             56.7  0.778016                 130.115336   \n",
       "iris_input.pd             54.3  0.970057                  65.436976   \n",
       "steel_input.pd            47.0  0.681605                  73.302532   \n",
       "students_input.pd         59.4  0.490404                  67.052331   \n",
       "\n",
       "                        params_learning_rate_decay  params_max_depth  \\\n",
       "Data X                                                                 \n",
       "abalone_input.pd                          0.983270               2.0   \n",
       "adult_input.pd                            0.981776               2.0   \n",
       "bank_input.pd                             0.990251               2.0   \n",
       "banknote_input.pd                         0.992441               2.0   \n",
       "breast_cancer_input.np                    0.986425               2.0   \n",
       "cars_input.pd                             0.983131               2.0   \n",
       "contraceptive_input.pd                    0.985582               2.0   \n",
       "generated6_input.np                       0.986677               2.0   \n",
       "hrss_input.pd                             0.987273               2.0   \n",
       "iris_input.pd                             0.987436               2.0   \n",
       "steel_input.pd                            0.989159               2.0   \n",
       "students_input.pd                         0.986506               2.0   \n",
       "\n",
       "                        params_n_experts  params_use_2_dim_clustering  \\\n",
       "Data X                                                                  \n",
       "abalone_input.pd                     3.0                        False   \n",
       "adult_input.pd                       3.0                        False   \n",
       "bank_input.pd                        3.0                        False   \n",
       "banknote_input.pd                    3.0                        False   \n",
       "breast_cancer_input.np               3.0                        False   \n",
       "cars_input.pd                        3.0                        False   \n",
       "contraceptive_input.pd               3.0                        False   \n",
       "generated6_input.np                  3.0                        False   \n",
       "hrss_input.pd                        3.0                        False   \n",
       "iris_input.pd                        3.0                        False   \n",
       "steel_input.pd                       3.0                        False   \n",
       "students_input.pd                    3.0                        False   \n",
       "\n",
       "                        user_attrs_accuracy_train  user_attrs_accuracy_val  \\\n",
       "Data X                                                                       \n",
       "abalone_input.pd                         0.755853                 0.741106   \n",
       "adult_input.pd                           0.840047                 0.839109   \n",
       "bank_input.pd                            0.910132                 0.907240   \n",
       "banknote_input.pd                        0.999490                 0.999344   \n",
       "breast_cancer_input.np                   0.982836                 0.942378   \n",
       "cars_input.pd                            0.920390                 0.908275   \n",
       "contraceptive_input.pd                   0.591242                 0.535443   \n",
       "generated6_input.np                      0.971353                 0.968600   \n",
       "hrss_input.pd                            0.778854                 0.778016   \n",
       "iris_input.pd                            0.992895                 0.970057   \n",
       "steel_input.pd                           0.718821                 0.681605   \n",
       "students_input.pd                        0.527532                 0.490404   \n",
       "\n",
       "                        user_attrs_std_train  user_attrs_std_val  \\\n",
       "Data X                                                             \n",
       "abalone_input.pd                    0.004167            0.010109   \n",
       "adult_input.pd                      0.002328            0.003966   \n",
       "bank_input.pd                       0.001554            0.002468   \n",
       "banknote_input.pd                   0.000634            0.001136   \n",
       "breast_cancer_input.np              0.004622            0.018857   \n",
       "cars_input.pd                       0.007144            0.011395   \n",
       "contraceptive_input.pd              0.012085            0.019310   \n",
       "generated6_input.np                 0.004434            0.005465   \n",
       "hrss_input.pd                       0.003866            0.004184   \n",
       "iris_input.pd                       0.004900            0.021873   \n",
       "steel_input.pd                      0.013599            0.022266   \n",
       "students_input.pd                   0.012970            0.025358   \n",
       "\n",
       "                        params_alpha  params_beta  params_gamma  \\\n",
       "Data X                                                            \n",
       "abalone_input.pd                 NaN          NaN           NaN   \n",
       "adult_input.pd              3.054080     0.073167      0.356302   \n",
       "bank_input.pd               0.767410     0.448480      0.261945   \n",
       "banknote_input.pd           1.840128     0.368680      0.174474   \n",
       "breast_cancer_input.np      1.222096     0.283576      0.121287   \n",
       "cars_input.pd                    NaN          NaN           NaN   \n",
       "contraceptive_input.pd           NaN          NaN           NaN   \n",
       "generated6_input.np         3.563866     0.215078      0.193654   \n",
       "hrss_input.pd                    NaN          NaN           NaN   \n",
       "iris_input.pd               2.586149     0.097330      0.302300   \n",
       "steel_input.pd                   NaN          NaN           NaN   \n",
       "students_input.pd           3.173847     0.275530      0.232955   \n",
       "\n",
       "                        params_mean_precision_prior  \\\n",
       "Data X                                                \n",
       "abalone_input.pd                           0.690984   \n",
       "adult_input.pd                                  NaN   \n",
       "bank_input.pd                              0.374489   \n",
       "banknote_input.pd                          0.312761   \n",
       "breast_cancer_input.np                     0.350092   \n",
       "cars_input.pd                              0.845475   \n",
       "contraceptive_input.pd                          NaN   \n",
       "generated6_input.np                        0.343637   \n",
       "hrss_input.pd                              0.670108   \n",
       "iris_input.pd                              0.522579   \n",
       "steel_input.pd                             0.548914   \n",
       "students_input.pd                               NaN   \n",
       "\n",
       "                        params_weight_concentration_prior  \\\n",
       "Data X                                                      \n",
       "abalone_input.pd                                 0.993941   \n",
       "adult_input.pd                                        NaN   \n",
       "bank_input.pd                                    0.458089   \n",
       "banknote_input.pd                                0.243509   \n",
       "breast_cancer_input.np                           0.214208   \n",
       "cars_input.pd                                    0.926563   \n",
       "contraceptive_input.pd                                NaN   \n",
       "generated6_input.np                              0.469480   \n",
       "hrss_input.pd                                    0.757414   \n",
       "iris_input.pd                                    0.514809   \n",
       "steel_input.pd                                   0.671890   \n",
       "students_input.pd                                     NaN   \n",
       "\n",
       "                        params_weight_cutoff  \n",
       "Data X                                        \n",
       "abalone_input.pd                         0.0  \n",
       "adult_input.pd                           NaN  \n",
       "bank_input.pd                            0.0  \n",
       "banknote_input.pd                        0.0  \n",
       "breast_cancer_input.np                   0.0  \n",
       "cars_input.pd                            0.0  \n",
       "contraceptive_input.pd                   NaN  \n",
       "generated6_input.np                      0.0  \n",
       "hrss_input.pd                            0.0  \n",
       "iris_input.pd                            0.0  \n",
       "steel_input.pd                           0.0  \n",
       "students_input.pd                        NaN  "
      ],
      "text/html": "<div>\n<style scoped>\n    .dataframe tbody tr th:only-of-type {\n        vertical-align: middle;\n    }\n\n    .dataframe tbody tr th {\n        vertical-align: top;\n    }\n\n    .dataframe thead th {\n        text-align: right;\n    }\n</style>\n<table border=\"1\" class=\"dataframe\">\n  <thead>\n    <tr style=\"text-align: right;\">\n      <th></th>\n      <th>number</th>\n      <th>value</th>\n      <th>params_init_learning_rate</th>\n      <th>params_learning_rate_decay</th>\n      <th>params_max_depth</th>\n      <th>params_n_experts</th>\n      <th>params_use_2_dim_clustering</th>\n      <th>user_attrs_accuracy_train</th>\n      <th>user_attrs_accuracy_val</th>\n      <th>user_attrs_std_train</th>\n      <th>user_attrs_std_val</th>\n      <th>params_alpha</th>\n      <th>params_beta</th>\n      <th>params_gamma</th>\n      <th>params_mean_precision_prior</th>\n      <th>params_weight_concentration_prior</th>\n      <th>params_weight_cutoff</th>\n    </tr>\n    <tr>\n      <th>Data X</th>\n      <th></th>\n      <th></th>\n      <th></th>\n      <th></th>\n      <th></th>\n      <th></th>\n      <th></th>\n      <th></th>\n      <th></th>\n      <th></th>\n      <th></th>\n      <th></th>\n      <th></th>\n      <th></th>\n      <th></th>\n      <th></th>\n      <th></th>\n    </tr>\n  </thead>\n  <tbody>\n    <tr>\n      <th>abalone_input.pd</th>\n      <td>45.2</td>\n      <td>0.741106</td>\n      <td>79.569444</td>\n      <td>0.983270</td>\n      <td>2.0</td>\n      <td>3.0</td>\n      <td>False</td>\n      <td>0.755853</td>\n      <td>0.741106</td>\n      <td>0.004167</td>\n      <td>0.010109</td>\n      <td>NaN</td>\n      <td>NaN</td>\n      <td>NaN</td>\n      <td>0.690984</td>\n      <td>0.993941</td>\n      <td>0.0</td>\n    </tr>\n    <tr>\n      <th>adult_input.pd</th>\n      <td>57.8</td>\n      <td>0.839109</td>\n      <td>102.747275</td>\n      <td>0.981776</td>\n      <td>2.0</td>\n      <td>3.0</td>\n      <td>False</td>\n      <td>0.840047</td>\n      <td>0.839109</td>\n      <td>0.002328</td>\n      <td>0.003966</td>\n      <td>3.054080</td>\n      <td>0.073167</td>\n      <td>0.356302</td>\n      <td>NaN</td>\n      <td>NaN</td>\n      <td>NaN</td>\n    </tr>\n    <tr>\n      <th>bank_input.pd</th>\n      <td>71.0</td>\n      <td>0.907240</td>\n      <td>60.514409</td>\n      <td>0.990251</td>\n      <td>2.0</td>\n      <td>3.0</td>\n      <td>False</td>\n      <td>0.910132</td>\n      <td>0.907240</td>\n      <td>0.001554</td>\n      <td>0.002468</td>\n      <td>0.767410</td>\n      <td>0.448480</td>\n      <td>0.261945</td>\n      <td>0.374489</td>\n      <td>0.458089</td>\n      <td>0.0</td>\n    </tr>\n    <tr>\n      <th>banknote_input.pd</th>\n      <td>52.2</td>\n      <td>0.999344</td>\n      <td>128.963570</td>\n      <td>0.992441</td>\n      <td>2.0</td>\n      <td>3.0</td>\n      <td>False</td>\n      <td>0.999490</td>\n      <td>0.999344</td>\n      <td>0.000634</td>\n      <td>0.001136</td>\n      <td>1.840128</td>\n      <td>0.368680</td>\n      <td>0.174474</td>\n      <td>0.312761</td>\n      <td>0.243509</td>\n      <td>0.0</td>\n    </tr>\n    <tr>\n      <th>breast_cancer_input.np</th>\n      <td>59.4</td>\n      <td>0.942378</td>\n      <td>109.108423</td>\n      <td>0.986425</td>\n      <td>2.0</td>\n      <td>3.0</td>\n      <td>False</td>\n      <td>0.982836</td>\n      <td>0.942378</td>\n      <td>0.004622</td>\n      <td>0.018857</td>\n      <td>1.222096</td>\n      <td>0.283576</td>\n      <td>0.121287</td>\n      <td>0.350092</td>\n      <td>0.214208</td>\n      <td>0.0</td>\n    </tr>\n    <tr>\n      <th>cars_input.pd</th>\n      <td>66.5</td>\n      <td>0.908275</td>\n      <td>111.947279</td>\n      <td>0.983131</td>\n      <td>2.0</td>\n      <td>3.0</td>\n      <td>False</td>\n      <td>0.920390</td>\n      <td>0.908275</td>\n      <td>0.007144</td>\n      <td>0.011395</td>\n      <td>NaN</td>\n      <td>NaN</td>\n      <td>NaN</td>\n      <td>0.845475</td>\n      <td>0.926563</td>\n      <td>0.0</td>\n    </tr>\n    <tr>\n      <th>contraceptive_input.pd</th>\n      <td>54.9</td>\n      <td>0.535443</td>\n      <td>72.893356</td>\n      <td>0.985582</td>\n      <td>2.0</td>\n      <td>3.0</td>\n      <td>False</td>\n      <td>0.591242</td>\n      <td>0.535443</td>\n      <td>0.012085</td>\n      <td>0.019310</td>\n      <td>NaN</td>\n      <td>NaN</td>\n      <td>NaN</td>\n      <td>NaN</td>\n      <td>NaN</td>\n      <td>NaN</td>\n    </tr>\n    <tr>\n      <th>generated6_input.np</th>\n      <td>65.1</td>\n      <td>0.968600</td>\n      <td>108.171731</td>\n      <td>0.986677</td>\n      <td>2.0</td>\n      <td>3.0</td>\n      <td>False</td>\n      <td>0.971353</td>\n      <td>0.968600</td>\n      <td>0.004434</td>\n      <td>0.005465</td>\n      <td>3.563866</td>\n      <td>0.215078</td>\n      <td>0.193654</td>\n      <td>0.343637</td>\n      <td>0.469480</td>\n      <td>0.0</td>\n    </tr>\n    <tr>\n      <th>hrss_input.pd</th>\n      <td>56.7</td>\n      <td>0.778016</td>\n      <td>130.115336</td>\n      <td>0.987273</td>\n      <td>2.0</td>\n      <td>3.0</td>\n      <td>False</td>\n      <td>0.778854</td>\n      <td>0.778016</td>\n      <td>0.003866</td>\n      <td>0.004184</td>\n      <td>NaN</td>\n      <td>NaN</td>\n      <td>NaN</td>\n      <td>0.670108</td>\n      <td>0.757414</td>\n      <td>0.0</td>\n    </tr>\n    <tr>\n      <th>iris_input.pd</th>\n      <td>54.3</td>\n      <td>0.970057</td>\n      <td>65.436976</td>\n      <td>0.987436</td>\n      <td>2.0</td>\n      <td>3.0</td>\n      <td>False</td>\n      <td>0.992895</td>\n      <td>0.970057</td>\n      <td>0.004900</td>\n      <td>0.021873</td>\n      <td>2.586149</td>\n      <td>0.097330</td>\n      <td>0.302300</td>\n      <td>0.522579</td>\n      <td>0.514809</td>\n      <td>0.0</td>\n    </tr>\n    <tr>\n      <th>steel_input.pd</th>\n      <td>47.0</td>\n      <td>0.681605</td>\n      <td>73.302532</td>\n      <td>0.989159</td>\n      <td>2.0</td>\n      <td>3.0</td>\n      <td>False</td>\n      <td>0.718821</td>\n      <td>0.681605</td>\n      <td>0.013599</td>\n      <td>0.022266</td>\n      <td>NaN</td>\n      <td>NaN</td>\n      <td>NaN</td>\n      <td>0.548914</td>\n      <td>0.671890</td>\n      <td>0.0</td>\n    </tr>\n    <tr>\n      <th>students_input.pd</th>\n      <td>59.4</td>\n      <td>0.490404</td>\n      <td>67.052331</td>\n      <td>0.986506</td>\n      <td>2.0</td>\n      <td>3.0</td>\n      <td>False</td>\n      <td>0.527532</td>\n      <td>0.490404</td>\n      <td>0.012970</td>\n      <td>0.025358</td>\n      <td>3.173847</td>\n      <td>0.275530</td>\n      <td>0.232955</td>\n      <td>NaN</td>\n      <td>NaN</td>\n      <td>NaN</td>\n    </tr>\n  </tbody>\n</table>\n</div>"
     },
     "metadata": {},
     "execution_count": 15
    }
   ],
   "source": [
    "df_best.groupby([\"Data X\"]).mean()"
   ]
  },
  {
   "cell_type": "code",
   "execution_count": 16,
   "source": [
    "df[\"params_use_2_dim_gate_based_on\"].value_counts(dropna=False)"
   ],
   "outputs": [
    {
     "output_type": "execute_result",
     "data": {
      "text/plain": [
       "NaN    4800\n",
       "Name: params_use_2_dim_gate_based_on, dtype: int64"
      ]
     },
     "metadata": {},
     "execution_count": 16
    }
   ],
   "metadata": {}
  },
  {
   "cell_type": "code",
   "execution_count": 17,
   "metadata": {},
   "outputs": [
    {
     "output_type": "execute_result",
     "data": {
      "text/plain": [
       "ridge_regression                   59\n",
       "least_squares_linear_regression    48\n",
       "lasso_regression                   13\n",
       "Name: params_optimization_method, dtype: int64"
      ]
     },
     "metadata": {},
     "execution_count": 17
    }
   ],
   "source": [
    "df_best[\"params_optimization_method\"].value_counts()"
   ]
  },
  {
   "cell_type": "code",
   "execution_count": 18,
   "metadata": {},
   "outputs": [
    {
     "output_type": "execute_result",
     "data": {
      "text/plain": [
       "                                 number     value  params_init_learning_rate  \\\n",
       "params_optimization_method                                                     \n",
       "lasso_regression                   62.0  0.839334                  92.179746   \n",
       "least_squares_linear_regression    57.5  0.942006                  92.374768   \n",
       "ridge_regression                   64.0  0.839467                  98.906816   \n",
       "\n",
       "                                 params_learning_rate_decay  params_max_depth  \\\n",
       "params_optimization_method                                                      \n",
       "lasso_regression                                   0.985302               2.0   \n",
       "least_squares_linear_regression                    0.986529               2.0   \n",
       "ridge_regression                                   0.986770               2.0   \n",
       "\n",
       "                                 params_n_experts  \\\n",
       "params_optimization_method                          \n",
       "lasso_regression                              3.0   \n",
       "least_squares_linear_regression               3.0   \n",
       "ridge_regression                              3.0   \n",
       "\n",
       "                                 params_use_2_dim_clustering  \\\n",
       "params_optimization_method                                     \n",
       "lasso_regression                                       False   \n",
       "least_squares_linear_regression                        False   \n",
       "ridge_regression                                       False   \n",
       "\n",
       "                                 user_attrs_accuracy_train  \\\n",
       "params_optimization_method                                   \n",
       "lasso_regression                                  0.839931   \n",
       "least_squares_linear_regression                   0.970000   \n",
       "ridge_regression                                  0.842152   \n",
       "\n",
       "                                 user_attrs_accuracy_val  \\\n",
       "params_optimization_method                                 \n",
       "lasso_regression                                0.839334   \n",
       "least_squares_linear_regression                 0.942006   \n",
       "ridge_regression                                0.839467   \n",
       "\n",
       "                                 user_attrs_std_train  user_attrs_std_val  \\\n",
       "params_optimization_method                                                  \n",
       "lasso_regression                             0.001610            0.003954   \n",
       "least_squares_linear_regression              0.004223            0.010240   \n",
       "ridge_regression                             0.005152            0.010655   \n",
       "\n",
       "                                 params_alpha  params_beta  params_gamma  \\\n",
       "params_optimization_method                                                 \n",
       "lasso_regression                     0.824356     0.426253      0.129430   \n",
       "least_squares_linear_regression      3.297155     0.184299      0.248566   \n",
       "ridge_regression                     3.053379     0.157491      0.281216   \n",
       "\n",
       "                                 params_mean_precision_prior  \\\n",
       "params_optimization_method                                     \n",
       "lasso_regression                                         NaN   \n",
       "least_squares_linear_regression                     0.548914   \n",
       "ridge_regression                                    0.420200   \n",
       "\n",
       "                                 params_weight_concentration_prior  \\\n",
       "params_optimization_method                                           \n",
       "lasso_regression                                               NaN   \n",
       "least_squares_linear_regression                           0.571630   \n",
       "ridge_regression                                          0.571565   \n",
       "\n",
       "                                 params_weight_cutoff  \n",
       "params_optimization_method                             \n",
       "lasso_regression                                  NaN  \n",
       "least_squares_linear_regression                   0.0  \n",
       "ridge_regression                                  0.0  "
      ],
      "text/html": "<div>\n<style scoped>\n    .dataframe tbody tr th:only-of-type {\n        vertical-align: middle;\n    }\n\n    .dataframe tbody tr th {\n        vertical-align: top;\n    }\n\n    .dataframe thead th {\n        text-align: right;\n    }\n</style>\n<table border=\"1\" class=\"dataframe\">\n  <thead>\n    <tr style=\"text-align: right;\">\n      <th></th>\n      <th>number</th>\n      <th>value</th>\n      <th>params_init_learning_rate</th>\n      <th>params_learning_rate_decay</th>\n      <th>params_max_depth</th>\n      <th>params_n_experts</th>\n      <th>params_use_2_dim_clustering</th>\n      <th>user_attrs_accuracy_train</th>\n      <th>user_attrs_accuracy_val</th>\n      <th>user_attrs_std_train</th>\n      <th>user_attrs_std_val</th>\n      <th>params_alpha</th>\n      <th>params_beta</th>\n      <th>params_gamma</th>\n      <th>params_mean_precision_prior</th>\n      <th>params_weight_concentration_prior</th>\n      <th>params_weight_cutoff</th>\n    </tr>\n    <tr>\n      <th>params_optimization_method</th>\n      <th></th>\n      <th></th>\n      <th></th>\n      <th></th>\n      <th></th>\n      <th></th>\n      <th></th>\n      <th></th>\n      <th></th>\n      <th></th>\n      <th></th>\n      <th></th>\n      <th></th>\n      <th></th>\n      <th></th>\n      <th></th>\n      <th></th>\n    </tr>\n  </thead>\n  <tbody>\n    <tr>\n      <th>lasso_regression</th>\n      <td>62.0</td>\n      <td>0.839334</td>\n      <td>92.179746</td>\n      <td>0.985302</td>\n      <td>2.0</td>\n      <td>3.0</td>\n      <td>False</td>\n      <td>0.839931</td>\n      <td>0.839334</td>\n      <td>0.001610</td>\n      <td>0.003954</td>\n      <td>0.824356</td>\n      <td>0.426253</td>\n      <td>0.129430</td>\n      <td>NaN</td>\n      <td>NaN</td>\n      <td>NaN</td>\n    </tr>\n    <tr>\n      <th>least_squares_linear_regression</th>\n      <td>57.5</td>\n      <td>0.942006</td>\n      <td>92.374768</td>\n      <td>0.986529</td>\n      <td>2.0</td>\n      <td>3.0</td>\n      <td>False</td>\n      <td>0.970000</td>\n      <td>0.942006</td>\n      <td>0.004223</td>\n      <td>0.010240</td>\n      <td>3.297155</td>\n      <td>0.184299</td>\n      <td>0.248566</td>\n      <td>0.548914</td>\n      <td>0.571630</td>\n      <td>0.0</td>\n    </tr>\n    <tr>\n      <th>ridge_regression</th>\n      <td>64.0</td>\n      <td>0.839467</td>\n      <td>98.906816</td>\n      <td>0.986770</td>\n      <td>2.0</td>\n      <td>3.0</td>\n      <td>False</td>\n      <td>0.842152</td>\n      <td>0.839467</td>\n      <td>0.005152</td>\n      <td>0.010655</td>\n      <td>3.053379</td>\n      <td>0.157491</td>\n      <td>0.281216</td>\n      <td>0.420200</td>\n      <td>0.571565</td>\n      <td>0.0</td>\n    </tr>\n  </tbody>\n</table>\n</div>"
     },
     "metadata": {},
     "execution_count": 18
    }
   ],
   "source": [
    "df_best.groupby([\"params_optimization_method\"]).median()"
   ]
  },
  {
   "cell_type": "code",
   "execution_count": 20,
   "metadata": {},
   "outputs": [
    {
     "output_type": "execute_result",
     "data": {
      "text/plain": [
       "                                    number     value  \\\n",
       "params_optimization_method                             \n",
       "lasso_regression                 63.846154  0.748208   \n",
       "least_squares_linear_regression  51.750000  0.861607   \n",
       "ridge_regression                 60.694915  0.788677   \n",
       "\n",
       "                                 params_init_learning_rate  \\\n",
       "params_optimization_method                                   \n",
       "lasso_regression                                 86.129834   \n",
       "least_squares_linear_regression                  94.054996   \n",
       "ridge_regression                                 92.608457   \n",
       "\n",
       "                                 params_learning_rate_decay  params_max_depth  \\\n",
       "params_optimization_method                                                      \n",
       "lasso_regression                                   0.984515               2.0   \n",
       "least_squares_linear_regression                    0.987352               2.0   \n",
       "ridge_regression                                   0.986571               2.0   \n",
       "\n",
       "                                 params_n_experts  \\\n",
       "params_optimization_method                          \n",
       "lasso_regression                              3.0   \n",
       "least_squares_linear_regression               3.0   \n",
       "ridge_regression                              3.0   \n",
       "\n",
       "                                 params_use_2_dim_clustering  \\\n",
       "params_optimization_method                                     \n",
       "lasso_regression                                       False   \n",
       "least_squares_linear_regression                        False   \n",
       "ridge_regression                                       False   \n",
       "\n",
       "                                 user_attrs_accuracy_train  \\\n",
       "params_optimization_method                                   \n",
       "lasso_regression                                  0.756270   \n",
       "least_squares_linear_regression                   0.878175   \n",
       "ridge_regression                                  0.812043   \n",
       "\n",
       "                                 user_attrs_accuracy_val  \\\n",
       "params_optimization_method                                 \n",
       "lasso_regression                                0.748208   \n",
       "least_squares_linear_regression                 0.861607   \n",
       "ridge_regression                                0.788677   \n",
       "\n",
       "                                 user_attrs_std_train  user_attrs_std_val  \\\n",
       "params_optimization_method                                                  \n",
       "lasso_regression                             0.004511            0.009171   \n",
       "least_squares_linear_regression              0.004964            0.012220   \n",
       "ridge_regression                             0.007222            0.012849   \n",
       "\n",
       "                                 params_alpha  params_beta  params_gamma  \\\n",
       "params_optimization_method                                                 \n",
       "lasso_regression                     0.824356     0.426253      0.129430   \n",
       "least_squares_linear_regression      3.172670     0.195441      0.267134   \n",
       "ridge_regression                     2.690768     0.215031      0.264677   \n",
       "\n",
       "                                 params_mean_precision_prior  \\\n",
       "params_optimization_method                                     \n",
       "lasso_regression                                         NaN   \n",
       "least_squares_linear_regression                     0.525082   \n",
       "ridge_regression                                    0.477155   \n",
       "\n",
       "                                 params_weight_concentration_prior  \\\n",
       "params_optimization_method                                           \n",
       "lasso_regression                                               NaN   \n",
       "least_squares_linear_regression                           0.541967   \n",
       "ridge_regression                                          0.583699   \n",
       "\n",
       "                                 params_weight_cutoff  \n",
       "params_optimization_method                             \n",
       "lasso_regression                                  NaN  \n",
       "least_squares_linear_regression                   0.0  \n",
       "ridge_regression                                  0.0  "
      ],
      "text/html": "<div>\n<style scoped>\n    .dataframe tbody tr th:only-of-type {\n        vertical-align: middle;\n    }\n\n    .dataframe tbody tr th {\n        vertical-align: top;\n    }\n\n    .dataframe thead th {\n        text-align: right;\n    }\n</style>\n<table border=\"1\" class=\"dataframe\">\n  <thead>\n    <tr style=\"text-align: right;\">\n      <th></th>\n      <th>number</th>\n      <th>value</th>\n      <th>params_init_learning_rate</th>\n      <th>params_learning_rate_decay</th>\n      <th>params_max_depth</th>\n      <th>params_n_experts</th>\n      <th>params_use_2_dim_clustering</th>\n      <th>user_attrs_accuracy_train</th>\n      <th>user_attrs_accuracy_val</th>\n      <th>user_attrs_std_train</th>\n      <th>user_attrs_std_val</th>\n      <th>params_alpha</th>\n      <th>params_beta</th>\n      <th>params_gamma</th>\n      <th>params_mean_precision_prior</th>\n      <th>params_weight_concentration_prior</th>\n      <th>params_weight_cutoff</th>\n    </tr>\n    <tr>\n      <th>params_optimization_method</th>\n      <th></th>\n      <th></th>\n      <th></th>\n      <th></th>\n      <th></th>\n      <th></th>\n      <th></th>\n      <th></th>\n      <th></th>\n      <th></th>\n      <th></th>\n      <th></th>\n      <th></th>\n      <th></th>\n      <th></th>\n      <th></th>\n      <th></th>\n    </tr>\n  </thead>\n  <tbody>\n    <tr>\n      <th>lasso_regression</th>\n      <td>63.846154</td>\n      <td>0.748208</td>\n      <td>86.129834</td>\n      <td>0.984515</td>\n      <td>2.0</td>\n      <td>3.0</td>\n      <td>False</td>\n      <td>0.756270</td>\n      <td>0.748208</td>\n      <td>0.004511</td>\n      <td>0.009171</td>\n      <td>0.824356</td>\n      <td>0.426253</td>\n      <td>0.129430</td>\n      <td>NaN</td>\n      <td>NaN</td>\n      <td>NaN</td>\n    </tr>\n    <tr>\n      <th>least_squares_linear_regression</th>\n      <td>51.750000</td>\n      <td>0.861607</td>\n      <td>94.054996</td>\n      <td>0.987352</td>\n      <td>2.0</td>\n      <td>3.0</td>\n      <td>False</td>\n      <td>0.878175</td>\n      <td>0.861607</td>\n      <td>0.004964</td>\n      <td>0.012220</td>\n      <td>3.172670</td>\n      <td>0.195441</td>\n      <td>0.267134</td>\n      <td>0.525082</td>\n      <td>0.541967</td>\n      <td>0.0</td>\n    </tr>\n    <tr>\n      <th>ridge_regression</th>\n      <td>60.694915</td>\n      <td>0.788677</td>\n      <td>92.608457</td>\n      <td>0.986571</td>\n      <td>2.0</td>\n      <td>3.0</td>\n      <td>False</td>\n      <td>0.812043</td>\n      <td>0.788677</td>\n      <td>0.007222</td>\n      <td>0.012849</td>\n      <td>2.690768</td>\n      <td>0.215031</td>\n      <td>0.264677</td>\n      <td>0.477155</td>\n      <td>0.583699</td>\n      <td>0.0</td>\n    </tr>\n  </tbody>\n</table>\n</div>"
     },
     "metadata": {},
     "execution_count": 20
    }
   ],
   "source": [
    "df_best.groupby([\"params_optimization_method\"]).mean()"
   ]
  },
  {
   "cell_type": "code",
   "execution_count": 19,
   "metadata": {},
   "outputs": [
    {
     "output_type": "execute_result",
     "data": {
      "text/plain": [
       "Series([], Name: params_use_2_dim_gate_based_on, dtype: int64)"
      ]
     },
     "metadata": {},
     "execution_count": 19
    }
   ],
   "source": [
    "df_best[\"params_use_2_dim_gate_based_on\"].value_counts()"
   ]
  },
  {
   "cell_type": "code",
   "execution_count": null,
   "metadata": {},
   "outputs": [],
   "source": []
  }
 ],
 "metadata": {
  "interpreter": {
   "hash": "8a90dff821462728905d080773a3725eb443efa125022e7307d36f683ce19798"
  },
  "kernelspec": {
   "name": "python3",
   "display_name": "Python 3.8.5 64-bit ('MA1': conda)"
  },
  "language_info": {
   "codemirror_mode": {
    "name": "ipython",
    "version": 3
   },
   "file_extension": ".py",
   "mimetype": "text/x-python",
   "name": "python",
   "nbconvert_exporter": "python",
   "pygments_lexer": "ipython3",
   "version": "3.8.5"
  }
 },
 "nbformat": 4,
 "nbformat_minor": 2
}