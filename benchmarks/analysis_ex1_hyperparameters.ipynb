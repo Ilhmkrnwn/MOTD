{
 "cells": [
  {
   "cell_type": "code",
   "execution_count": 1,
   "source": [
    "import pickle\n",
    "import pandas as pd\n",
    "import numpy as np\n",
    "import optuna\n",
    "\n",
    "#     optuna_ex1_hyperparameters_per_dataset.py\n",
    "#  -> analysis_ex1_hyperparameters.ipynb\n",
    "#  -> benchmark_ex1_best_hyperparameters.py\n",
    "#  -> analysis_ex1_hyperparameters_best.ipynb"
   ],
   "outputs": [],
   "metadata": {}
  },
  {
   "cell_type": "code",
   "execution_count": 2,
   "source": [
    "storage = \"sqlite:///optuna_databases/optuna_ex1_parameter_tuning_2D_e3_d2.sqlite3\" #CHANGE\n"
   ],
   "outputs": [],
   "metadata": {}
  },
  {
   "cell_type": "code",
   "execution_count": 3,
   "source": [
    "studies = optuna.study.get_all_study_summaries(storage=storage)"
   ],
   "outputs": [],
   "metadata": {}
  },
  {
   "cell_type": "code",
   "execution_count": 4,
   "source": [
    "loaded_study = optuna.load_study(study_name=studies[0].study_name, storage=storage)\n",
    "df = loaded_study.trials_dataframe()\n",
    "for key, value in loaded_study.system_attrs.items():\n",
    "    df[key] = value\n",
    "for study in studies[1:]:\n",
    "    loaded_study = optuna.load_study(study_name=study.study_name , storage=storage)\n",
    "    df_new = loaded_study.trials_dataframe()\n",
    "    for key, value in loaded_study.system_attrs.items():\n",
    "        df_new[key] = value\n",
    "    df = pd.concat([df, df_new])\n",
    "df.reset_index(inplace=True, drop=True)"
   ],
   "outputs": [],
   "metadata": {}
  },
  {
   "cell_type": "code",
   "execution_count": 5,
   "source": [
    "df.columns"
   ],
   "outputs": [
    {
     "output_type": "execute_result",
     "data": {
      "text/plain": [
       "Index(['number', 'value', 'datetime_start', 'datetime_complete', 'duration',\n",
       "       'params_init_learning_rate', 'params_learning_rate_decay',\n",
       "       'params_max_depth', 'params_n_experts', 'params_optimization_method',\n",
       "       'params_use_2_dim_clustering', 'params_use_2_dim_gate_based_on',\n",
       "       'user_attrs_accuracy_train', 'user_attrs_accuracy_val',\n",
       "       'user_attrs_std_train', 'user_attrs_std_val', 'state', 'Data X',\n",
       "       'Data y', 'initialization_method', 'params_alpha', 'params_beta',\n",
       "       'params_gamma', 'params_mean_precision_prior',\n",
       "       'params_weight_concentration_prior',\n",
       "       'params_weight_concentration_prior_type', 'params_weight_cutoff'],\n",
       "      dtype='object')"
      ]
     },
     "metadata": {},
     "execution_count": 5
    }
   ],
   "metadata": {}
  },
  {
   "cell_type": "code",
   "execution_count": 6,
   "source": [
    "df.head(1)"
   ],
   "outputs": [
    {
     "output_type": "execute_result",
     "data": {
      "text/plain": [
       "   number    value             datetime_start          datetime_complete  \\\n",
       "0       0  0.71582 2021-07-29 17:26:54.287672 2021-07-29 17:26:59.056671   \n",
       "\n",
       "                duration  params_init_learning_rate  \\\n",
       "0 0 days 00:00:04.768999                   8.806749   \n",
       "\n",
       "   params_learning_rate_decay  params_max_depth  params_n_experts  \\\n",
       "0                    0.987118                 2                 3   \n",
       "\n",
       "  params_optimization_method  ...            Data X             Data y  \\\n",
       "0           ridge_regression  ...  abalone_input.pd  abalone_target.pd   \n",
       "\n",
       "   initialization_method  params_alpha  params_beta  params_gamma  \\\n",
       "0                    str           NaN          NaN           NaN   \n",
       "\n",
       "  params_mean_precision_prior params_weight_concentration_prior  \\\n",
       "0                         NaN                               NaN   \n",
       "\n",
       "  params_weight_concentration_prior_type params_weight_cutoff  \n",
       "0                                    NaN                  NaN  \n",
       "\n",
       "[1 rows x 27 columns]"
      ],
      "text/html": "<div>\n<style scoped>\n    .dataframe tbody tr th:only-of-type {\n        vertical-align: middle;\n    }\n\n    .dataframe tbody tr th {\n        vertical-align: top;\n    }\n\n    .dataframe thead th {\n        text-align: right;\n    }\n</style>\n<table border=\"1\" class=\"dataframe\">\n  <thead>\n    <tr style=\"text-align: right;\">\n      <th></th>\n      <th>number</th>\n      <th>value</th>\n      <th>datetime_start</th>\n      <th>datetime_complete</th>\n      <th>duration</th>\n      <th>params_init_learning_rate</th>\n      <th>params_learning_rate_decay</th>\n      <th>params_max_depth</th>\n      <th>params_n_experts</th>\n      <th>params_optimization_method</th>\n      <th>...</th>\n      <th>Data X</th>\n      <th>Data y</th>\n      <th>initialization_method</th>\n      <th>params_alpha</th>\n      <th>params_beta</th>\n      <th>params_gamma</th>\n      <th>params_mean_precision_prior</th>\n      <th>params_weight_concentration_prior</th>\n      <th>params_weight_concentration_prior_type</th>\n      <th>params_weight_cutoff</th>\n    </tr>\n  </thead>\n  <tbody>\n    <tr>\n      <th>0</th>\n      <td>0</td>\n      <td>0.71582</td>\n      <td>2021-07-29 17:26:54.287672</td>\n      <td>2021-07-29 17:26:59.056671</td>\n      <td>0 days 00:00:04.768999</td>\n      <td>8.806749</td>\n      <td>0.987118</td>\n      <td>2</td>\n      <td>3</td>\n      <td>ridge_regression</td>\n      <td>...</td>\n      <td>abalone_input.pd</td>\n      <td>abalone_target.pd</td>\n      <td>str</td>\n      <td>NaN</td>\n      <td>NaN</td>\n      <td>NaN</td>\n      <td>NaN</td>\n      <td>NaN</td>\n      <td>NaN</td>\n      <td>NaN</td>\n    </tr>\n  </tbody>\n</table>\n<p>1 rows × 27 columns</p>\n</div>"
     },
     "metadata": {},
     "execution_count": 6
    }
   ],
   "metadata": {}
  },
  {
   "cell_type": "code",
   "execution_count": 7,
   "source": [
    "df.initialization_method.value_counts()"
   ],
   "outputs": [
    {
     "output_type": "execute_result",
     "data": {
      "text/plain": [
       "Kmeans_init      1212\n",
       "str              1212\n",
       "KDTmeans_init    1212\n",
       "BGM_init         1212\n",
       "Name: initialization_method, dtype: int64"
      ]
     },
     "metadata": {},
     "execution_count": 7
    }
   ],
   "metadata": {}
  },
  {
   "cell_type": "code",
   "execution_count": 8,
   "source": [
    "np.unique(df.initialization_method)"
   ],
   "outputs": [
    {
     "output_type": "execute_result",
     "data": {
      "text/plain": [
       "array(['BGM_init', 'KDTmeans_init', 'Kmeans_init', 'str'], dtype=object)"
      ]
     },
     "metadata": {},
     "execution_count": 8
    }
   ],
   "metadata": {}
  },
  {
   "cell_type": "code",
   "execution_count": 9,
   "source": [
    "np.unique(df[\"Data X\"])"
   ],
   "outputs": [
    {
     "output_type": "execute_result",
     "data": {
      "text/plain": [
       "array(['abalone_input.pd', 'adult_input.pd', 'bank_input.pd',\n",
       "       'banknote_input.pd', 'breast_cancer_input.np', 'cars_input.pd',\n",
       "       'contraceptive_input.pd', 'generated6_input.np', 'hrss_input.pd',\n",
       "       'iris_input.pd', 'steel_input.pd', 'students_input.pd'],\n",
       "      dtype=object)"
      ]
     },
     "metadata": {},
     "execution_count": 9
    }
   ],
   "metadata": {}
  },
  {
   "cell_type": "code",
   "execution_count": 21,
   "source": [
    "top = 10\n",
    "df_best = pd.DataFrame()\n",
    "for dataset in np.unique(df[\"Data X\"]):\n",
    "    df_new = df[df[\"Data X\"] == dataset].sort_values(by=[\"user_attrs_accuracy_val\"], ascending=False).head(top)\n",
    "    df_best = pd.concat([df_best, df_new])\n",
    "df_best.reset_index(inplace=True, drop=True)\n"
   ],
   "outputs": [],
   "metadata": {}
  },
  {
   "cell_type": "code",
   "execution_count": 22,
   "source": [
    "df_best.shape"
   ],
   "outputs": [
    {
     "output_type": "execute_result",
     "data": {
      "text/plain": [
       "(120, 27)"
      ]
     },
     "metadata": {},
     "execution_count": 22
    }
   ],
   "metadata": {}
  },
  {
   "cell_type": "code",
   "execution_count": 23,
   "source": [
    "df_best.head(2)"
   ],
   "outputs": [
    {
     "output_type": "execute_result",
     "data": {
      "text/plain": [
       "   number     value             datetime_start          datetime_complete  \\\n",
       "0      48  0.737373 2021-07-29 19:32:44.315334 2021-07-29 19:32:54.882780   \n",
       "1      88  0.733782 2021-07-29 19:39:48.829076 2021-07-29 19:39:59.649793   \n",
       "\n",
       "                duration  params_init_learning_rate  \\\n",
       "0 0 days 00:00:10.567446                 137.423977   \n",
       "1 0 days 00:00:10.820717                 127.137474   \n",
       "\n",
       "   params_learning_rate_decay  params_max_depth  params_n_experts  \\\n",
       "0                    0.996847                 2                 3   \n",
       "1                    0.998689                 2                 3   \n",
       "\n",
       "  params_optimization_method  ...            Data X             Data y  \\\n",
       "0           ridge_regression  ...  abalone_input.pd  abalone_target.pd   \n",
       "1           ridge_regression  ...  abalone_input.pd  abalone_target.pd   \n",
       "\n",
       "   initialization_method  params_alpha  params_beta  params_gamma  \\\n",
       "0               BGM_init           NaN          NaN           NaN   \n",
       "1               BGM_init           NaN          NaN           NaN   \n",
       "\n",
       "  params_mean_precision_prior params_weight_concentration_prior  \\\n",
       "0                    0.349378                          0.269386   \n",
       "1                    0.671007                          0.290044   \n",
       "\n",
       "  params_weight_concentration_prior_type params_weight_cutoff  \n",
       "0                 dirichlet_distribution                  0.0  \n",
       "1                 dirichlet_distribution                  0.0  \n",
       "\n",
       "[2 rows x 27 columns]"
      ],
      "text/html": "<div>\n<style scoped>\n    .dataframe tbody tr th:only-of-type {\n        vertical-align: middle;\n    }\n\n    .dataframe tbody tr th {\n        vertical-align: top;\n    }\n\n    .dataframe thead th {\n        text-align: right;\n    }\n</style>\n<table border=\"1\" class=\"dataframe\">\n  <thead>\n    <tr style=\"text-align: right;\">\n      <th></th>\n      <th>number</th>\n      <th>value</th>\n      <th>datetime_start</th>\n      <th>datetime_complete</th>\n      <th>duration</th>\n      <th>params_init_learning_rate</th>\n      <th>params_learning_rate_decay</th>\n      <th>params_max_depth</th>\n      <th>params_n_experts</th>\n      <th>params_optimization_method</th>\n      <th>...</th>\n      <th>Data X</th>\n      <th>Data y</th>\n      <th>initialization_method</th>\n      <th>params_alpha</th>\n      <th>params_beta</th>\n      <th>params_gamma</th>\n      <th>params_mean_precision_prior</th>\n      <th>params_weight_concentration_prior</th>\n      <th>params_weight_concentration_prior_type</th>\n      <th>params_weight_cutoff</th>\n    </tr>\n  </thead>\n  <tbody>\n    <tr>\n      <th>0</th>\n      <td>48</td>\n      <td>0.737373</td>\n      <td>2021-07-29 19:32:44.315334</td>\n      <td>2021-07-29 19:32:54.882780</td>\n      <td>0 days 00:00:10.567446</td>\n      <td>137.423977</td>\n      <td>0.996847</td>\n      <td>2</td>\n      <td>3</td>\n      <td>ridge_regression</td>\n      <td>...</td>\n      <td>abalone_input.pd</td>\n      <td>abalone_target.pd</td>\n      <td>BGM_init</td>\n      <td>NaN</td>\n      <td>NaN</td>\n      <td>NaN</td>\n      <td>0.349378</td>\n      <td>0.269386</td>\n      <td>dirichlet_distribution</td>\n      <td>0.0</td>\n    </tr>\n    <tr>\n      <th>1</th>\n      <td>88</td>\n      <td>0.733782</td>\n      <td>2021-07-29 19:39:48.829076</td>\n      <td>2021-07-29 19:39:59.649793</td>\n      <td>0 days 00:00:10.820717</td>\n      <td>127.137474</td>\n      <td>0.998689</td>\n      <td>2</td>\n      <td>3</td>\n      <td>ridge_regression</td>\n      <td>...</td>\n      <td>abalone_input.pd</td>\n      <td>abalone_target.pd</td>\n      <td>BGM_init</td>\n      <td>NaN</td>\n      <td>NaN</td>\n      <td>NaN</td>\n      <td>0.671007</td>\n      <td>0.290044</td>\n      <td>dirichlet_distribution</td>\n      <td>0.0</td>\n    </tr>\n  </tbody>\n</table>\n<p>2 rows × 27 columns</p>\n</div>"
     },
     "metadata": {},
     "execution_count": 23
    }
   ],
   "metadata": {}
  },
  {
   "cell_type": "code",
   "execution_count": 24,
   "source": [
    "#pickle.dump(df_best, open(\"dataframes/ex1_df_top10_hyperparameters_per_dataset_FD_e3_d2.pd\", \"wb\"))\n",
    "pickle.dump(df_best, open(\"dataframes/ex1_df_top10_hyperparameters_per_dataset_2D_e3_d2.pd\", \"wb\")) #CHANGE"
   ],
   "outputs": [],
   "metadata": {}
  },
  {
   "cell_type": "code",
   "execution_count": 25,
   "source": [
    "df.groupby([\"Data X\"]).mean()"
   ],
   "outputs": [
    {
     "output_type": "execute_result",
     "data": {
      "text/plain": [
       "                           number     value  params_init_learning_rate  \\\n",
       "Data X                                                                   \n",
       "abalone_input.pd        49.009901  0.709470                  99.809565   \n",
       "adult_input.pd          49.009901  0.834996                  65.701799   \n",
       "bank_input.pd           49.009901  0.906775                  68.485053   \n",
       "banknote_input.pd       49.009901  0.977458                  81.340996   \n",
       "breast_cancer_input.np  49.009901  0.922598                  61.284745   \n",
       "cars_input.pd           49.009901  0.795082                  82.761344   \n",
       "contraceptive_input.pd  49.009901  0.539778                  96.026573   \n",
       "generated6_input.np     49.009901  0.926108                  96.712580   \n",
       "hrss_input.pd           49.009901  0.771224                  75.354605   \n",
       "iris_input.pd           49.009901  0.945492                  76.828725   \n",
       "steel_input.pd          49.009901  0.615716                  99.179621   \n",
       "students_input.pd       49.009901  0.467621                  82.798478   \n",
       "\n",
       "                        params_learning_rate_decay  params_max_depth  \\\n",
       "Data X                                                                 \n",
       "abalone_input.pd                          0.989751               2.0   \n",
       "adult_input.pd                            0.990354               2.0   \n",
       "bank_input.pd                             0.986449               2.0   \n",
       "banknote_input.pd                         0.988332               2.0   \n",
       "breast_cancer_input.np                    0.987819               2.0   \n",
       "cars_input.pd                             0.985129               2.0   \n",
       "contraceptive_input.pd                    0.986152               2.0   \n",
       "generated6_input.np                       0.987859               2.0   \n",
       "hrss_input.pd                             0.990805               2.0   \n",
       "iris_input.pd                             0.985957               2.0   \n",
       "steel_input.pd                            0.987738               2.0   \n",
       "students_input.pd                         0.987744               2.0   \n",
       "\n",
       "                        params_n_experts  params_use_2_dim_clustering  \\\n",
       "Data X                                                                  \n",
       "abalone_input.pd                     3.0                         True   \n",
       "adult_input.pd                       3.0                         True   \n",
       "bank_input.pd                        3.0                         True   \n",
       "banknote_input.pd                    3.0                         True   \n",
       "breast_cancer_input.np               3.0                         True   \n",
       "cars_input.pd                        3.0                         True   \n",
       "contraceptive_input.pd               3.0                         True   \n",
       "generated6_input.np                  3.0                         True   \n",
       "hrss_input.pd                        3.0                         True   \n",
       "iris_input.pd                        3.0                         True   \n",
       "steel_input.pd                       3.0                         True   \n",
       "students_input.pd                    3.0                         True   \n",
       "\n",
       "                        user_attrs_accuracy_train  user_attrs_accuracy_val  \\\n",
       "Data X                                                                       \n",
       "abalone_input.pd                         0.725937                 0.709470   \n",
       "adult_input.pd                           0.837549                 0.834996   \n",
       "bank_input.pd                            0.909759                 0.906775   \n",
       "banknote_input.pd                        0.987118                 0.977458   \n",
       "breast_cancer_input.np                   0.964526                 0.922598   \n",
       "cars_input.pd                            0.804452                 0.795082   \n",
       "contraceptive_input.pd                   0.569172                 0.539778   \n",
       "generated6_input.np                      0.931598                 0.926108   \n",
       "hrss_input.pd                            0.772132                 0.771224   \n",
       "iris_input.pd                            0.990066                 0.945492   \n",
       "steel_input.pd                           0.639794                 0.615716   \n",
       "students_input.pd                        0.540941                 0.467621   \n",
       "\n",
       "                        user_attrs_std_train  user_attrs_std_val  \\\n",
       "Data X                                                             \n",
       "abalone_input.pd                    0.006648            0.011873   \n",
       "adult_input.pd                      0.002054            0.006584   \n",
       "bank_input.pd                       0.001318            0.004691   \n",
       "banknote_input.pd                   0.003854            0.007690   \n",
       "breast_cancer_input.np              0.005939            0.018299   \n",
       "cars_input.pd                       0.009717            0.015968   \n",
       "contraceptive_input.pd              0.011478            0.020747   \n",
       "generated6_input.np                 0.011420            0.013798   \n",
       "hrss_input.pd                       0.002261            0.004730   \n",
       "iris_input.pd                       0.006198            0.028216   \n",
       "steel_input.pd                      0.018435            0.024941   \n",
       "students_input.pd                   0.015309            0.043832   \n",
       "\n",
       "                        params_alpha  params_beta  params_gamma  \\\n",
       "Data X                                                            \n",
       "abalone_input.pd            1.944604     0.378032      0.200535   \n",
       "adult_input.pd              2.391523     0.159688      0.331515   \n",
       "bank_input.pd               3.107680     0.204523      0.288042   \n",
       "banknote_input.pd           1.612292     0.206658      0.143187   \n",
       "breast_cancer_input.np      2.312267     0.198241      0.221582   \n",
       "cars_input.pd               2.024554     0.161061      0.185896   \n",
       "contraceptive_input.pd      2.967495     0.367225      0.210613   \n",
       "generated6_input.np         2.701032     0.164902      0.112983   \n",
       "hrss_input.pd               2.982472     0.289240      0.185007   \n",
       "iris_input.pd               1.891184     0.197029      0.312500   \n",
       "steel_input.pd              1.597974     0.216557      0.218242   \n",
       "students_input.pd           2.927898     0.311257      0.177184   \n",
       "\n",
       "                        params_mean_precision_prior  \\\n",
       "Data X                                                \n",
       "abalone_input.pd                           0.577498   \n",
       "adult_input.pd                             0.508724   \n",
       "bank_input.pd                              0.687174   \n",
       "banknote_input.pd                          0.770314   \n",
       "breast_cancer_input.np                     0.696980   \n",
       "cars_input.pd                              0.464478   \n",
       "contraceptive_input.pd                     0.651171   \n",
       "generated6_input.np                        0.325528   \n",
       "hrss_input.pd                              0.522882   \n",
       "iris_input.pd                              0.710659   \n",
       "steel_input.pd                             0.644523   \n",
       "students_input.pd                          0.543526   \n",
       "\n",
       "                        params_weight_concentration_prior  \\\n",
       "Data X                                                      \n",
       "abalone_input.pd                                 0.404890   \n",
       "adult_input.pd                                   0.599633   \n",
       "bank_input.pd                                    0.466602   \n",
       "banknote_input.pd                                0.611813   \n",
       "breast_cancer_input.np                           0.348388   \n",
       "cars_input.pd                                    0.593035   \n",
       "contraceptive_input.pd                           0.473157   \n",
       "generated6_input.np                              0.693757   \n",
       "hrss_input.pd                                    0.466111   \n",
       "iris_input.pd                                    0.486415   \n",
       "steel_input.pd                                   0.366394   \n",
       "students_input.pd                                0.469343   \n",
       "\n",
       "                        params_weight_cutoff  \n",
       "Data X                                        \n",
       "abalone_input.pd                         0.0  \n",
       "adult_input.pd                           0.0  \n",
       "bank_input.pd                            0.0  \n",
       "banknote_input.pd                        0.0  \n",
       "breast_cancer_input.np                   0.0  \n",
       "cars_input.pd                            0.0  \n",
       "contraceptive_input.pd                   0.0  \n",
       "generated6_input.np                      0.0  \n",
       "hrss_input.pd                            0.0  \n",
       "iris_input.pd                            0.0  \n",
       "steel_input.pd                           0.0  \n",
       "students_input.pd                        0.0  "
      ],
      "text/html": "<div>\n<style scoped>\n    .dataframe tbody tr th:only-of-type {\n        vertical-align: middle;\n    }\n\n    .dataframe tbody tr th {\n        vertical-align: top;\n    }\n\n    .dataframe thead th {\n        text-align: right;\n    }\n</style>\n<table border=\"1\" class=\"dataframe\">\n  <thead>\n    <tr style=\"text-align: right;\">\n      <th></th>\n      <th>number</th>\n      <th>value</th>\n      <th>params_init_learning_rate</th>\n      <th>params_learning_rate_decay</th>\n      <th>params_max_depth</th>\n      <th>params_n_experts</th>\n      <th>params_use_2_dim_clustering</th>\n      <th>user_attrs_accuracy_train</th>\n      <th>user_attrs_accuracy_val</th>\n      <th>user_attrs_std_train</th>\n      <th>user_attrs_std_val</th>\n      <th>params_alpha</th>\n      <th>params_beta</th>\n      <th>params_gamma</th>\n      <th>params_mean_precision_prior</th>\n      <th>params_weight_concentration_prior</th>\n      <th>params_weight_cutoff</th>\n    </tr>\n    <tr>\n      <th>Data X</th>\n      <th></th>\n      <th></th>\n      <th></th>\n      <th></th>\n      <th></th>\n      <th></th>\n      <th></th>\n      <th></th>\n      <th></th>\n      <th></th>\n      <th></th>\n      <th></th>\n      <th></th>\n      <th></th>\n      <th></th>\n      <th></th>\n      <th></th>\n    </tr>\n  </thead>\n  <tbody>\n    <tr>\n      <th>abalone_input.pd</th>\n      <td>49.009901</td>\n      <td>0.709470</td>\n      <td>99.809565</td>\n      <td>0.989751</td>\n      <td>2.0</td>\n      <td>3.0</td>\n      <td>True</td>\n      <td>0.725937</td>\n      <td>0.709470</td>\n      <td>0.006648</td>\n      <td>0.011873</td>\n      <td>1.944604</td>\n      <td>0.378032</td>\n      <td>0.200535</td>\n      <td>0.577498</td>\n      <td>0.404890</td>\n      <td>0.0</td>\n    </tr>\n    <tr>\n      <th>adult_input.pd</th>\n      <td>49.009901</td>\n      <td>0.834996</td>\n      <td>65.701799</td>\n      <td>0.990354</td>\n      <td>2.0</td>\n      <td>3.0</td>\n      <td>True</td>\n      <td>0.837549</td>\n      <td>0.834996</td>\n      <td>0.002054</td>\n      <td>0.006584</td>\n      <td>2.391523</td>\n      <td>0.159688</td>\n      <td>0.331515</td>\n      <td>0.508724</td>\n      <td>0.599633</td>\n      <td>0.0</td>\n    </tr>\n    <tr>\n      <th>bank_input.pd</th>\n      <td>49.009901</td>\n      <td>0.906775</td>\n      <td>68.485053</td>\n      <td>0.986449</td>\n      <td>2.0</td>\n      <td>3.0</td>\n      <td>True</td>\n      <td>0.909759</td>\n      <td>0.906775</td>\n      <td>0.001318</td>\n      <td>0.004691</td>\n      <td>3.107680</td>\n      <td>0.204523</td>\n      <td>0.288042</td>\n      <td>0.687174</td>\n      <td>0.466602</td>\n      <td>0.0</td>\n    </tr>\n    <tr>\n      <th>banknote_input.pd</th>\n      <td>49.009901</td>\n      <td>0.977458</td>\n      <td>81.340996</td>\n      <td>0.988332</td>\n      <td>2.0</td>\n      <td>3.0</td>\n      <td>True</td>\n      <td>0.987118</td>\n      <td>0.977458</td>\n      <td>0.003854</td>\n      <td>0.007690</td>\n      <td>1.612292</td>\n      <td>0.206658</td>\n      <td>0.143187</td>\n      <td>0.770314</td>\n      <td>0.611813</td>\n      <td>0.0</td>\n    </tr>\n    <tr>\n      <th>breast_cancer_input.np</th>\n      <td>49.009901</td>\n      <td>0.922598</td>\n      <td>61.284745</td>\n      <td>0.987819</td>\n      <td>2.0</td>\n      <td>3.0</td>\n      <td>True</td>\n      <td>0.964526</td>\n      <td>0.922598</td>\n      <td>0.005939</td>\n      <td>0.018299</td>\n      <td>2.312267</td>\n      <td>0.198241</td>\n      <td>0.221582</td>\n      <td>0.696980</td>\n      <td>0.348388</td>\n      <td>0.0</td>\n    </tr>\n    <tr>\n      <th>cars_input.pd</th>\n      <td>49.009901</td>\n      <td>0.795082</td>\n      <td>82.761344</td>\n      <td>0.985129</td>\n      <td>2.0</td>\n      <td>3.0</td>\n      <td>True</td>\n      <td>0.804452</td>\n      <td>0.795082</td>\n      <td>0.009717</td>\n      <td>0.015968</td>\n      <td>2.024554</td>\n      <td>0.161061</td>\n      <td>0.185896</td>\n      <td>0.464478</td>\n      <td>0.593035</td>\n      <td>0.0</td>\n    </tr>\n    <tr>\n      <th>contraceptive_input.pd</th>\n      <td>49.009901</td>\n      <td>0.539778</td>\n      <td>96.026573</td>\n      <td>0.986152</td>\n      <td>2.0</td>\n      <td>3.0</td>\n      <td>True</td>\n      <td>0.569172</td>\n      <td>0.539778</td>\n      <td>0.011478</td>\n      <td>0.020747</td>\n      <td>2.967495</td>\n      <td>0.367225</td>\n      <td>0.210613</td>\n      <td>0.651171</td>\n      <td>0.473157</td>\n      <td>0.0</td>\n    </tr>\n    <tr>\n      <th>generated6_input.np</th>\n      <td>49.009901</td>\n      <td>0.926108</td>\n      <td>96.712580</td>\n      <td>0.987859</td>\n      <td>2.0</td>\n      <td>3.0</td>\n      <td>True</td>\n      <td>0.931598</td>\n      <td>0.926108</td>\n      <td>0.011420</td>\n      <td>0.013798</td>\n      <td>2.701032</td>\n      <td>0.164902</td>\n      <td>0.112983</td>\n      <td>0.325528</td>\n      <td>0.693757</td>\n      <td>0.0</td>\n    </tr>\n    <tr>\n      <th>hrss_input.pd</th>\n      <td>49.009901</td>\n      <td>0.771224</td>\n      <td>75.354605</td>\n      <td>0.990805</td>\n      <td>2.0</td>\n      <td>3.0</td>\n      <td>True</td>\n      <td>0.772132</td>\n      <td>0.771224</td>\n      <td>0.002261</td>\n      <td>0.004730</td>\n      <td>2.982472</td>\n      <td>0.289240</td>\n      <td>0.185007</td>\n      <td>0.522882</td>\n      <td>0.466111</td>\n      <td>0.0</td>\n    </tr>\n    <tr>\n      <th>iris_input.pd</th>\n      <td>49.009901</td>\n      <td>0.945492</td>\n      <td>76.828725</td>\n      <td>0.985957</td>\n      <td>2.0</td>\n      <td>3.0</td>\n      <td>True</td>\n      <td>0.990066</td>\n      <td>0.945492</td>\n      <td>0.006198</td>\n      <td>0.028216</td>\n      <td>1.891184</td>\n      <td>0.197029</td>\n      <td>0.312500</td>\n      <td>0.710659</td>\n      <td>0.486415</td>\n      <td>0.0</td>\n    </tr>\n    <tr>\n      <th>steel_input.pd</th>\n      <td>49.009901</td>\n      <td>0.615716</td>\n      <td>99.179621</td>\n      <td>0.987738</td>\n      <td>2.0</td>\n      <td>3.0</td>\n      <td>True</td>\n      <td>0.639794</td>\n      <td>0.615716</td>\n      <td>0.018435</td>\n      <td>0.024941</td>\n      <td>1.597974</td>\n      <td>0.216557</td>\n      <td>0.218242</td>\n      <td>0.644523</td>\n      <td>0.366394</td>\n      <td>0.0</td>\n    </tr>\n    <tr>\n      <th>students_input.pd</th>\n      <td>49.009901</td>\n      <td>0.467621</td>\n      <td>82.798478</td>\n      <td>0.987744</td>\n      <td>2.0</td>\n      <td>3.0</td>\n      <td>True</td>\n      <td>0.540941</td>\n      <td>0.467621</td>\n      <td>0.015309</td>\n      <td>0.043832</td>\n      <td>2.927898</td>\n      <td>0.311257</td>\n      <td>0.177184</td>\n      <td>0.543526</td>\n      <td>0.469343</td>\n      <td>0.0</td>\n    </tr>\n  </tbody>\n</table>\n</div>"
     },
     "metadata": {},
     "execution_count": 25
    }
   ],
   "metadata": {}
  },
  {
   "cell_type": "code",
   "execution_count": 26,
   "metadata": {},
   "outputs": [
    {
     "output_type": "execute_result",
     "data": {
      "text/plain": [
       "                        number     value  params_init_learning_rate  \\\n",
       "Data X                                                                \n",
       "abalone_input.pd          60.8  0.731674                 126.973087   \n",
       "adult_input.pd            52.0  0.840117                  26.619247   \n",
       "bank_input.pd             52.7  0.911695                  44.431908   \n",
       "banknote_input.pd         70.5  0.995190                 117.299542   \n",
       "breast_cancer_input.np    50.6  0.941482                  48.302150   \n",
       "cars_input.pd             61.9  0.810069                  79.100372   \n",
       "contraceptive_input.pd    54.1  0.575288                 119.966788   \n",
       "generated6_input.np       62.3  0.968680                 118.853659   \n",
       "hrss_input.pd             52.1  0.775453                  82.479360   \n",
       "iris_input.pd             40.5  0.974520                  76.887149   \n",
       "steel_input.pd            63.5  0.678419                 137.602733   \n",
       "students_input.pd         61.1  0.514732                  95.920478   \n",
       "\n",
       "                        params_learning_rate_decay  params_max_depth  \\\n",
       "Data X                                                                 \n",
       "abalone_input.pd                          0.993876               2.0   \n",
       "adult_input.pd                            0.996597               2.0   \n",
       "bank_input.pd                             0.989367               2.0   \n",
       "banknote_input.pd                         0.981946               2.0   \n",
       "breast_cancer_input.np                    0.987416               2.0   \n",
       "cars_input.pd                             0.982035               2.0   \n",
       "contraceptive_input.pd                    0.981234               2.0   \n",
       "generated6_input.np                       0.983027               2.0   \n",
       "hrss_input.pd                             0.993243               2.0   \n",
       "iris_input.pd                             0.988082               2.0   \n",
       "steel_input.pd                            0.986454               2.0   \n",
       "students_input.pd                         0.987843               2.0   \n",
       "\n",
       "                        params_n_experts  params_use_2_dim_clustering  \\\n",
       "Data X                                                                  \n",
       "abalone_input.pd                     3.0                         True   \n",
       "adult_input.pd                       3.0                         True   \n",
       "bank_input.pd                        3.0                         True   \n",
       "banknote_input.pd                    3.0                         True   \n",
       "breast_cancer_input.np               3.0                         True   \n",
       "cars_input.pd                        3.0                         True   \n",
       "contraceptive_input.pd               3.0                         True   \n",
       "generated6_input.np                  3.0                         True   \n",
       "hrss_input.pd                        3.0                         True   \n",
       "iris_input.pd                        3.0                         True   \n",
       "steel_input.pd                       3.0                         True   \n",
       "students_input.pd                    3.0                         True   \n",
       "\n",
       "                        user_attrs_accuracy_train  user_attrs_accuracy_val  \\\n",
       "Data X                                                                       \n",
       "abalone_input.pd                         0.740667                 0.731674   \n",
       "adult_input.pd                           0.840273                 0.840117   \n",
       "bank_input.pd                            0.912744                 0.911695   \n",
       "banknote_input.pd                        0.997473                 0.995190   \n",
       "breast_cancer_input.np                   0.967193                 0.941482   \n",
       "cars_input.pd                            0.812288                 0.810069   \n",
       "contraceptive_input.pd                   0.589183                 0.575288   \n",
       "generated6_input.np                      0.971813                 0.968680   \n",
       "hrss_input.pd                            0.774935                 0.775453   \n",
       "iris_input.pd                            0.987101                 0.974520   \n",
       "steel_input.pd                           0.690263                 0.678419   \n",
       "students_input.pd                        0.548695                 0.514732   \n",
       "\n",
       "                        user_attrs_std_train  user_attrs_std_val  \\\n",
       "Data X                                                             \n",
       "abalone_input.pd                    0.006462            0.009714   \n",
       "adult_input.pd                      0.001037            0.002947   \n",
       "bank_input.pd                       0.001575            0.003204   \n",
       "banknote_input.pd                   0.001279            0.003651   \n",
       "breast_cancer_input.np              0.004973            0.012726   \n",
       "cars_input.pd                       0.008584            0.015956   \n",
       "contraceptive_input.pd              0.009641            0.020559   \n",
       "generated6_input.np                 0.004159            0.006115   \n",
       "hrss_input.pd                       0.001873            0.005635   \n",
       "iris_input.pd                       0.007544            0.021106   \n",
       "steel_input.pd                      0.007280            0.015543   \n",
       "students_input.pd                   0.013636            0.027851   \n",
       "\n",
       "                        params_alpha  params_beta  params_gamma  \\\n",
       "Data X                                                            \n",
       "abalone_input.pd                 NaN          NaN           NaN   \n",
       "adult_input.pd              2.284642     0.144427      0.349933   \n",
       "bank_input.pd                    NaN          NaN           NaN   \n",
       "banknote_input.pd                NaN          NaN           NaN   \n",
       "breast_cancer_input.np      2.368202     0.092829      0.247154   \n",
       "cars_input.pd               2.287774     0.116566      0.163702   \n",
       "contraceptive_input.pd           NaN          NaN           NaN   \n",
       "generated6_input.np         2.702514     0.098295      0.070032   \n",
       "hrss_input.pd               3.199291     0.302812      0.139829   \n",
       "iris_input.pd               2.297206     0.473696      0.080502   \n",
       "steel_input.pd                   NaN          NaN           NaN   \n",
       "students_input.pd           3.484882     0.467158      0.014002   \n",
       "\n",
       "                        params_mean_precision_prior  \\\n",
       "Data X                                                \n",
       "abalone_input.pd                           0.537324   \n",
       "adult_input.pd                                  NaN   \n",
       "bank_input.pd                              0.749154   \n",
       "banknote_input.pd                          0.966254   \n",
       "breast_cancer_input.np                     0.757227   \n",
       "cars_input.pd                              0.419682   \n",
       "contraceptive_input.pd                          NaN   \n",
       "generated6_input.np                        0.186915   \n",
       "hrss_input.pd                                   NaN   \n",
       "iris_input.pd                              0.766612   \n",
       "steel_input.pd                                  NaN   \n",
       "students_input.pd                          0.622949   \n",
       "\n",
       "                        params_weight_concentration_prior  \\\n",
       "Data X                                                      \n",
       "abalone_input.pd                                 0.380489   \n",
       "adult_input.pd                                        NaN   \n",
       "bank_input.pd                                    0.393702   \n",
       "banknote_input.pd                                0.664669   \n",
       "breast_cancer_input.np                           0.244417   \n",
       "cars_input.pd                                    0.993891   \n",
       "contraceptive_input.pd                                NaN   \n",
       "generated6_input.np                              0.822405   \n",
       "hrss_input.pd                                         NaN   \n",
       "iris_input.pd                                    0.452305   \n",
       "steel_input.pd                                        NaN   \n",
       "students_input.pd                                0.217097   \n",
       "\n",
       "                        params_weight_cutoff  \n",
       "Data X                                        \n",
       "abalone_input.pd                         0.0  \n",
       "adult_input.pd                           NaN  \n",
       "bank_input.pd                            0.0  \n",
       "banknote_input.pd                        0.0  \n",
       "breast_cancer_input.np                   0.0  \n",
       "cars_input.pd                            0.0  \n",
       "contraceptive_input.pd                   NaN  \n",
       "generated6_input.np                      0.0  \n",
       "hrss_input.pd                            NaN  \n",
       "iris_input.pd                            0.0  \n",
       "steel_input.pd                           NaN  \n",
       "students_input.pd                        0.0  "
      ],
      "text/html": "<div>\n<style scoped>\n    .dataframe tbody tr th:only-of-type {\n        vertical-align: middle;\n    }\n\n    .dataframe tbody tr th {\n        vertical-align: top;\n    }\n\n    .dataframe thead th {\n        text-align: right;\n    }\n</style>\n<table border=\"1\" class=\"dataframe\">\n  <thead>\n    <tr style=\"text-align: right;\">\n      <th></th>\n      <th>number</th>\n      <th>value</th>\n      <th>params_init_learning_rate</th>\n      <th>params_learning_rate_decay</th>\n      <th>params_max_depth</th>\n      <th>params_n_experts</th>\n      <th>params_use_2_dim_clustering</th>\n      <th>user_attrs_accuracy_train</th>\n      <th>user_attrs_accuracy_val</th>\n      <th>user_attrs_std_train</th>\n      <th>user_attrs_std_val</th>\n      <th>params_alpha</th>\n      <th>params_beta</th>\n      <th>params_gamma</th>\n      <th>params_mean_precision_prior</th>\n      <th>params_weight_concentration_prior</th>\n      <th>params_weight_cutoff</th>\n    </tr>\n    <tr>\n      <th>Data X</th>\n      <th></th>\n      <th></th>\n      <th></th>\n      <th></th>\n      <th></th>\n      <th></th>\n      <th></th>\n      <th></th>\n      <th></th>\n      <th></th>\n      <th></th>\n      <th></th>\n      <th></th>\n      <th></th>\n      <th></th>\n      <th></th>\n      <th></th>\n    </tr>\n  </thead>\n  <tbody>\n    <tr>\n      <th>abalone_input.pd</th>\n      <td>60.8</td>\n      <td>0.731674</td>\n      <td>126.973087</td>\n      <td>0.993876</td>\n      <td>2.0</td>\n      <td>3.0</td>\n      <td>True</td>\n      <td>0.740667</td>\n      <td>0.731674</td>\n      <td>0.006462</td>\n      <td>0.009714</td>\n      <td>NaN</td>\n      <td>NaN</td>\n      <td>NaN</td>\n      <td>0.537324</td>\n      <td>0.380489</td>\n      <td>0.0</td>\n    </tr>\n    <tr>\n      <th>adult_input.pd</th>\n      <td>52.0</td>\n      <td>0.840117</td>\n      <td>26.619247</td>\n      <td>0.996597</td>\n      <td>2.0</td>\n      <td>3.0</td>\n      <td>True</td>\n      <td>0.840273</td>\n      <td>0.840117</td>\n      <td>0.001037</td>\n      <td>0.002947</td>\n      <td>2.284642</td>\n      <td>0.144427</td>\n      <td>0.349933</td>\n      <td>NaN</td>\n      <td>NaN</td>\n      <td>NaN</td>\n    </tr>\n    <tr>\n      <th>bank_input.pd</th>\n      <td>52.7</td>\n      <td>0.911695</td>\n      <td>44.431908</td>\n      <td>0.989367</td>\n      <td>2.0</td>\n      <td>3.0</td>\n      <td>True</td>\n      <td>0.912744</td>\n      <td>0.911695</td>\n      <td>0.001575</td>\n      <td>0.003204</td>\n      <td>NaN</td>\n      <td>NaN</td>\n      <td>NaN</td>\n      <td>0.749154</td>\n      <td>0.393702</td>\n      <td>0.0</td>\n    </tr>\n    <tr>\n      <th>banknote_input.pd</th>\n      <td>70.5</td>\n      <td>0.995190</td>\n      <td>117.299542</td>\n      <td>0.981946</td>\n      <td>2.0</td>\n      <td>3.0</td>\n      <td>True</td>\n      <td>0.997473</td>\n      <td>0.995190</td>\n      <td>0.001279</td>\n      <td>0.003651</td>\n      <td>NaN</td>\n      <td>NaN</td>\n      <td>NaN</td>\n      <td>0.966254</td>\n      <td>0.664669</td>\n      <td>0.0</td>\n    </tr>\n    <tr>\n      <th>breast_cancer_input.np</th>\n      <td>50.6</td>\n      <td>0.941482</td>\n      <td>48.302150</td>\n      <td>0.987416</td>\n      <td>2.0</td>\n      <td>3.0</td>\n      <td>True</td>\n      <td>0.967193</td>\n      <td>0.941482</td>\n      <td>0.004973</td>\n      <td>0.012726</td>\n      <td>2.368202</td>\n      <td>0.092829</td>\n      <td>0.247154</td>\n      <td>0.757227</td>\n      <td>0.244417</td>\n      <td>0.0</td>\n    </tr>\n    <tr>\n      <th>cars_input.pd</th>\n      <td>61.9</td>\n      <td>0.810069</td>\n      <td>79.100372</td>\n      <td>0.982035</td>\n      <td>2.0</td>\n      <td>3.0</td>\n      <td>True</td>\n      <td>0.812288</td>\n      <td>0.810069</td>\n      <td>0.008584</td>\n      <td>0.015956</td>\n      <td>2.287774</td>\n      <td>0.116566</td>\n      <td>0.163702</td>\n      <td>0.419682</td>\n      <td>0.993891</td>\n      <td>0.0</td>\n    </tr>\n    <tr>\n      <th>contraceptive_input.pd</th>\n      <td>54.1</td>\n      <td>0.575288</td>\n      <td>119.966788</td>\n      <td>0.981234</td>\n      <td>2.0</td>\n      <td>3.0</td>\n      <td>True</td>\n      <td>0.589183</td>\n      <td>0.575288</td>\n      <td>0.009641</td>\n      <td>0.020559</td>\n      <td>NaN</td>\n      <td>NaN</td>\n      <td>NaN</td>\n      <td>NaN</td>\n      <td>NaN</td>\n      <td>NaN</td>\n    </tr>\n    <tr>\n      <th>generated6_input.np</th>\n      <td>62.3</td>\n      <td>0.968680</td>\n      <td>118.853659</td>\n      <td>0.983027</td>\n      <td>2.0</td>\n      <td>3.0</td>\n      <td>True</td>\n      <td>0.971813</td>\n      <td>0.968680</td>\n      <td>0.004159</td>\n      <td>0.006115</td>\n      <td>2.702514</td>\n      <td>0.098295</td>\n      <td>0.070032</td>\n      <td>0.186915</td>\n      <td>0.822405</td>\n      <td>0.0</td>\n    </tr>\n    <tr>\n      <th>hrss_input.pd</th>\n      <td>52.1</td>\n      <td>0.775453</td>\n      <td>82.479360</td>\n      <td>0.993243</td>\n      <td>2.0</td>\n      <td>3.0</td>\n      <td>True</td>\n      <td>0.774935</td>\n      <td>0.775453</td>\n      <td>0.001873</td>\n      <td>0.005635</td>\n      <td>3.199291</td>\n      <td>0.302812</td>\n      <td>0.139829</td>\n      <td>NaN</td>\n      <td>NaN</td>\n      <td>NaN</td>\n    </tr>\n    <tr>\n      <th>iris_input.pd</th>\n      <td>40.5</td>\n      <td>0.974520</td>\n      <td>76.887149</td>\n      <td>0.988082</td>\n      <td>2.0</td>\n      <td>3.0</td>\n      <td>True</td>\n      <td>0.987101</td>\n      <td>0.974520</td>\n      <td>0.007544</td>\n      <td>0.021106</td>\n      <td>2.297206</td>\n      <td>0.473696</td>\n      <td>0.080502</td>\n      <td>0.766612</td>\n      <td>0.452305</td>\n      <td>0.0</td>\n    </tr>\n    <tr>\n      <th>steel_input.pd</th>\n      <td>63.5</td>\n      <td>0.678419</td>\n      <td>137.602733</td>\n      <td>0.986454</td>\n      <td>2.0</td>\n      <td>3.0</td>\n      <td>True</td>\n      <td>0.690263</td>\n      <td>0.678419</td>\n      <td>0.007280</td>\n      <td>0.015543</td>\n      <td>NaN</td>\n      <td>NaN</td>\n      <td>NaN</td>\n      <td>NaN</td>\n      <td>NaN</td>\n      <td>NaN</td>\n    </tr>\n    <tr>\n      <th>students_input.pd</th>\n      <td>61.1</td>\n      <td>0.514732</td>\n      <td>95.920478</td>\n      <td>0.987843</td>\n      <td>2.0</td>\n      <td>3.0</td>\n      <td>True</td>\n      <td>0.548695</td>\n      <td>0.514732</td>\n      <td>0.013636</td>\n      <td>0.027851</td>\n      <td>3.484882</td>\n      <td>0.467158</td>\n      <td>0.014002</td>\n      <td>0.622949</td>\n      <td>0.217097</td>\n      <td>0.0</td>\n    </tr>\n  </tbody>\n</table>\n</div>"
     },
     "metadata": {},
     "execution_count": 26
    }
   ],
   "source": [
    "df_best.groupby([\"Data X\"]).mean()"
   ]
  },
  {
   "cell_type": "code",
   "execution_count": 27,
   "source": [
    "df[\"params_use_2_dim_gate_based_on\"].value_counts(dropna=False)"
   ],
   "outputs": [
    {
     "output_type": "execute_result",
     "data": {
      "text/plain": [
       "feature_importance                 694\n",
       "feature_importance_lr_max          677\n",
       "feature_importance_lr              636\n",
       "feature_importance_lda_max         635\n",
       "feature_importance_lda             587\n",
       "feature_importance_xgb             586\n",
       "feature_importance_pca_loadings    532\n",
       "PCA                                501\n",
       "Name: params_use_2_dim_gate_based_on, dtype: int64"
      ]
     },
     "metadata": {},
     "execution_count": 27
    }
   ],
   "metadata": {}
  },
  {
   "cell_type": "code",
   "execution_count": 35,
   "metadata": {},
   "outputs": [
    {
     "output_type": "execute_result",
     "data": {
      "text/plain": [
       "least_squares_linear_regression    72\n",
       "ridge_regression                   42\n",
       "lasso_regression                    6\n",
       "Name: params_optimization_method, dtype: int64"
      ]
     },
     "metadata": {},
     "execution_count": 35
    }
   ],
   "source": [
    "df_best[\"params_optimization_method\"].value_counts()"
   ]
  },
  {
   "cell_type": "code",
   "execution_count": 40,
   "metadata": {},
   "outputs": [
    {
     "output_type": "execute_result",
     "data": {
      "text/plain": [
       "                                 number     value  params_init_learning_rate  \\\n",
       "params_optimization_method                                                     \n",
       "lasso_regression                   74.5  0.518780                  73.197445   \n",
       "least_squares_linear_regression    55.5  0.811632                 110.572272   \n",
       "ridge_regression                   53.0  0.840279                  80.497145   \n",
       "\n",
       "                                 params_learning_rate_decay  params_max_depth  \\\n",
       "params_optimization_method                                                      \n",
       "lasso_regression                                   0.985656               2.0   \n",
       "least_squares_linear_regression                    0.985380               2.0   \n",
       "ridge_regression                                   0.990411               2.0   \n",
       "\n",
       "                                 params_n_experts  \\\n",
       "params_optimization_method                          \n",
       "lasso_regression                              3.0   \n",
       "least_squares_linear_regression               3.0   \n",
       "ridge_regression                              3.0   \n",
       "\n",
       "                                 params_use_2_dim_clustering  \\\n",
       "params_optimization_method                                     \n",
       "lasso_regression                                        True   \n",
       "least_squares_linear_regression                         True   \n",
       "ridge_regression                                        True   \n",
       "\n",
       "                                 user_attrs_accuracy_train  \\\n",
       "params_optimization_method                                   \n",
       "lasso_regression                                  0.556301   \n",
       "least_squares_linear_regression                   0.814525   \n",
       "ridge_regression                                  0.840439   \n",
       "\n",
       "                                 user_attrs_accuracy_val  \\\n",
       "params_optimization_method                                 \n",
       "lasso_regression                                0.518780   \n",
       "least_squares_linear_regression                 0.811632   \n",
       "ridge_regression                                0.840279   \n",
       "\n",
       "                                 user_attrs_std_train  user_attrs_std_val  \\\n",
       "params_optimization_method                                                  \n",
       "lasso_regression                             0.010482            0.016121   \n",
       "least_squares_linear_regression              0.003864            0.008965   \n",
       "ridge_regression                             0.005513            0.008856   \n",
       "\n",
       "                                 params_alpha  params_beta  params_gamma  \\\n",
       "params_optimization_method                                                 \n",
       "lasso_regression                          NaN          NaN           NaN   \n",
       "least_squares_linear_regression      2.487167     0.057464      0.101439   \n",
       "ridge_regression                     2.928541     0.322649      0.206478   \n",
       "\n",
       "                                 params_mean_precision_prior  \\\n",
       "params_optimization_method                                     \n",
       "lasso_regression                                         NaN   \n",
       "least_squares_linear_regression                     0.738174   \n",
       "ridge_regression                                    0.635707   \n",
       "\n",
       "                                 params_weight_concentration_prior  \\\n",
       "params_optimization_method                                           \n",
       "lasso_regression                                               NaN   \n",
       "least_squares_linear_regression                           0.312895   \n",
       "ridge_regression                                          0.397779   \n",
       "\n",
       "                                 params_weight_cutoff  \n",
       "params_optimization_method                             \n",
       "lasso_regression                                  NaN  \n",
       "least_squares_linear_regression                   0.0  \n",
       "ridge_regression                                  0.0  "
      ],
      "text/html": "<div>\n<style scoped>\n    .dataframe tbody tr th:only-of-type {\n        vertical-align: middle;\n    }\n\n    .dataframe tbody tr th {\n        vertical-align: top;\n    }\n\n    .dataframe thead th {\n        text-align: right;\n    }\n</style>\n<table border=\"1\" class=\"dataframe\">\n  <thead>\n    <tr style=\"text-align: right;\">\n      <th></th>\n      <th>number</th>\n      <th>value</th>\n      <th>params_init_learning_rate</th>\n      <th>params_learning_rate_decay</th>\n      <th>params_max_depth</th>\n      <th>params_n_experts</th>\n      <th>params_use_2_dim_clustering</th>\n      <th>user_attrs_accuracy_train</th>\n      <th>user_attrs_accuracy_val</th>\n      <th>user_attrs_std_train</th>\n      <th>user_attrs_std_val</th>\n      <th>params_alpha</th>\n      <th>params_beta</th>\n      <th>params_gamma</th>\n      <th>params_mean_precision_prior</th>\n      <th>params_weight_concentration_prior</th>\n      <th>params_weight_cutoff</th>\n    </tr>\n    <tr>\n      <th>params_optimization_method</th>\n      <th></th>\n      <th></th>\n      <th></th>\n      <th></th>\n      <th></th>\n      <th></th>\n      <th></th>\n      <th></th>\n      <th></th>\n      <th></th>\n      <th></th>\n      <th></th>\n      <th></th>\n      <th></th>\n      <th></th>\n      <th></th>\n      <th></th>\n    </tr>\n  </thead>\n  <tbody>\n    <tr>\n      <th>lasso_regression</th>\n      <td>74.5</td>\n      <td>0.518780</td>\n      <td>73.197445</td>\n      <td>0.985656</td>\n      <td>2.0</td>\n      <td>3.0</td>\n      <td>True</td>\n      <td>0.556301</td>\n      <td>0.518780</td>\n      <td>0.010482</td>\n      <td>0.016121</td>\n      <td>NaN</td>\n      <td>NaN</td>\n      <td>NaN</td>\n      <td>NaN</td>\n      <td>NaN</td>\n      <td>NaN</td>\n    </tr>\n    <tr>\n      <th>least_squares_linear_regression</th>\n      <td>55.5</td>\n      <td>0.811632</td>\n      <td>110.572272</td>\n      <td>0.985380</td>\n      <td>2.0</td>\n      <td>3.0</td>\n      <td>True</td>\n      <td>0.814525</td>\n      <td>0.811632</td>\n      <td>0.003864</td>\n      <td>0.008965</td>\n      <td>2.487167</td>\n      <td>0.057464</td>\n      <td>0.101439</td>\n      <td>0.738174</td>\n      <td>0.312895</td>\n      <td>0.0</td>\n    </tr>\n    <tr>\n      <th>ridge_regression</th>\n      <td>53.0</td>\n      <td>0.840279</td>\n      <td>80.497145</td>\n      <td>0.990411</td>\n      <td>2.0</td>\n      <td>3.0</td>\n      <td>True</td>\n      <td>0.840439</td>\n      <td>0.840279</td>\n      <td>0.005513</td>\n      <td>0.008856</td>\n      <td>2.928541</td>\n      <td>0.322649</td>\n      <td>0.206478</td>\n      <td>0.635707</td>\n      <td>0.397779</td>\n      <td>0.0</td>\n    </tr>\n  </tbody>\n</table>\n</div>"
     },
     "metadata": {},
     "execution_count": 40
    }
   ],
   "source": [
    "df_best.groupby([\"params_optimization_method\"]).median()"
   ]
  },
  {
   "cell_type": "code",
   "execution_count": 37,
   "metadata": {},
   "outputs": [
    {
     "output_type": "execute_result",
     "data": {
      "text/plain": [
       "feature_importance_xgb             19\n",
       "feature_importance_lda_max         16\n",
       "feature_importance_lr_max          16\n",
       "feature_importance_pca_loadings    15\n",
       "feature_importance_lr              15\n",
       "feature_importance_lda             14\n",
       "PCA                                14\n",
       "feature_importance                 11\n",
       "Name: params_use_2_dim_gate_based_on, dtype: int64"
      ]
     },
     "metadata": {},
     "execution_count": 37
    }
   ],
   "source": [
    "df_best[\"params_use_2_dim_gate_based_on\"].value_counts()"
   ]
  },
  {
   "cell_type": "code",
   "execution_count": null,
   "metadata": {},
   "outputs": [],
   "source": []
  }
 ],
 "metadata": {
  "interpreter": {
   "hash": "8a90dff821462728905d080773a3725eb443efa125022e7307d36f683ce19798"
  },
  "kernelspec": {
   "name": "python3",
   "display_name": "Python 3.8.5 64-bit ('MA1': conda)"
  },
  "language_info": {
   "codemirror_mode": {
    "name": "ipython",
    "version": 3
   },
   "file_extension": ".py",
   "mimetype": "text/x-python",
   "name": "python",
   "nbconvert_exporter": "python",
   "pygments_lexer": "ipython3",
   "version": "3.8.5"
  }
 },
 "nbformat": 4,
 "nbformat_minor": 2
}