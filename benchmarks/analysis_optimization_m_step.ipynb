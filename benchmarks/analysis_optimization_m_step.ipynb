{
 "metadata": {
  "language_info": {
   "codemirror_mode": {
    "name": "ipython",
    "version": 3
   },
   "file_extension": ".py",
   "mimetype": "text/x-python",
   "name": "python",
   "nbconvert_exporter": "python",
   "pygments_lexer": "ipython3",
   "version": "3.8.5"
  },
  "orig_nbformat": 4,
  "kernelspec": {
   "name": "python3",
   "display_name": "Python 3.8.5 64-bit ('MA1': conda)"
  },
  "interpreter": {
   "hash": "5ae178ee97b2b9495f18450d26f0b5808955ba0c9034008c9c01195a20c2e958"
  }
 },
 "nbformat": 4,
 "nbformat_minor": 2,
 "cells": [
  {
   "cell_type": "code",
   "execution_count": 1,
   "metadata": {},
   "outputs": [],
   "source": [
    "import pandas as pd\n",
    "import numpy as np\n",
    "import optuna"
   ]
  },
  {
   "cell_type": "code",
   "execution_count": 3,
   "metadata": {},
   "outputs": [],
   "source": [
    "storage = \"sqlite:///optuna_results_optimization_methods.sqlite3\""
   ]
  },
  {
   "cell_type": "code",
   "execution_count": 4,
   "metadata": {},
   "outputs": [],
   "source": [
    "study_name = \"2021.06.23 18:42:40 optimization_methods steel_input.pd\""
   ]
  },
  {
   "cell_type": "code",
   "execution_count": 5,
   "metadata": {},
   "outputs": [],
   "source": [
    "\n",
    "loaded_study = optuna.load_study(study_name=study_name, storage=storage)\n",
    "df = loaded_study.trials_dataframe()\n",
    "for key, value in loaded_study.system_attrs.items():\n",
    "    df[key] = value\n",
    "df.reset_index(inplace=True, drop=True)"
   ]
  },
  {
   "cell_type": "code",
   "execution_count": 7,
   "metadata": {},
   "outputs": [
    {
     "output_type": "execute_result",
     "data": {
      "text/plain": [
       "Index(['number', 'value', 'datetime_start', 'datetime_complete', 'duration',\n",
       "       'params_init_learning_rate', 'params_learning_rate_decay',\n",
       "       'params_max_depth', 'params_n_experts',\n",
       "       'params_use_2_dim_gate_based_on', 'params_use_posterior',\n",
       "       'user_attrs_train_lasso_regression',\n",
       "       'user_attrs_train_least_squares_linear_regression',\n",
       "       'user_attrs_train_matmul', 'user_attrs_train_ridge_regression',\n",
       "       'user_attrs_val_lasso_regression',\n",
       "       'user_attrs_val_least_squares_linear_regression',\n",
       "       'user_attrs_val_matmul', 'user_attrs_val_ridge_regression', 'state',\n",
       "       'Data X', 'Data y'],\n",
       "      dtype='object')"
      ]
     },
     "metadata": {},
     "execution_count": 7
    }
   ],
   "source": [
    "df.columns"
   ]
  },
  {
   "cell_type": "code",
   "execution_count": 8,
   "metadata": {},
   "outputs": [
    {
     "output_type": "execute_result",
     "data": {
      "text/plain": [
       "                                                  number     value  \\\n",
       "Data X         params_n_experts params_max_depth                     \n",
       "steel_input.pd 2                2                    5.0  0.619605   \n",
       "                                3                    6.0  0.619697   \n",
       "               3                1                    9.0  0.555319   \n",
       "                                2                    8.0  0.578351   \n",
       "                                3                    0.5  0.655516   \n",
       "               4                1                    2.0  0.560580   \n",
       "                                3                    5.0  0.645241   \n",
       "               5                1                    4.0  0.646422   \n",
       "\n",
       "                                                  params_init_learning_rate  \\\n",
       "Data X         params_n_experts params_max_depth                              \n",
       "steel_input.pd 2                2                                110.578404   \n",
       "                                3                                122.155614   \n",
       "               3                1                                149.566151   \n",
       "                                2                                118.264809   \n",
       "                                3                                 96.366635   \n",
       "               4                1                                136.377248   \n",
       "                                3                                 94.171497   \n",
       "               5                1                                 71.843995   \n",
       "\n",
       "                                                  params_learning_rate_decay  \\\n",
       "Data X         params_n_experts params_max_depth                               \n",
       "steel_input.pd 2                2                                   0.975487   \n",
       "                                3                                   0.978113   \n",
       "               3                1                                   0.979648   \n",
       "                                2                                   0.994094   \n",
       "                                3                                   0.995542   \n",
       "               4                1                                   0.993286   \n",
       "                                3                                   0.986230   \n",
       "               5                1                                   0.986262   \n",
       "\n",
       "                                                  params_use_posterior  \\\n",
       "Data X         params_n_experts params_max_depth                         \n",
       "steel_input.pd 2                2                                  0.0   \n",
       "                                3                                  0.0   \n",
       "               3                1                                  0.0   \n",
       "                                2                                  1.0   \n",
       "                                3                                  0.5   \n",
       "               4                1                                  0.0   \n",
       "                                3                                  0.5   \n",
       "               5                1                                  0.0   \n",
       "\n",
       "                                                  user_attrs_train_lasso_regression  \\\n",
       "Data X         params_n_experts params_max_depth                                      \n",
       "steel_input.pd 2                2                                          0.573073   \n",
       "                                3                                          0.606733   \n",
       "               3                1                                          0.552468   \n",
       "                                2                                          0.573408   \n",
       "                                3                                          0.658425   \n",
       "               4                1                                          0.551091   \n",
       "                                3                                          0.647435   \n",
       "               5                1                                          0.565001   \n",
       "\n",
       "                                                  user_attrs_train_least_squares_linear_regression  \\\n",
       "Data X         params_n_experts params_max_depth                                                     \n",
       "steel_input.pd 2                2                                                         0.675768   \n",
       "                                3                                                         0.655847   \n",
       "               3                1                                                         0.567578   \n",
       "                                2                                                         0.586809   \n",
       "                                3                                                         0.683071   \n",
       "               4                1                                                         0.586294   \n",
       "                                3                                                         0.667347   \n",
       "               5                1                                                         0.736561   \n",
       "\n",
       "                                                  user_attrs_train_matmul  \\\n",
       "Data X         params_n_experts params_max_depth                            \n",
       "steel_input.pd 2                2                                0.605015   \n",
       "                                3                                0.635756   \n",
       "               3                1                                0.555902   \n",
       "                                2                                0.589041   \n",
       "                                3                                0.665038   \n",
       "               4                1                                0.555209   \n",
       "                                3                                0.645800   \n",
       "               5                1                                0.620643   \n",
       "\n",
       "                                                  user_attrs_train_ridge_regression  \\\n",
       "Data X         params_n_experts params_max_depth                                      \n",
       "steel_input.pd 2                2                                          0.670274   \n",
       "                                3                                          0.655847   \n",
       "               3                1                                          0.564659   \n",
       "                                2                                          0.588527   \n",
       "                                3                                          0.691740   \n",
       "               4                1                                          0.594192   \n",
       "                                3                                          0.691313   \n",
       "               5                1                                          0.744291   \n",
       "\n",
       "                                                  user_attrs_val_lasso_regression  \\\n",
       "Data X         params_n_experts params_max_depth                                    \n",
       "steel_input.pd 2                2                                        0.553313   \n",
       "                                3                                        0.586296   \n",
       "               3                1                                        0.550740   \n",
       "                                2                                        0.572905   \n",
       "                                3                                        0.623395   \n",
       "               4                1                                        0.535809   \n",
       "                                3                                        0.611785   \n",
       "               5                1                                        0.538887   \n",
       "\n",
       "                                                  user_attrs_val_least_squares_linear_regression  \\\n",
       "Data X         params_n_experts params_max_depth                                                   \n",
       "steel_input.pd 2                2                                                       0.644497   \n",
       "                                3                                                       0.612042   \n",
       "               3                1                                                       0.555386   \n",
       "                                2                                                       0.569294   \n",
       "                                3                                                       0.652241   \n",
       "               4                1                                                       0.564665   \n",
       "                                3                                                       0.633188   \n",
       "               5                1                                                       0.680581   \n",
       "\n",
       "                                                  user_attrs_val_matmul  \\\n",
       "Data X         params_n_experts params_max_depth                          \n",
       "steel_input.pd 2                2                              0.593496   \n",
       "                                3                              0.600202   \n",
       "               3                1                              0.540437   \n",
       "                                2                              0.575992   \n",
       "                                3                              0.618752   \n",
       "               4                1                              0.533748   \n",
       "                                3                              0.615668   \n",
       "               5                1                              0.596598   \n",
       "\n",
       "                                                  user_attrs_val_ridge_regression  \n",
       "Data X         params_n_experts params_max_depth                                   \n",
       "steel_input.pd 2                2                                        0.641406  \n",
       "                                3                                        0.604854  \n",
       "               3                1                                        0.555379  \n",
       "                                2                                        0.570832  \n",
       "                                3                                        0.651468  \n",
       "               4                1                                        0.563634  \n",
       "                                3                                        0.649395  \n",
       "               5                1                                        0.688817  "
      ],
      "text/html": "<div>\n<style scoped>\n    .dataframe tbody tr th:only-of-type {\n        vertical-align: middle;\n    }\n\n    .dataframe tbody tr th {\n        vertical-align: top;\n    }\n\n    .dataframe thead th {\n        text-align: right;\n    }\n</style>\n<table border=\"1\" class=\"dataframe\">\n  <thead>\n    <tr style=\"text-align: right;\">\n      <th></th>\n      <th></th>\n      <th></th>\n      <th>number</th>\n      <th>value</th>\n      <th>params_init_learning_rate</th>\n      <th>params_learning_rate_decay</th>\n      <th>params_use_posterior</th>\n      <th>user_attrs_train_lasso_regression</th>\n      <th>user_attrs_train_least_squares_linear_regression</th>\n      <th>user_attrs_train_matmul</th>\n      <th>user_attrs_train_ridge_regression</th>\n      <th>user_attrs_val_lasso_regression</th>\n      <th>user_attrs_val_least_squares_linear_regression</th>\n      <th>user_attrs_val_matmul</th>\n      <th>user_attrs_val_ridge_regression</th>\n    </tr>\n    <tr>\n      <th>Data X</th>\n      <th>params_n_experts</th>\n      <th>params_max_depth</th>\n      <th></th>\n      <th></th>\n      <th></th>\n      <th></th>\n      <th></th>\n      <th></th>\n      <th></th>\n      <th></th>\n      <th></th>\n      <th></th>\n      <th></th>\n      <th></th>\n      <th></th>\n    </tr>\n  </thead>\n  <tbody>\n    <tr>\n      <th rowspan=\"8\" valign=\"top\">steel_input.pd</th>\n      <th rowspan=\"2\" valign=\"top\">2</th>\n      <th>2</th>\n      <td>5.0</td>\n      <td>0.619605</td>\n      <td>110.578404</td>\n      <td>0.975487</td>\n      <td>0.0</td>\n      <td>0.573073</td>\n      <td>0.675768</td>\n      <td>0.605015</td>\n      <td>0.670274</td>\n      <td>0.553313</td>\n      <td>0.644497</td>\n      <td>0.593496</td>\n      <td>0.641406</td>\n    </tr>\n    <tr>\n      <th>3</th>\n      <td>6.0</td>\n      <td>0.619697</td>\n      <td>122.155614</td>\n      <td>0.978113</td>\n      <td>0.0</td>\n      <td>0.606733</td>\n      <td>0.655847</td>\n      <td>0.635756</td>\n      <td>0.655847</td>\n      <td>0.586296</td>\n      <td>0.612042</td>\n      <td>0.600202</td>\n      <td>0.604854</td>\n    </tr>\n    <tr>\n      <th rowspan=\"3\" valign=\"top\">3</th>\n      <th>1</th>\n      <td>9.0</td>\n      <td>0.555319</td>\n      <td>149.566151</td>\n      <td>0.979648</td>\n      <td>0.0</td>\n      <td>0.552468</td>\n      <td>0.567578</td>\n      <td>0.555902</td>\n      <td>0.564659</td>\n      <td>0.550740</td>\n      <td>0.555386</td>\n      <td>0.540437</td>\n      <td>0.555379</td>\n    </tr>\n    <tr>\n      <th>2</th>\n      <td>8.0</td>\n      <td>0.578351</td>\n      <td>118.264809</td>\n      <td>0.994094</td>\n      <td>1.0</td>\n      <td>0.573408</td>\n      <td>0.586809</td>\n      <td>0.589041</td>\n      <td>0.588527</td>\n      <td>0.572905</td>\n      <td>0.569294</td>\n      <td>0.575992</td>\n      <td>0.570832</td>\n    </tr>\n    <tr>\n      <th>3</th>\n      <td>0.5</td>\n      <td>0.655516</td>\n      <td>96.366635</td>\n      <td>0.995542</td>\n      <td>0.5</td>\n      <td>0.658425</td>\n      <td>0.683071</td>\n      <td>0.665038</td>\n      <td>0.691740</td>\n      <td>0.623395</td>\n      <td>0.652241</td>\n      <td>0.618752</td>\n      <td>0.651468</td>\n    </tr>\n    <tr>\n      <th rowspan=\"2\" valign=\"top\">4</th>\n      <th>1</th>\n      <td>2.0</td>\n      <td>0.560580</td>\n      <td>136.377248</td>\n      <td>0.993286</td>\n      <td>0.0</td>\n      <td>0.551091</td>\n      <td>0.586294</td>\n      <td>0.555209</td>\n      <td>0.594192</td>\n      <td>0.535809</td>\n      <td>0.564665</td>\n      <td>0.533748</td>\n      <td>0.563634</td>\n    </tr>\n    <tr>\n      <th>3</th>\n      <td>5.0</td>\n      <td>0.645241</td>\n      <td>94.171497</td>\n      <td>0.986230</td>\n      <td>0.5</td>\n      <td>0.647435</td>\n      <td>0.667347</td>\n      <td>0.645800</td>\n      <td>0.691313</td>\n      <td>0.611785</td>\n      <td>0.633188</td>\n      <td>0.615668</td>\n      <td>0.649395</td>\n    </tr>\n    <tr>\n      <th>5</th>\n      <th>1</th>\n      <td>4.0</td>\n      <td>0.646422</td>\n      <td>71.843995</td>\n      <td>0.986262</td>\n      <td>0.0</td>\n      <td>0.565001</td>\n      <td>0.736561</td>\n      <td>0.620643</td>\n      <td>0.744291</td>\n      <td>0.538887</td>\n      <td>0.680581</td>\n      <td>0.596598</td>\n      <td>0.688817</td>\n    </tr>\n  </tbody>\n</table>\n</div>"
     },
     "metadata": {},
     "execution_count": 8
    }
   ],
   "source": [
    "#'params_use_2_dim_gate_based_on', 'params_use_posterior',\n",
    "df.groupby(['Data X', 'params_n_experts','params_max_depth']).mean()"
   ]
  },
  {
   "cell_type": "code",
   "execution_count": 15,
   "metadata": {},
   "outputs": [
    {
     "output_type": "execute_result",
     "data": {
      "text/plain": [
       "                                                  n_instances  least_squares  \\\n",
       "Data X         params_n_experts params_max_depth                               \n",
       "steel_input.pd 2                2                           1       0.644497   \n",
       "                                3                           1       0.612042   \n",
       "               3                1                           1       0.555386   \n",
       "                                2                           1       0.569294   \n",
       "                                3                           2       0.652241   \n",
       "               4                1                           1       0.564665   \n",
       "                                3                           2       0.633188   \n",
       "               5                1                           1       0.680581   \n",
       "\n",
       "                                                  lasso_regression  \\\n",
       "Data X         params_n_experts params_max_depth                     \n",
       "steel_input.pd 2                2                         0.553313   \n",
       "                                3                         0.586296   \n",
       "               3                1                         0.550740   \n",
       "                                2                         0.572905   \n",
       "                                3                         0.623395   \n",
       "               4                1                         0.535809   \n",
       "                                3                         0.611785   \n",
       "               5                1                         0.538887   \n",
       "\n",
       "                                                  ridge_regression  \\\n",
       "Data X         params_n_experts params_max_depth                     \n",
       "steel_input.pd 2                2                         0.641406   \n",
       "                                3                         0.604854   \n",
       "               3                1                         0.555379   \n",
       "                                2                         0.570832   \n",
       "                                3                         0.651468   \n",
       "               4                1                         0.563634   \n",
       "                                3                         0.649395   \n",
       "               5                1                         0.688817   \n",
       "\n",
       "                                                  matrix_multiplication  \n",
       "Data X         params_n_experts params_max_depth                         \n",
       "steel_input.pd 2                2                              0.593496  \n",
       "                                3                              0.600202  \n",
       "               3                1                              0.540437  \n",
       "                                2                              0.575992  \n",
       "                                3                              0.618752  \n",
       "               4                1                              0.533748  \n",
       "                                3                              0.615668  \n",
       "               5                1                              0.596598  "
      ],
      "text/html": "<div>\n<style scoped>\n    .dataframe tbody tr th:only-of-type {\n        vertical-align: middle;\n    }\n\n    .dataframe tbody tr th {\n        vertical-align: top;\n    }\n\n    .dataframe thead th {\n        text-align: right;\n    }\n</style>\n<table border=\"1\" class=\"dataframe\">\n  <thead>\n    <tr style=\"text-align: right;\">\n      <th></th>\n      <th></th>\n      <th></th>\n      <th>n_instances</th>\n      <th>least_squares</th>\n      <th>lasso_regression</th>\n      <th>ridge_regression</th>\n      <th>matrix_multiplication</th>\n    </tr>\n    <tr>\n      <th>Data X</th>\n      <th>params_n_experts</th>\n      <th>params_max_depth</th>\n      <th></th>\n      <th></th>\n      <th></th>\n      <th></th>\n      <th></th>\n    </tr>\n  </thead>\n  <tbody>\n    <tr>\n      <th rowspan=\"8\" valign=\"top\">steel_input.pd</th>\n      <th rowspan=\"2\" valign=\"top\">2</th>\n      <th>2</th>\n      <td>1</td>\n      <td>0.644497</td>\n      <td>0.553313</td>\n      <td>0.641406</td>\n      <td>0.593496</td>\n    </tr>\n    <tr>\n      <th>3</th>\n      <td>1</td>\n      <td>0.612042</td>\n      <td>0.586296</td>\n      <td>0.604854</td>\n      <td>0.600202</td>\n    </tr>\n    <tr>\n      <th rowspan=\"3\" valign=\"top\">3</th>\n      <th>1</th>\n      <td>1</td>\n      <td>0.555386</td>\n      <td>0.550740</td>\n      <td>0.555379</td>\n      <td>0.540437</td>\n    </tr>\n    <tr>\n      <th>2</th>\n      <td>1</td>\n      <td>0.569294</td>\n      <td>0.572905</td>\n      <td>0.570832</td>\n      <td>0.575992</td>\n    </tr>\n    <tr>\n      <th>3</th>\n      <td>2</td>\n      <td>0.652241</td>\n      <td>0.623395</td>\n      <td>0.651468</td>\n      <td>0.618752</td>\n    </tr>\n    <tr>\n      <th rowspan=\"2\" valign=\"top\">4</th>\n      <th>1</th>\n      <td>1</td>\n      <td>0.564665</td>\n      <td>0.535809</td>\n      <td>0.563634</td>\n      <td>0.533748</td>\n    </tr>\n    <tr>\n      <th>3</th>\n      <td>2</td>\n      <td>0.633188</td>\n      <td>0.611785</td>\n      <td>0.649395</td>\n      <td>0.615668</td>\n    </tr>\n    <tr>\n      <th>5</th>\n      <th>1</th>\n      <td>1</td>\n      <td>0.680581</td>\n      <td>0.538887</td>\n      <td>0.688817</td>\n      <td>0.596598</td>\n    </tr>\n  </tbody>\n</table>\n</div>"
     },
     "metadata": {},
     "execution_count": 15
    }
   ],
   "source": [
    "df.groupby(['Data X', 'params_n_experts','params_max_depth']).agg(\n",
    "    n_instances=('number', 'size'),\n",
    "    least_squares=('user_attrs_val_least_squares_linear_regression', 'mean'),\n",
    "    lasso_regression=('user_attrs_val_lasso_regression', 'mean'),\n",
    "    ridge_regression=('user_attrs_val_ridge_regression', 'mean'),\n",
    "    matrix_multiplication=('user_attrs_val_matmul', 'mean'),\n",
    "    )"
   ]
  },
  {
   "cell_type": "code",
   "execution_count": null,
   "metadata": {},
   "outputs": [],
   "source": []
  }
 ]
}