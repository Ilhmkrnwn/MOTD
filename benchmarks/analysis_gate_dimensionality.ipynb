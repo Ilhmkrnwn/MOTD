{
 "metadata": {
  "language_info": {
   "codemirror_mode": {
    "name": "ipython",
    "version": 3
   },
   "file_extension": ".py",
   "mimetype": "text/x-python",
   "name": "python",
   "nbconvert_exporter": "python",
   "pygments_lexer": "ipython3",
   "version": "3.8.5"
  },
  "orig_nbformat": 4,
  "kernelspec": {
   "name": "python3",
   "display_name": "Python 3.8.5 64-bit ('MA1': conda)"
  },
  "interpreter": {
   "hash": "5ae178ee97b2b9495f18450d26f0b5808955ba0c9034008c9c01195a20c2e958"
  }
 },
 "nbformat": 4,
 "nbformat_minor": 2,
 "cells": [
  {
   "cell_type": "code",
   "execution_count": 1,
   "metadata": {},
   "outputs": [],
   "source": [
    "import pickle\n",
    "import pandas as pd\n",
    "import numpy as np"
   ]
  },
  {
   "cell_type": "code",
   "execution_count": 3,
   "metadata": {},
   "outputs": [],
   "source": [
    "df = pd.read_pickle(\"dataframes/df_fi_methods3.pd\")"
   ]
  },
  {
   "cell_type": "code",
   "execution_count": 4,
   "metadata": {},
   "outputs": [
    {
     "output_type": "execute_result",
     "data": {
      "text/plain": [
       "                  dataset  feature_importance_train  feature_importance_test  \\\n",
       "0       banknote_input.pd                  0.967813                 0.958661   \n",
       "1          adult_input.pd                  0.832376                 0.830579   \n",
       "2           bank_input.pd                  0.906817                 0.905259   \n",
       "3  breast_cancer_input.np                  0.960088                 0.927806   \n",
       "4           hrss_input.pd                  0.768329                 0.767799   \n",
       "5           iris_input.pd                  0.985600                 0.954133   \n",
       "6      occupancy_input.pd                  0.990962                 0.989930   \n",
       "7           pdm6_input.pd                  0.972146                 0.971152   \n",
       "8     sensorless_input.pd                  0.541536                 0.537123   \n",
       "9          steel_input.pd                  0.597770                 0.578606   \n",
       "\n",
       "   feature_importance_lda_train  feature_importance_lda_test  PCA_train  \\\n",
       "0                      0.978943                     0.972184   0.973666   \n",
       "1                      0.838471                     0.834552   0.840702   \n",
       "2                      0.907590                     0.906258   0.906863   \n",
       "3                      0.950089                     0.911645   0.950702   \n",
       "4                      0.767243                     0.766938   0.768862   \n",
       "5                      0.985867                     0.952267   0.982800   \n",
       "6                      0.989244                     0.988113   0.989283   \n",
       "7                      0.973101                     0.971900   0.971845   \n",
       "8                      0.355926                     0.353240   0.520051   \n",
       "9                      0.595987                     0.571643   0.601180   \n",
       "\n",
       "   PCA_test  None_train  None_test  \n",
       "0  0.961488    0.997814   0.994899  \n",
       "1  0.825602    0.847409   0.802959  \n",
       "2  0.904610    0.909233   0.886461  \n",
       "3  0.913522    0.971212   0.929433  \n",
       "4  0.768350    0.770507   0.769917  \n",
       "5  0.928800    0.990800   0.945600  \n",
       "6  0.988108    0.992299   0.991020  \n",
       "7  0.970892    0.974818   0.972636  \n",
       "8  0.518988    0.550860   0.545978  \n",
       "9  0.584973    0.669243   0.642412  "
      ],
      "text/html": "<div>\n<style scoped>\n    .dataframe tbody tr th:only-of-type {\n        vertical-align: middle;\n    }\n\n    .dataframe tbody tr th {\n        vertical-align: top;\n    }\n\n    .dataframe thead th {\n        text-align: right;\n    }\n</style>\n<table border=\"1\" class=\"dataframe\">\n  <thead>\n    <tr style=\"text-align: right;\">\n      <th></th>\n      <th>dataset</th>\n      <th>feature_importance_train</th>\n      <th>feature_importance_test</th>\n      <th>feature_importance_lda_train</th>\n      <th>feature_importance_lda_test</th>\n      <th>PCA_train</th>\n      <th>PCA_test</th>\n      <th>None_train</th>\n      <th>None_test</th>\n    </tr>\n  </thead>\n  <tbody>\n    <tr>\n      <th>0</th>\n      <td>banknote_input.pd</td>\n      <td>0.967813</td>\n      <td>0.958661</td>\n      <td>0.978943</td>\n      <td>0.972184</td>\n      <td>0.973666</td>\n      <td>0.961488</td>\n      <td>0.997814</td>\n      <td>0.994899</td>\n    </tr>\n    <tr>\n      <th>1</th>\n      <td>adult_input.pd</td>\n      <td>0.832376</td>\n      <td>0.830579</td>\n      <td>0.838471</td>\n      <td>0.834552</td>\n      <td>0.840702</td>\n      <td>0.825602</td>\n      <td>0.847409</td>\n      <td>0.802959</td>\n    </tr>\n    <tr>\n      <th>2</th>\n      <td>bank_input.pd</td>\n      <td>0.906817</td>\n      <td>0.905259</td>\n      <td>0.907590</td>\n      <td>0.906258</td>\n      <td>0.906863</td>\n      <td>0.904610</td>\n      <td>0.909233</td>\n      <td>0.886461</td>\n    </tr>\n    <tr>\n      <th>3</th>\n      <td>breast_cancer_input.np</td>\n      <td>0.960088</td>\n      <td>0.927806</td>\n      <td>0.950089</td>\n      <td>0.911645</td>\n      <td>0.950702</td>\n      <td>0.913522</td>\n      <td>0.971212</td>\n      <td>0.929433</td>\n    </tr>\n    <tr>\n      <th>4</th>\n      <td>hrss_input.pd</td>\n      <td>0.768329</td>\n      <td>0.767799</td>\n      <td>0.767243</td>\n      <td>0.766938</td>\n      <td>0.768862</td>\n      <td>0.768350</td>\n      <td>0.770507</td>\n      <td>0.769917</td>\n    </tr>\n    <tr>\n      <th>5</th>\n      <td>iris_input.pd</td>\n      <td>0.985600</td>\n      <td>0.954133</td>\n      <td>0.985867</td>\n      <td>0.952267</td>\n      <td>0.982800</td>\n      <td>0.928800</td>\n      <td>0.990800</td>\n      <td>0.945600</td>\n    </tr>\n    <tr>\n      <th>6</th>\n      <td>occupancy_input.pd</td>\n      <td>0.990962</td>\n      <td>0.989930</td>\n      <td>0.989244</td>\n      <td>0.988113</td>\n      <td>0.989283</td>\n      <td>0.988108</td>\n      <td>0.992299</td>\n      <td>0.991020</td>\n    </tr>\n    <tr>\n      <th>7</th>\n      <td>pdm6_input.pd</td>\n      <td>0.972146</td>\n      <td>0.971152</td>\n      <td>0.973101</td>\n      <td>0.971900</td>\n      <td>0.971845</td>\n      <td>0.970892</td>\n      <td>0.974818</td>\n      <td>0.972636</td>\n    </tr>\n    <tr>\n      <th>8</th>\n      <td>sensorless_input.pd</td>\n      <td>0.541536</td>\n      <td>0.537123</td>\n      <td>0.355926</td>\n      <td>0.353240</td>\n      <td>0.520051</td>\n      <td>0.518988</td>\n      <td>0.550860</td>\n      <td>0.545978</td>\n    </tr>\n    <tr>\n      <th>9</th>\n      <td>steel_input.pd</td>\n      <td>0.597770</td>\n      <td>0.578606</td>\n      <td>0.595987</td>\n      <td>0.571643</td>\n      <td>0.601180</td>\n      <td>0.584973</td>\n      <td>0.669243</td>\n      <td>0.642412</td>\n    </tr>\n  </tbody>\n</table>\n</div>"
     },
     "metadata": {},
     "execution_count": 4
    }
   ],
   "source": [
    "df"
   ]
  },
  {
   "cell_type": "code",
   "execution_count": 10,
   "metadata": {},
   "outputs": [],
   "source": [
    "df_intersections = pickle.load(open(\"dataframes/df_intersections.pd\", \"rb\"))"
   ]
  },
  {
   "cell_type": "code",
   "execution_count": 12,
   "metadata": {},
   "outputs": [
    {
     "output_type": "execute_result",
     "data": {
      "text/plain": [
       "                  dataset  n_features  intersection  feature_importance_train  \\\n",
       "0       banknote_input.pd           5           0.5                  0.967813   \n",
       "1          adult_input.pd         105           0.0                  0.832376   \n",
       "2           bank_input.pd          64           0.0                  0.906817   \n",
       "3  breast_cancer_input.np          11           0.0                  0.960088   \n",
       "4           hrss_input.pd          19           0.0                  0.768329   \n",
       "5           iris_input.pd           5           1.0                  0.985600   \n",
       "6      occupancy_input.pd           6           0.0                  0.990962   \n",
       "7           pdm6_input.pd           9           0.5                  0.972146   \n",
       "8     sensorless_input.pd          49           0.0                  0.541536   \n",
       "9          steel_input.pd          28           0.0                  0.597770   \n",
       "\n",
       "   feature_importance_test  feature_importance_lda_train  \\\n",
       "0                 0.958661                      0.978943   \n",
       "1                 0.830579                      0.838471   \n",
       "2                 0.905259                      0.907590   \n",
       "3                 0.927806                      0.950089   \n",
       "4                 0.767799                      0.767243   \n",
       "5                 0.954133                      0.985867   \n",
       "6                 0.989930                      0.989244   \n",
       "7                 0.971152                      0.973101   \n",
       "8                 0.537123                      0.355926   \n",
       "9                 0.578606                      0.595987   \n",
       "\n",
       "   feature_importance_lda_test  PCA_train  PCA_test  None_train  None_test  \n",
       "0                     0.972184   0.973666  0.961488    0.997814   0.994899  \n",
       "1                     0.834552   0.840702  0.825602    0.847409   0.802959  \n",
       "2                     0.906258   0.906863  0.904610    0.909233   0.886461  \n",
       "3                     0.911645   0.950702  0.913522    0.971212   0.929433  \n",
       "4                     0.766938   0.768862  0.768350    0.770507   0.769917  \n",
       "5                     0.952267   0.982800  0.928800    0.990800   0.945600  \n",
       "6                     0.988113   0.989283  0.988108    0.992299   0.991020  \n",
       "7                     0.971900   0.971845  0.970892    0.974818   0.972636  \n",
       "8                     0.353240   0.520051  0.518988    0.550860   0.545978  \n",
       "9                     0.571643   0.601180  0.584973    0.669243   0.642412  "
      ],
      "text/html": "<div>\n<style scoped>\n    .dataframe tbody tr th:only-of-type {\n        vertical-align: middle;\n    }\n\n    .dataframe tbody tr th {\n        vertical-align: top;\n    }\n\n    .dataframe thead th {\n        text-align: right;\n    }\n</style>\n<table border=\"1\" class=\"dataframe\">\n  <thead>\n    <tr style=\"text-align: right;\">\n      <th></th>\n      <th>dataset</th>\n      <th>n_features</th>\n      <th>intersection</th>\n      <th>feature_importance_train</th>\n      <th>feature_importance_test</th>\n      <th>feature_importance_lda_train</th>\n      <th>feature_importance_lda_test</th>\n      <th>PCA_train</th>\n      <th>PCA_test</th>\n      <th>None_train</th>\n      <th>None_test</th>\n    </tr>\n  </thead>\n  <tbody>\n    <tr>\n      <th>0</th>\n      <td>banknote_input.pd</td>\n      <td>5</td>\n      <td>0.5</td>\n      <td>0.967813</td>\n      <td>0.958661</td>\n      <td>0.978943</td>\n      <td>0.972184</td>\n      <td>0.973666</td>\n      <td>0.961488</td>\n      <td>0.997814</td>\n      <td>0.994899</td>\n    </tr>\n    <tr>\n      <th>1</th>\n      <td>adult_input.pd</td>\n      <td>105</td>\n      <td>0.0</td>\n      <td>0.832376</td>\n      <td>0.830579</td>\n      <td>0.838471</td>\n      <td>0.834552</td>\n      <td>0.840702</td>\n      <td>0.825602</td>\n      <td>0.847409</td>\n      <td>0.802959</td>\n    </tr>\n    <tr>\n      <th>2</th>\n      <td>bank_input.pd</td>\n      <td>64</td>\n      <td>0.0</td>\n      <td>0.906817</td>\n      <td>0.905259</td>\n      <td>0.907590</td>\n      <td>0.906258</td>\n      <td>0.906863</td>\n      <td>0.904610</td>\n      <td>0.909233</td>\n      <td>0.886461</td>\n    </tr>\n    <tr>\n      <th>3</th>\n      <td>breast_cancer_input.np</td>\n      <td>11</td>\n      <td>0.0</td>\n      <td>0.960088</td>\n      <td>0.927806</td>\n      <td>0.950089</td>\n      <td>0.911645</td>\n      <td>0.950702</td>\n      <td>0.913522</td>\n      <td>0.971212</td>\n      <td>0.929433</td>\n    </tr>\n    <tr>\n      <th>4</th>\n      <td>hrss_input.pd</td>\n      <td>19</td>\n      <td>0.0</td>\n      <td>0.768329</td>\n      <td>0.767799</td>\n      <td>0.767243</td>\n      <td>0.766938</td>\n      <td>0.768862</td>\n      <td>0.768350</td>\n      <td>0.770507</td>\n      <td>0.769917</td>\n    </tr>\n    <tr>\n      <th>5</th>\n      <td>iris_input.pd</td>\n      <td>5</td>\n      <td>1.0</td>\n      <td>0.985600</td>\n      <td>0.954133</td>\n      <td>0.985867</td>\n      <td>0.952267</td>\n      <td>0.982800</td>\n      <td>0.928800</td>\n      <td>0.990800</td>\n      <td>0.945600</td>\n    </tr>\n    <tr>\n      <th>6</th>\n      <td>occupancy_input.pd</td>\n      <td>6</td>\n      <td>0.0</td>\n      <td>0.990962</td>\n      <td>0.989930</td>\n      <td>0.989244</td>\n      <td>0.988113</td>\n      <td>0.989283</td>\n      <td>0.988108</td>\n      <td>0.992299</td>\n      <td>0.991020</td>\n    </tr>\n    <tr>\n      <th>7</th>\n      <td>pdm6_input.pd</td>\n      <td>9</td>\n      <td>0.5</td>\n      <td>0.972146</td>\n      <td>0.971152</td>\n      <td>0.973101</td>\n      <td>0.971900</td>\n      <td>0.971845</td>\n      <td>0.970892</td>\n      <td>0.974818</td>\n      <td>0.972636</td>\n    </tr>\n    <tr>\n      <th>8</th>\n      <td>sensorless_input.pd</td>\n      <td>49</td>\n      <td>0.0</td>\n      <td>0.541536</td>\n      <td>0.537123</td>\n      <td>0.355926</td>\n      <td>0.353240</td>\n      <td>0.520051</td>\n      <td>0.518988</td>\n      <td>0.550860</td>\n      <td>0.545978</td>\n    </tr>\n    <tr>\n      <th>9</th>\n      <td>steel_input.pd</td>\n      <td>28</td>\n      <td>0.0</td>\n      <td>0.597770</td>\n      <td>0.578606</td>\n      <td>0.595987</td>\n      <td>0.571643</td>\n      <td>0.601180</td>\n      <td>0.584973</td>\n      <td>0.669243</td>\n      <td>0.642412</td>\n    </tr>\n  </tbody>\n</table>\n</div>"
     },
     "metadata": {},
     "execution_count": 12
    }
   ],
   "source": [
    "df_c = pd.concat([df_intersections.reset_index(drop=True), df], axis=1)\n",
    "df_c = df_c.loc[:,~df_c.columns.duplicated()]\n",
    "df_c"
   ]
  },
  {
   "cell_type": "code",
   "execution_count": 16,
   "metadata": {},
   "outputs": [
    {
     "output_type": "stream",
     "name": "stdout",
     "text": [
      "banknote & 4 & 0.5 & 0.96 & 0.97 & 0.96 & 0.99 \\\\\nadult & 104 & 0.0 & 0.83 & 0.83 & 0.83 & 0.80 \\\\\nbank & 63 & 0.0 & 0.91 & 0.91 & 0.90 & 0.89 \\\\\nbreast cancer & 10 & 0.0 & 0.93 & 0.91 & 0.91 & 0.93 \\\\\nhrss & 18 & 0.0 & 0.77 & 0.77 & 0.77 & 0.77 \\\\\niris & 4 & 1.0 & 0.95 & 0.95 & 0.93 & 0.95 \\\\\noccupancy & 5 & 0.0 & 0.99 & 0.99 & 0.99 & 0.99 \\\\\npdm6 & 8 & 0.5 & 0.97 & 0.97 & 0.97 & 0.97 \\\\\nsensorless & 48 & 0.0 & 0.54 & 0.35 & 0.52 & 0.55 \\\\\nsteel & 27 & 0.0 & 0.58 & 0.57 & 0.58 & 0.64 \\\\\n"
     ]
    }
   ],
   "source": [
    "for index, row in df_c.iterrows():\n",
    "    print(row.dataset.replace(\"_input\",\"\").replace(\".pd\",\"\").replace(\".np\",\"\").replace(\"_\",\" \"), \"&\",\n",
    "     row.n_features - 1, \"&\", row.intersection, \"&\",\n",
    "      \"%.2f\" % round(row.feature_importance_test,2), \"&\",\n",
    "       \"%.2f\" % round(row.feature_importance_lda_test,2), \"&\",\n",
    "       \"%.2f\" % round(row.PCA_test,2),\"&\", \n",
    "       \"%.2f\" % round(row.None_test,2), \"\\\\\\\\\")"
   ]
  },
  {
   "cell_type": "code",
   "execution_count": null,
   "metadata": {},
   "outputs": [],
   "source": []
  }
 ]
}